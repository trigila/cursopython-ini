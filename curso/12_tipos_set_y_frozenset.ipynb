{
 "cells": [
  {
   "cell_type": "markdown",
   "metadata": {},
   "source": [
    "[![imagenes](imagenes/pythonista.png)](https://pythonista.mx)"
   ]
  },
  {
   "cell_type": "markdown",
   "metadata": {},
   "source": [
    "# Objetos tipo _set_ y _frozenset_.\n",
    "\n",
    "Existen colecciones de objetos en Python que permiten realizar operaciones con conjuntos. Son un grupo de objetos únicos y no ordenados.\n",
    "Estos tipos de datos no son indexables y por lo tanto tampoco se pueden rebanar.\n",
    "\n",
    "## Diagramas de Venn.\n",
    "Para ilustrar de mejor manera los conceptos relacionados con conjuntos se  utilizarán diagramas de Venn y su relación entre 2 conjuntos genéricos.\n",
    "![imagenes/conjuntos.png](imagenes/conjuntos.png)"
   ]
  },
  {
   "cell_type": "markdown",
   "metadata": {},
   "source": [
    "## Objetos tipo _set_.\n",
    "\n",
    "### Definición de un objeto tipo _set()_.\n",
    "\n",
    "Los elementos contenidos en un objeto tipo _set_ deben ser de de tipo inmutable.\n",
    "\n",
    "Los objetos tipo _set_ se definen mediante el uso de llaves \"*{*\", \"*}*\", pero a diferencia de los objetos de tipo _dict_, sólo se ingresan una sucesión de objetos inmutables.\n",
    "\n",
    "La función _set()_ a la cual se le ingresa un objeto iterable.\n",
    "\n",
    "``` \n",
    "set(<objeto iterable>)\n",
    "```\n",
    "**Ejemplos:** "
   ]
  },
  {
   "cell_type": "code",
   "execution_count": null,
   "metadata": {},
   "outputs": [],
   "source": [
    "{1, 'dos', 3.0, '4'}"
   ]
  },
  {
   "cell_type": "code",
   "execution_count": null,
   "metadata": {},
   "outputs": [],
   "source": [
    "{2, 2., 1 + 1, \"dos\"}"
   ]
  },
  {
   "cell_type": "code",
   "execution_count": null,
   "metadata": {},
   "outputs": [],
   "source": [
    "set({'id_1': 3, 'id_2': 4, 'id_3': 5, 'id_4': 6})"
   ]
  },
  {
   "cell_type": "code",
   "execution_count": null,
   "metadata": {},
   "outputs": [],
   "source": [
    "{[[12, 3, 27], [True, 60]]}"
   ]
  },
  {
   "cell_type": "code",
   "execution_count": null,
   "metadata": {},
   "outputs": [],
   "source": [
    "{(12, 3, 27), (True, 60)}"
   ]
  },
  {
   "cell_type": "markdown",
   "metadata": {},
   "source": [
    "## Métodos del tipo _set_.\n",
    "\n",
    "### Métodos de manipulación de objetos tipo set.\n",
    "#### _add()_.\n",
    "Añade un elemento que se ingresa como argumento al objeto tipo _set_. Si ya hay un objeto equivalente, no se agrega uno nuevo.\n",
    "\n",
    "**Ejemplos:**"
   ]
  },
  {
   "cell_type": "code",
   "execution_count": null,
   "metadata": {},
   "outputs": [],
   "source": [
    "conjunto = {1, 'dos', 3.0, '4'}"
   ]
  },
  {
   "cell_type": "code",
   "execution_count": null,
   "metadata": {},
   "outputs": [],
   "source": [
    "conjunto.add(True)"
   ]
  },
  {
   "cell_type": "code",
   "execution_count": null,
   "metadata": {},
   "outputs": [],
   "source": [
    "conjunto"
   ]
  },
  {
   "cell_type": "code",
   "execution_count": null,
   "metadata": {},
   "outputs": [],
   "source": [
    "conjunto.add(False)"
   ]
  },
  {
   "cell_type": "code",
   "execution_count": null,
   "metadata": {},
   "outputs": [],
   "source": [
    "conjunto"
   ]
  },
  {
   "cell_type": "markdown",
   "metadata": {},
   "source": [
    "#### _remove()_.\n",
    "Busca y elimina al elemento que se ingresa como argumento. En caso de no encontrarlo, envía un mensaje de error.\n",
    "\n",
    "**Ejemplos:**"
   ]
  },
  {
   "cell_type": "code",
   "execution_count": null,
   "metadata": {},
   "outputs": [],
   "source": [
    "conjunto = {1, 'dos', 3.0, '4'}"
   ]
  },
  {
   "cell_type": "code",
   "execution_count": null,
   "metadata": {},
   "outputs": [],
   "source": [
    "conjunto.remove(3)"
   ]
  },
  {
   "cell_type": "code",
   "execution_count": null,
   "metadata": {},
   "outputs": [],
   "source": [
    "conjunto"
   ]
  },
  {
   "cell_type": "code",
   "execution_count": null,
   "metadata": {},
   "outputs": [],
   "source": [
    "conjunto.remove(3)"
   ]
  },
  {
   "cell_type": "markdown",
   "metadata": {},
   "source": [
    "#### _discard()_.\n",
    "Busca y elimina al elemento que se ingresa como argumento. En caso de no encontrarlo, no regresa nada.\n",
    "\n",
    "**Ejemplos:**"
   ]
  },
  {
   "cell_type": "code",
   "execution_count": null,
   "metadata": {},
   "outputs": [],
   "source": [
    "conjunto = {1, 'dos', 3.0, '4'}"
   ]
  },
  {
   "cell_type": "code",
   "execution_count": null,
   "metadata": {},
   "outputs": [],
   "source": [
    "conjunto.discard(3)"
   ]
  },
  {
   "cell_type": "code",
   "execution_count": null,
   "metadata": {},
   "outputs": [],
   "source": [
    "conjunto"
   ]
  },
  {
   "cell_type": "code",
   "execution_count": null,
   "metadata": {},
   "outputs": [],
   "source": [
    "conjunto.discard(3)"
   ]
  },
  {
   "cell_type": "markdown",
   "metadata": {},
   "source": [
    "#### _pop()_.\n",
    "Regresas y elimina un elemento del objeto tipo _set_. Cuando ya no existen elementos, se generan un error de tipo _KeyError_\n",
    "\n",
    "**Ejemplos:**"
   ]
  },
  {
   "cell_type": "code",
   "execution_count": null,
   "metadata": {},
   "outputs": [],
   "source": [
    "conjunto = {1, 'dos', 3.0, '4'}"
   ]
  },
  {
   "cell_type": "code",
   "execution_count": null,
   "metadata": {},
   "outputs": [],
   "source": [
    "conjunto.pop()"
   ]
  },
  {
   "cell_type": "code",
   "execution_count": null,
   "metadata": {},
   "outputs": [],
   "source": [
    "conjunto"
   ]
  },
  {
   "cell_type": "code",
   "execution_count": null,
   "metadata": {},
   "outputs": [],
   "source": [
    "conjunto.pop()"
   ]
  },
  {
   "cell_type": "code",
   "execution_count": null,
   "metadata": {},
   "outputs": [],
   "source": [
    "conjunto"
   ]
  },
  {
   "cell_type": "code",
   "execution_count": null,
   "metadata": {},
   "outputs": [],
   "source": [
    "conjunto.pop()"
   ]
  },
  {
   "cell_type": "code",
   "execution_count": null,
   "metadata": {},
   "outputs": [],
   "source": [
    "conjunto"
   ]
  },
  {
   "cell_type": "code",
   "execution_count": null,
   "metadata": {},
   "outputs": [],
   "source": [
    "conjunto.pop()"
   ]
  },
  {
   "cell_type": "code",
   "execution_count": null,
   "metadata": {},
   "outputs": [],
   "source": [
    "conjunto"
   ]
  },
  {
   "cell_type": "code",
   "execution_count": null,
   "metadata": {},
   "outputs": [],
   "source": [
    "conjunto.pop()"
   ]
  },
  {
   "cell_type": "markdown",
   "metadata": {},
   "source": [
    "#### _copy()_.\n",
    "Regresa una copia exacta del objeto contenido en el objeto tipo _set_. Es similar al rebanado completo de los objetos tipo _list_.\n",
    "\n",
    "**Ejemplo:**"
   ]
  },
  {
   "cell_type": "code",
   "execution_count": null,
   "metadata": {},
   "outputs": [],
   "source": [
    "conjunto = {1, 'dos', 3.0, '4'}"
   ]
  },
  {
   "cell_type": "code",
   "execution_count": null,
   "metadata": {},
   "outputs": [],
   "source": [
    "otro_conjunto = conjunto.copy()"
   ]
  },
  {
   "cell_type": "code",
   "execution_count": null,
   "metadata": {},
   "outputs": [],
   "source": [
    "id(conjunto)"
   ]
  },
  {
   "cell_type": "code",
   "execution_count": null,
   "metadata": {},
   "outputs": [],
   "source": [
    "id(otro_conjunto)"
   ]
  },
  {
   "cell_type": "code",
   "execution_count": null,
   "metadata": {},
   "outputs": [],
   "source": [
    "otro_conjunto"
   ]
  },
  {
   "cell_type": "markdown",
   "metadata": {},
   "source": [
    "#### _clear()_.\n",
    "Elimina todos los elementos del objeto tipo _set_.\n",
    "\n",
    "**Ejemplo:**"
   ]
  },
  {
   "cell_type": "code",
   "execution_count": null,
   "metadata": {},
   "outputs": [],
   "source": [
    "{1, 'dos', 3.0, '4'}\n",
    "conjunto"
   ]
  },
  {
   "cell_type": "code",
   "execution_count": null,
   "metadata": {},
   "outputs": [],
   "source": [
    "conjunto.clear()\n",
    "conjunto"
   ]
  },
  {
   "cell_type": "markdown",
   "metadata": {},
   "source": [
    "### Métodos de evaluación de conjuntos.\n",
    "\n",
    "**Nota:** Los diagramas de Venn ilustran los casos en los que la evaluación da por resultado _True_.\n",
    "\n",
    "#### _isdisjoint()_.\n",
    "Evalúa si dos conjuntos no se intersectan. Si no existen elementos compartidos entre el objeto tipo _set_ al que pertenece el método y el objeto _set_ que se ingresa  como argumento, se regresa el valor _True_. De lo contrario se regresa _False_.\n",
    "\n",
    "![imagenes/isdisjoint.png](imagenes/isdisjoint.png)\n",
    "\n",
    "**Ejemplos:**"
   ]
  },
  {
   "cell_type": "code",
   "execution_count": null,
   "metadata": {},
   "outputs": [],
   "source": [
    "conjunto_a = {1, 2, 3, 4}\n",
    "conjunto_b = {3, 4, 5, 6}\n",
    "conjunto_c = {5, 6, 7}"
   ]
  },
  {
   "cell_type": "code",
   "execution_count": null,
   "metadata": {},
   "outputs": [],
   "source": [
    "conjunto_a.isdisjoint(conjunto_b)"
   ]
  },
  {
   "cell_type": "code",
   "execution_count": null,
   "metadata": {},
   "outputs": [],
   "source": [
    "conjunto_a.isdisjoint(conjunto_c)"
   ]
  },
  {
   "cell_type": "markdown",
   "metadata": {},
   "source": [
    "#### _issubset()_.\n",
    "Si el objeto tipo _set_ al que pertenece el método es subconjunto del objeto _set_ que se ingresa como argumento, se regresa el valor _True_. De lo contrario se regresa _False_.\n",
    "\n",
    "![imagenes/issubset.png](imagenes/issubset.png)\n",
    "\n",
    "**Ejemplos:**\n"
   ]
  },
  {
   "cell_type": "code",
   "execution_count": null,
   "metadata": {},
   "outputs": [],
   "source": [
    "conjunto_a = {1, 2, 3, 4}\n",
    "conjunto_b = {1, 2, 4}\n",
    "conjunto_c = {1}"
   ]
  },
  {
   "cell_type": "code",
   "execution_count": null,
   "metadata": {},
   "outputs": [],
   "source": [
    "conjunto_a.issubset(conjunto_b)"
   ]
  },
  {
   "cell_type": "code",
   "execution_count": null,
   "metadata": {},
   "outputs": [],
   "source": [
    "conjunto_b.issubset(conjunto_a)"
   ]
  },
  {
   "cell_type": "code",
   "execution_count": null,
   "metadata": {},
   "outputs": [],
   "source": [
    "conjunto_c.issubset(conjunto_a)"
   ]
  },
  {
   "cell_type": "markdown",
   "metadata": {},
   "source": [
    "#### _issuperset()_.\n",
    "Si el objeto tipo _set_ que se ingresa como argumento es subconjunto del objeto tipo _set_ al que pertenece el método, se regresa el valor _True_. De lo contrario se regresa _False_.\n",
    "\n",
    "\n",
    "![imagenes/issuperset.png](imagenes/issuperset.png)\n",
    "\n",
    "**Ejemplos:**"
   ]
  },
  {
   "cell_type": "code",
   "execution_count": null,
   "metadata": {},
   "outputs": [],
   "source": [
    "conjunto_a = {1, 2, 3, 4}\n",
    "conjunto_b = {1, 2, 4}\n",
    "conjunto_c = {1}"
   ]
  },
  {
   "cell_type": "code",
   "execution_count": null,
   "metadata": {},
   "outputs": [],
   "source": [
    "conjunto_a.issuperset(conjunto_b)"
   ]
  },
  {
   "cell_type": "code",
   "execution_count": null,
   "metadata": {},
   "outputs": [],
   "source": [
    "conjunto_b.issuperset(conjunto_a)"
   ]
  },
  {
   "cell_type": "code",
   "execution_count": null,
   "metadata": {},
   "outputs": [],
   "source": [
    "conjunto_c.issuperset(conjunto_a)"
   ]
  },
  {
   "cell_type": "markdown",
   "metadata": {},
   "source": [
    "### Métodos de operaciones con conjuntos.\n",
    "\n",
    "#### _union()_.\n",
    "Regresa el resultado de la unión del objeto tipo _set_ al que pertenece el método y el objeto tipo _set_ que se ingresa como argumento.\n",
    "\n",
    "![imagenes/union.png](imagenes/union.png)\n",
    "\n",
    "**Ejemplo:**"
   ]
  },
  {
   "cell_type": "code",
   "execution_count": null,
   "metadata": {},
   "outputs": [],
   "source": [
    "conjunto_a = {1, 2, 3, 4}\n",
    "conjunto_b = {3, 4, 5, 6}\n",
    "conjunto_c = {5, 6, 7}"
   ]
  },
  {
   "cell_type": "code",
   "execution_count": null,
   "metadata": {},
   "outputs": [],
   "source": [
    "conjunto_a.union(conjunto_b)"
   ]
  },
  {
   "cell_type": "code",
   "execution_count": null,
   "metadata": {},
   "outputs": [],
   "source": [
    "conjunto_a.union(conjunto_c)"
   ]
  },
  {
   "cell_type": "markdown",
   "metadata": {},
   "source": [
    "#### _update()_.\n",
    "Sustituye al objeto tipo _set_ con el resultado de la unión de dicho objeto con el objeto tipo _set_ que se ingresa como argumento.\n",
    "\n",
    "**Ejemplos:**"
   ]
  },
  {
   "cell_type": "code",
   "execution_count": null,
   "metadata": {},
   "outputs": [],
   "source": [
    "conjunto_a = {1, 2, 3, 4}\n",
    "conjunto_b = {3, 4, 5, 6}\n",
    "conjunto_c = {5, 6, 7}"
   ]
  },
  {
   "cell_type": "code",
   "execution_count": null,
   "metadata": {},
   "outputs": [],
   "source": [
    "conjunto_a.update(conjunto_b)"
   ]
  },
  {
   "cell_type": "code",
   "execution_count": null,
   "metadata": {},
   "outputs": [],
   "source": [
    "conjunto_a"
   ]
  },
  {
   "cell_type": "code",
   "execution_count": null,
   "metadata": {},
   "outputs": [],
   "source": [
    "conjunto_a.update(conjunto_c)\n",
    "conjunto_a"
   ]
  },
  {
   "cell_type": "markdown",
   "metadata": {},
   "source": [
    "#### _difference()_.\n",
    "Regresa el resultado de la diferencia entre el objeto tipo _set_ al que pertenece el método y el objeto tipo _set_ que se ingresa como argumento.\n",
    "\n",
    "![imagenes/difference.png](imagenes/difference.png)\n",
    "\n",
    "**Ejemplos:**\n"
   ]
  },
  {
   "cell_type": "code",
   "execution_count": null,
   "metadata": {},
   "outputs": [],
   "source": [
    "conjunto_a = {1, 2, 3, 4}\n",
    "conjunto_b = {3, 4, 5, 6}\n",
    "conjunto_c = {5, 6, 7}"
   ]
  },
  {
   "cell_type": "code",
   "execution_count": null,
   "metadata": {},
   "outputs": [],
   "source": [
    "conjunto_a.difference(conjunto_b)"
   ]
  },
  {
   "cell_type": "code",
   "execution_count": null,
   "metadata": {},
   "outputs": [],
   "source": [
    "conjunto_a.difference(conjunto_c)"
   ]
  },
  {
   "cell_type": "markdown",
   "metadata": {},
   "source": [
    "#### *difference\\_update()*.\n",
    "\n",
    "Sustituye al objeto tipo _set_ al que pertenece el método con la diferencia entre dicho objeto y el objeto tipo _set_ que se ingresa como argumento.\n",
    "\n",
    "**Ejemplos:**"
   ]
  },
  {
   "cell_type": "code",
   "execution_count": null,
   "metadata": {},
   "outputs": [],
   "source": [
    "conjunto_a = {1, 2, 3, 4}\n",
    "conjunto_b = {3, 4, 5, 6}"
   ]
  },
  {
   "cell_type": "code",
   "execution_count": null,
   "metadata": {},
   "outputs": [],
   "source": [
    "conjunto_a.difference_update(conjunto_b)"
   ]
  },
  {
   "cell_type": "code",
   "execution_count": null,
   "metadata": {},
   "outputs": [],
   "source": [
    "conjunto_a"
   ]
  },
  {
   "cell_type": "markdown",
   "metadata": {},
   "source": [
    "#### *intersection()*.\n",
    "Regresa el resultado de la intersección entre el objeto tipo _set_ al que pertenece el método y el objeto tipo _set_ que se ingresa como argumento.\n",
    "\n",
    "![imagenes/intersection.png](imagenes/intersection.png)\n",
    "\n",
    "\n",
    "**Ejemplos:**"
   ]
  },
  {
   "cell_type": "code",
   "execution_count": null,
   "metadata": {},
   "outputs": [],
   "source": [
    "conjunto_a = {1, 2, 3, 4}\n",
    "conjunto_b = {3, 4, 5, 6}"
   ]
  },
  {
   "cell_type": "code",
   "execution_count": null,
   "metadata": {},
   "outputs": [],
   "source": [
    "conjunto_a.intersection(conjunto_b)"
   ]
  },
  {
   "cell_type": "markdown",
   "metadata": {},
   "source": [
    "#### *intersection_update()*.\n",
    "Sustituye al objeto tipo _set_ al que pertenece el método con la intersección entre dicho objeto y el objeto tipo _set_ que se ingresa como argumento.\n",
    "**Ejemplos:**"
   ]
  },
  {
   "cell_type": "code",
   "execution_count": null,
   "metadata": {},
   "outputs": [],
   "source": [
    "conjunto_a = {1, 2, 3, 4}\n",
    "conjunto_b = {3, 4, 5, 6}"
   ]
  },
  {
   "cell_type": "code",
   "execution_count": null,
   "metadata": {},
   "outputs": [],
   "source": [
    "conjunto_a.intersection_update(conjunto_b)\n",
    "conjunto_a"
   ]
  },
  {
   "cell_type": "markdown",
   "metadata": {},
   "source": [
    "#### *symmetric\\_difference()*.\n",
    "Regresa el resultado de la diferencia simétrica entre el objeto tipo _set_ al que pertenece el método y el objeto tipo _set_ que se ingresa como argumento.\n",
    "\n",
    "![imagenes/symmetric_difference.png](imagenes/symmetric_difference.png)\n",
    "\n",
    "**Ejemplos:**\n"
   ]
  },
  {
   "cell_type": "code",
   "execution_count": null,
   "metadata": {},
   "outputs": [],
   "source": [
    "conjunto_a = {1, 2, 3, 4}\n",
    "conjunto_b = {3, 4, 5, 6}"
   ]
  },
  {
   "cell_type": "code",
   "execution_count": null,
   "metadata": {},
   "outputs": [],
   "source": [
    "conjunto_a.symmetric_difference(conjunto_b)"
   ]
  },
  {
   "cell_type": "markdown",
   "metadata": {},
   "source": [
    "#### *symmetric\\_difference\\_update()*.\n",
    "Sustituye al objeto tipo _set_ al que pertenece el método con la diferencia simétrica entre dicho objeto y el objeto tipo _set_ que se ingresa como argumento.\n",
    "\n",
    "**Ejemplos:**"
   ]
  },
  {
   "cell_type": "code",
   "execution_count": null,
   "metadata": {},
   "outputs": [],
   "source": [
    "conjunto_a = {1, 2, 3, 4}\n",
    "conjunto_b = {3, 4, 5, 6}"
   ]
  },
  {
   "cell_type": "code",
   "execution_count": null,
   "metadata": {},
   "outputs": [],
   "source": [
    "conjunto_a.symmetric_difference_update(conjunto_b)\n",
    "conjunto_a"
   ]
  },
  {
   "cell_type": "markdown",
   "metadata": {},
   "source": [
    "## Objetos tipo _frozenset_.\n",
    "\n",
    "Los objetos de tipo frozenset representan conjuntos que no pueden ser modificados una vez que son definidos.\n",
    "\n",
    "### Definición de un objeto tipo _frozenset_.\n",
    "\n",
    "Los objetos tipo _frozenset_ se definen mediante la función _frozenset()_ a la cual se le ingresa un objeto iterable.\n",
    "\n",
    "``` \n",
    "frozenset(<objeto iterable>)\n",
    "```\n",
    "**Ejemplo:**\n"
   ]
  },
  {
   "cell_type": "code",
   "execution_count": null,
   "metadata": {},
   "outputs": [],
   "source": [
    "frozenset([1, 'dos', 3.0, '4'])"
   ]
  },
  {
   "cell_type": "code",
   "execution_count": null,
   "metadata": {},
   "outputs": [],
   "source": [
    "frozenset({2, 2., 1 + 1, \"dos\"})"
   ]
  },
  {
   "cell_type": "code",
   "execution_count": null,
   "metadata": {},
   "outputs": [],
   "source": [
    "frozenset({'id_1': 3, 'id_2': 4, 'id_3': 5, 'id_4': 6})"
   ]
  },
  {
   "cell_type": "markdown",
   "metadata": {},
   "source": [
    "### Métodos del tipo _frozenset_.\n",
    "\n",
    "El tipo _frozenset_ cuentan con los siguientes métodos, los cuales son similares a los de tipo _set_.\n",
    "\n",
    "* _copy()_.\n",
    "* _issubset()_.\n",
    "* _isdisjoint()_.\n",
    "* _issuperset()_.\n",
    "* _union()_.\n",
    "* _difference()_.\n",
    "* _intersection()_.\n",
    "* *symmetric_difference()*.\n",
    "\n",
    "## Iteración con  *for* ... *in* para objetos _set_ y _frozenset_ .\n",
    "\n",
    "**Ejemplo:**"
   ]
  },
  {
   "cell_type": "code",
   "execution_count": null,
   "metadata": {},
   "outputs": [],
   "source": [
    "for elemento in {1, 2, 3, 4}:\n",
    "    print(elemento)"
   ]
  },
  {
   "cell_type": "markdown",
   "metadata": {},
   "source": [
    "## Funciones útiles con los objetos tipo _set_ y tipo _frozenset_. \n",
    "\n",
    "### La función _len()_.\n",
    "\n",
    "La función _len()_ devuelve el número de objetos contenidos en una colección de objetos mediante la siguiente sintaxis:\n",
    "\n",
    "```\n",
    "len(<objeto>)\n",
    "```\n",
    "\n",
    "**Ejemplo:**"
   ]
  },
  {
   "cell_type": "code",
   "execution_count": null,
   "metadata": {},
   "outputs": [],
   "source": [
    "len({1, 2, 3, 4, 5})"
   ]
  },
  {
   "cell_type": "code",
   "execution_count": null,
   "metadata": {},
   "outputs": [],
   "source": [
    "len(frozenset(('gato', 'perro', True)))"
   ]
  },
  {
   "cell_type": "code",
   "execution_count": null,
   "metadata": {},
   "outputs": [],
   "source": [
    "len({(('automóvil', 50, 'gasolina'), ('autobús', 300, 'diesel'))})"
   ]
  },
  {
   "cell_type": "code",
   "execution_count": null,
   "metadata": {},
   "outputs": [],
   "source": [
    "len({})"
   ]
  },
  {
   "cell_type": "markdown",
   "metadata": {},
   "source": [
    "### La función _max()_.\n",
    "\n",
    "La función _max()_ devuelve el elemento de mayor valor contenido en una colección, siempre y cuando dichos objetos sean compatibles, mediante la siguiente sintaxis:\n",
    "  \n",
    "```\n",
    "max(<objeto>)\n",
    "```\n",
    "\n",
    "**Ejemplos:**"
   ]
  },
  {
   "cell_type": "code",
   "execution_count": null,
   "metadata": {},
   "outputs": [],
   "source": [
    "max({1, 2, 3, 4, 5})"
   ]
  },
  {
   "cell_type": "code",
   "execution_count": null,
   "metadata": {},
   "outputs": [],
   "source": [
    "max({'gato', 'perro', True})"
   ]
  },
  {
   "cell_type": "code",
   "execution_count": null,
   "metadata": {},
   "outputs": [],
   "source": [
    "max({'gato', 'perro', 'canario'})"
   ]
  },
  {
   "cell_type": "markdown",
   "metadata": {},
   "source": [
    "### La función _min()_.\n",
    "\n",
    "La función _min()_ devuelve el elemento de menor valor contenido en una colección, siempre y cuando dichos objetos sean compatibles, mediante la siguiente sintaxis:\n",
    "  \n",
    "```\n",
    "max(<objeto>)\n",
    "```\n",
    "\n",
    "**Ejemplos:**"
   ]
  },
  {
   "cell_type": "code",
   "execution_count": null,
   "metadata": {},
   "outputs": [],
   "source": [
    "min({1, 2, 3, 4, 5})"
   ]
  },
  {
   "cell_type": "code",
   "execution_count": null,
   "metadata": {},
   "outputs": [],
   "source": [
    "min({'gato', 'perro', True})"
   ]
  },
  {
   "cell_type": "code",
   "execution_count": null,
   "metadata": {},
   "outputs": [],
   "source": [
    "min({'gato', 'perro', 'canario'})"
   ]
  },
  {
   "cell_type": "markdown",
   "metadata": {},
   "source": [
    "### La función _sum()_.\n",
    "\n",
    "La función _sum()_ devuelve la suma los elementos contenido en una colección, siempre y cuando dichos objetos sean compatibles, mediante la siguiente sintaxis:\n",
    "  \n",
    "```\n",
    "sum(<objeto>)\n",
    "```\n",
    "\n",
    "**Ejemplos:**"
   ]
  },
  {
   "cell_type": "code",
   "execution_count": null,
   "metadata": {},
   "outputs": [],
   "source": [
    "sum({1, 2, 3, 4, 5})"
   ]
  },
  {
   "cell_type": "code",
   "execution_count": null,
   "metadata": {},
   "outputs": [],
   "source": [
    "sum({'gato', 'perro', True})"
   ]
  },
  {
   "cell_type": "markdown",
   "metadata": {},
   "source": [
    "<p style=\"text-align: center\"><a rel=\"license\" href=\"http://creativecommons.org/licenses/by/4.0/\"><img alt=\"Licencia Creative Commons\" style=\"border-width:0\" src=\"https://i.creativecommons.org/l/by/4.0/80x15.png\" /></a><br />Esta obra está bajo una <a rel=\"license\" href=\"http://creativecommons.org/licenses/by/4.0/\">Licencia Creative Commons Atribución 4.0 Internacional</a>.</p>\n",
    "<p style=\"text-align: center\">&copy; José Luis Chiquete Valdivieso. 2018.</p>"
   ]
  }
 ],
 "metadata": {
  "kernelspec": {
   "display_name": "Python 3",
   "language": "python",
   "name": "python3"
  },
  "language_info": {
   "codemirror_mode": {
    "name": "ipython",
    "version": 3
   },
   "file_extension": ".py",
   "mimetype": "text/x-python",
   "name": "python",
   "nbconvert_exporter": "python",
   "pygments_lexer": "ipython3",
   "version": "3.6.4"
  }
 },
 "nbformat": 4,
 "nbformat_minor": 1
}
