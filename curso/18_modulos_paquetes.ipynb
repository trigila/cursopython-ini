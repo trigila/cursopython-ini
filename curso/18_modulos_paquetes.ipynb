{
 "cells": [
  {
   "cell_type": "markdown",
   "metadata": {},
   "source": [
    "[![imagenes](imagenes/pythonista.png)](https://pythonista.mx)"
   ]
  },
  {
   "cell_type": "markdown",
   "metadata": {},
   "source": [
    "# Módulos y paquetes.\n",
    "\n",
    "## Módulos en Python.\n",
    "\n",
    "Python cuenta con una gran biblioteca de módulos.\n",
    "\n",
    "### Consulta de la biblioteca de módulos existentes en el sistema.\n",
    "Los módulos se pueden consultar ejecutando _help(\"modules\")_ en la interfaz interactiva.\n",
    "Los módulos pueden contener funciones y valores, clases y objetos.\n",
    "\n",
    "## Importación de módulos.\n",
    "\n",
    "\n",
    "### La expresión _import_.\n",
    "\n",
    "```\n",
    "import <module>\n",
    "\n",
    "```\n",
    "### Proceso de importación de un módulo.\n",
    "\n",
    "* El intérprete de Python busca en el sistema de archivos local en el orden siguiente:\n",
    "    * El directorio actual desde donde se ejecuta el intéreprete de Python.\n",
    "    * Las rutas predefinidas en la configuración del intérprete de Python.\n",
    "* Al encontrar la primera coicidencia con el nombre módulo, el intérprete lo ejecuta de principio a fin.\n",
    "    * Al importar un módulo por primera vez, Python genera un archivo \"compilado\" con extensión _.pyc_, el cual será reutilizado en las siguientes importaciones del módulo. \n",
    "    * Si el intérprete detecta que el módulo ha sido modificado desde la última vez que se generó su correspondiente archivo _.pyc_, generará uno nuevo.\n",
    "    * El intérprete crea un espacio de nombres al cual le asigna el nombre del módulo y se ligan todos los objetos que son creados por el módulo con su respectivo nombre."
   ]
  },
  {
   "cell_type": "code",
   "execution_count": null,
   "metadata": {},
   "outputs": [],
   "source": [
    "help('modules')"
   ]
  },
  {
   "cell_type": "markdown",
   "metadata": {},
   "source": [
    "### Acceso a un componente contenido en un módulo.\n",
    "\n",
    "Cada objeto creado al ejecutarse el módulo será ligado al espacio de nombres de dicho módulo y será accesible mediante el operador de atributo (*.*).\n",
    "```\n",
    "<modulo>.<componente> \n",
    "```"
   ]
  },
  {
   "cell_type": "code",
   "execution_count": null,
   "metadata": {},
   "outputs": [],
   "source": [
    "import math"
   ]
  },
  {
   "cell_type": "code",
   "execution_count": null,
   "metadata": {},
   "outputs": [],
   "source": [
    "dir(math)"
   ]
  },
  {
   "cell_type": "code",
   "execution_count": null,
   "metadata": {},
   "outputs": [],
   "source": [
    "help(math)"
   ]
  },
  {
   "cell_type": "code",
   "execution_count": null,
   "metadata": {},
   "outputs": [],
   "source": [
    "math.pi"
   ]
  },
  {
   "cell_type": "markdown",
   "metadata": {},
   "source": [
    "### Importando componentes de un módulo en el ámbito global con _from_ ... _import_.\n",
    "\n",
    "Es posible importar exclusivamente un componente del módulo y ligarlo al ámbito global mediantela siguiente sintaxis:\n",
    "```\n",
    "from <modulo> import <componente>\n",
    "```"
   ]
  },
  {
   "cell_type": "code",
   "execution_count": null,
   "metadata": {},
   "outputs": [],
   "source": [
    "from math import pi"
   ]
  },
  {
   "cell_type": "code",
   "execution_count": null,
   "metadata": {},
   "outputs": [],
   "source": [
    "pi"
   ]
  },
  {
   "cell_type": "markdown",
   "metadata": {},
   "source": [
    "### Renombrando módulos y componentes con *as*.\n",
    "\n",
    "Tambien esposible darle otro nombre a un módulo o a un componente de un módulo para evitar colisiones de nombres utilizando la papalbra reservada *as*."
   ]
  },
  {
   "cell_type": "code",
   "execution_count": null,
   "metadata": {},
   "outputs": [],
   "source": [
    "import math as matematicas"
   ]
  },
  {
   "cell_type": "code",
   "execution_count": null,
   "metadata": {},
   "outputs": [],
   "source": [
    "matematicas.pi"
   ]
  },
  {
   "cell_type": "code",
   "execution_count": null,
   "metadata": {},
   "outputs": [],
   "source": [
    "from math import pi as circunferencia"
   ]
  },
  {
   "cell_type": "code",
   "execution_count": null,
   "metadata": {},
   "outputs": [],
   "source": [
    "pi = \"Pi\""
   ]
  },
  {
   "cell_type": "code",
   "execution_count": null,
   "metadata": {},
   "outputs": [],
   "source": [
    "circunferencia"
   ]
  },
  {
   "cell_type": "markdown",
   "metadata": {},
   "source": [
    "### El módulo *\\_\\_builtin\\_\\_*.\n",
    "\n",
    "Además de las palabras reservaddas, el intérprete de Python carga el módulo *\\_\\_builtin\\_\\_* con funciones básicas como *len()* o *print()* entre muchas."
   ]
  },
  {
   "cell_type": "code",
   "execution_count": null,
   "metadata": {},
   "outputs": [],
   "source": [
    "dir(__builtin__)"
   ]
  },
  {
   "cell_type": "markdown",
   "metadata": {},
   "source": [
    "### Paquetes.\n",
    "Los paquetes son directorios en los que se encuentran módulos. Algunos paquetes incluso contienen subdirectorios, los cuales también son paquete.\n",
    "\n",
    "Para acceder a un módulo de un paquete se utiliza la siguiente sintaxis.\n",
    "\n",
    "``` \n",
    "<paquete>.<subdirectorio>.<módulo>\n",
    "```\n",
    "\n",
    "** Ejemplo: **\n",
    "\n",
    "Python 3 incluye el paquete *json* el cual presenta la siguiente estructura.\n",
    "\n",
    "```\n",
    "/usr/lib/python3.5/json/\n",
    "├── decoder.py\n",
    "├── encoder.py\n",
    "├── __init__.py\n",
    "├── scanner.py\n",
    "└── tool.py\n",
    "```"
   ]
  },
  {
   "cell_type": "code",
   "execution_count": null,
   "metadata": {},
   "outputs": [],
   "source": [
    "import json"
   ]
  },
  {
   "cell_type": "code",
   "execution_count": null,
   "metadata": {},
   "outputs": [],
   "source": [
    "help(json)"
   ]
  },
  {
   "cell_type": "code",
   "execution_count": null,
   "metadata": {},
   "outputs": [],
   "source": [
    "dir(json)"
   ]
  },
  {
   "cell_type": "code",
   "execution_count": null,
   "metadata": {},
   "outputs": [],
   "source": [
    "import json.decoder"
   ]
  },
  {
   "cell_type": "code",
   "execution_count": null,
   "metadata": {},
   "outputs": [],
   "source": [
    "help(json.decoder)"
   ]
  },
  {
   "cell_type": "markdown",
   "metadata": {},
   "source": [
    "## Creación de módulos propios.\n",
    "\n",
    "Un módulo no es otra cosa más que un archivo con código de Python. Por lo que mantener una biblioteca de módulos propios no es otra cosa más que conservar nuestros programas en un sitio accesible para Python.\n",
    "\n",
    "Al importar un script como módulo, sólo se usa el nombre de éste sin la extensión _.py_.\n",
    "\n",
    "**Ejemplo:**\n",
    "\n",
    "Teniendo el archivo [modulo.py](modulo.py) guardado en el mismo directorio en el que está ejecutándose el intérprete:\n"
   ]
  },
  {
   "cell_type": "code",
   "execution_count": null,
   "metadata": {},
   "outputs": [],
   "source": [
    "#! /bin/bash/python3\n",
    "\n",
    "'''Ejemplo de un script que puede ser importado como módulo.'''\n",
    "\n",
    "titulo = \"Espacio muestral\"\n",
    "datos = (76, 81, 75, 77, 80, 75, 76, 79, 75)\n",
    "\n",
    "def promedio(encabezado, muestra):\n",
    "    '''Despliega el contenido de encabezado,así como el cálculo del promedio de muestra, \n",
    "    ingresado en una lista o tupla.'''  \n",
    "    print(\"El promedio de %s con %d elementos es %f.\" % (titulo, len(muestra), sum(muestra) / len(muestra)))\n",
    "\n",
    "promedio(titulo, datos)"
   ]
  },
  {
   "cell_type": "markdown",
   "metadata": {},
   "source": [
    "Al realizar la importación, el código se ejecuta y los objetos que se crearon y ligaron a un nombre en la ejecución, se añanden al espacio de nombres del módulo."
   ]
  },
  {
   "cell_type": "code",
   "execution_count": null,
   "metadata": {},
   "outputs": [],
   "source": [
    "import modulo as mod"
   ]
  },
  {
   "cell_type": "code",
   "execution_count": null,
   "metadata": {},
   "outputs": [],
   "source": [
    "help(mod)"
   ]
  },
  {
   "cell_type": "code",
   "execution_count": null,
   "metadata": {},
   "outputs": [],
   "source": [
    "mod.datos"
   ]
  },
  {
   "cell_type": "code",
   "execution_count": null,
   "metadata": {},
   "outputs": [],
   "source": [
    "mod.promedio('muestra', (1,2,4,5))"
   ]
  },
  {
   "cell_type": "markdown",
   "metadata": {},
   "source": [
    "### Diferenciando scripts de módulos con  *\\_\\_name\\_\\_*.\n",
    "\n",
    "En el ejemplo previo, se puede apreciar que el código se ejecutó de principio a fin, incluyendo una línea que invoca a la función _promedio()_. \n",
    "\n",
    "Si se quisiera importar a este script como un módulo es muy probable que no se desee que se ejecute esa línea final y para esto es necesario poder saber cuando un archivo es ejecutado como un script o como un módulo.\n",
    "Cuando el intérprete importa un módulo, éste se ejecuta desde el espacio de nombres del módulo.\n",
    "El intérprete de Python permite identificar la manera en como se corre o importa un módulo mediante la asignación de un dato a *\\_\\_name\\_\\_*.\n",
    "\n",
    "Cuando el intérprete de Python ejecuta un script, éste es ejecutado desde el ámbitol globa y entonces el valor de *\\_\\_name\\_\\_* es *\"\\_\\_main\\_\\_\"*. "
   ]
  },
  {
   "cell_type": "code",
   "execution_count": null,
   "metadata": {},
   "outputs": [],
   "source": [
    "dir()"
   ]
  },
  {
   "cell_type": "code",
   "execution_count": null,
   "metadata": {},
   "outputs": [],
   "source": [
    "__name__"
   ]
  },
  {
   "cell_type": "markdown",
   "metadata": {},
   "source": [
    "Cuando el intérprete de Python importa un módulo, éste crea un espacio de nombres para dicho módulo\n",
    "y entonces el valor de *\\_\\_name\\_\\_* corresponde al nombre del  módulo."
   ]
  },
  {
   "cell_type": "code",
   "execution_count": null,
   "metadata": {},
   "outputs": [],
   "source": [
    "mod.__name__"
   ]
  },
  {
   "cell_type": "markdown",
   "metadata": {},
   "source": [
    "Aún cuando el propósito de *\\_\\_name\\_\\_* es el de crear espacios de nombres diferenciados para evitar la sobreescritura, también sirve para diferenciar cuando un archivo es usado como un script o como un módulo.\n",
    "\n",
    "**Ejemplo:**\n",
    "El archivo [modulo2.py](modulo2.py) contiene el siguiente código."
   ]
  },
  {
   "cell_type": "code",
   "execution_count": null,
   "metadata": {},
   "outputs": [],
   "source": [
    "#! /bin/bash/python3\n",
    "\n",
    "'''Ejemplo de un script que puede ser importado como módulo y comportarse de forma diferenciada.'''\n",
    "\n",
    "titulo = \"Espacio muestral\"\n",
    "datos = (76, 81, 75, 77, 80, 75, 76, 79, 75)\n",
    "\n",
    "def promedio(encabezado, muestra):\n",
    "    '''Despliega el contenido de encabezado,así como el cálculo del promedio de muestra, \n",
    "    ingresado en una lista o tupla.'''  \n",
    "    print(\"El promedio de %s con %d elementos es %f.\" % (titulo, len(muestra), sum(muestra) / len(muestra)))\n",
    "\n",
    "if __name__ == \"__main__\": \n",
    "    promedio(titulo, datos)"
   ]
  },
  {
   "cell_type": "markdown",
   "metadata": {},
   "source": [
    "De tal forma que la última línea de código es ejecutada sólo cuando el archivo es ejecutado como un script."
   ]
  },
  {
   "cell_type": "code",
   "execution_count": null,
   "metadata": {},
   "outputs": [],
   "source": [
    "%run modulo2.py"
   ]
  },
  {
   "cell_type": "code",
   "execution_count": null,
   "metadata": {},
   "outputs": [],
   "source": [
    "import modulo2"
   ]
  },
  {
   "cell_type": "code",
   "execution_count": null,
   "metadata": {},
   "outputs": [],
   "source": [
    "modulo2.__name__"
   ]
  },
  {
   "cell_type": "code",
   "execution_count": null,
   "metadata": {},
   "outputs": [],
   "source": [
    "help(modulo2)"
   ]
  },
  {
   "cell_type": "markdown",
   "metadata": {},
   "source": [
    "\n",
    "### Paquetes.\n",
    "\n",
    "También es posible crear paquetes, simplemente creando una estructura de subdirectorios. \n",
    "\n",
    "**Ejemplo:**\n",
    "\n",
    "El directorio [paquete](paquete) contiene una estructura de archivos y subdirectorios de esta forma:\n",
    "\n",
    "```\n",
    "paquete\n",
    "├── __init__.py\n",
    "├── primos\n",
    "│   ├── funciones.py\n",
    "│   ├── __init__.py\n",
    "└── promedios.py\n",
    "```\n",
    "\n",
    "#### El archivo *\\_\\_init\\_\\_.py*.\n",
    "\n",
    "Los subdirectorios pueden incluir un archivo *\\_\\_init\\_\\_.py*, cuyo contenido será asignado directamente al nombre del paquete.\n",
    "\n",
    "**Ejemplos:**\n",
    "El archivo [paquete/\\_\\_init\\_\\_.py](paquete/__init__.py) contiene el siguiente código:"
   ]
  },
  {
   "cell_type": "code",
   "execution_count": null,
   "metadata": {},
   "outputs": [],
   "source": [
    "#! /usr/bin/python3\n",
    "'''Paquete que incluye un par de módulos''' \n",
    "\n",
    "def saluda():\n",
    "    print('Bienvenido a paquete.')"
   ]
  },
  {
   "cell_type": "code",
   "execution_count": null,
   "metadata": {},
   "outputs": [],
   "source": [
    "import paquete"
   ]
  },
  {
   "cell_type": "code",
   "execution_count": null,
   "metadata": {},
   "outputs": [],
   "source": [
    "help(paquete)"
   ]
  },
  {
   "cell_type": "code",
   "execution_count": null,
   "metadata": {},
   "outputs": [],
   "source": [
    "paquete.saluda()"
   ]
  },
  {
   "cell_type": "code",
   "execution_count": null,
   "metadata": {},
   "outputs": [],
   "source": [
    "import paquete.promedios"
   ]
  },
  {
   "cell_type": "code",
   "execution_count": null,
   "metadata": {},
   "outputs": [],
   "source": [
    "dir(paquete.promedios)"
   ]
  },
  {
   "cell_type": "code",
   "execution_count": null,
   "metadata": {},
   "outputs": [],
   "source": [
    "paquete.promedios.promedio_titulo(\"Muestreo\", 1, 5, 7, 5, 4, 3, 2, 7)"
   ]
  },
  {
   "cell_type": "code",
   "execution_count": null,
   "metadata": {},
   "outputs": [],
   "source": [
    "import paquete.primos.funciones as funciones"
   ]
  },
  {
   "cell_type": "code",
   "execution_count": null,
   "metadata": {},
   "outputs": [],
   "source": [
    "help(funciones)"
   ]
  },
  {
   "cell_type": "markdown",
   "metadata": {},
   "source": [
    "## Definiendo la localización de módulos y paquetes con *sys.path*.\n",
    "El módulo *sys* perimte acceder y manipular las configuraciones del entorno de Python y una de ellas son las rutas en las que debe buscar módulos y paquetes."
   ]
  },
  {
   "cell_type": "code",
   "execution_count": null,
   "metadata": {},
   "outputs": [],
   "source": [
    "import sys"
   ]
  },
  {
   "cell_type": "code",
   "execution_count": null,
   "metadata": {},
   "outputs": [],
   "source": [
    "print(sys.path)"
   ]
  },
  {
   "cell_type": "code",
   "execution_count": null,
   "metadata": {},
   "outputs": [],
   "source": [
    "sys.path.append('/opt/')"
   ]
  },
  {
   "cell_type": "markdown",
   "metadata": {},
   "source": [
    "Si se quiere añadir una ruta nueva, sólo debe agregarse a *sys.path*."
   ]
  },
  {
   "cell_type": "markdown",
   "metadata": {
    "collapsed": true
   },
   "source": [
    "<p style=\"text-align: center\"><a rel=\"license\" href=\"http://creativecommons.org/licenses/by/4.0/\"><img alt=\"Licencia Creative Commons\" style=\"border-width:0\" src=\"https://i.creativecommons.org/l/by/4.0/80x15.png\" /></a><br />Esta obra está bajo una <a rel=\"license\" href=\"http://creativecommons.org/licenses/by/4.0/\">Licencia Creative Commons Atribución 4.0 Internacional</a>.</p>\n",
    "<p style=\"text-align: center\">&copy; José Luis Chiquete Valdivieso. 2018.</p>"
   ]
  }
 ],
 "metadata": {
  "kernelspec": {
   "display_name": "Python 3",
   "language": "python",
   "name": "python3"
  },
  "language_info": {
   "codemirror_mode": {
    "name": "ipython",
    "version": 3
   },
   "file_extension": ".py",
   "mimetype": "text/x-python",
   "name": "python",
   "nbconvert_exporter": "python",
   "pygments_lexer": "ipython3",
   "version": "3.6.4"
  }
 },
 "nbformat": 4,
 "nbformat_minor": 1
}
