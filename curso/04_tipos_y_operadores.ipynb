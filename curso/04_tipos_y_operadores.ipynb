{
 "cells": [
  {
   "cell_type": "markdown",
   "metadata": {},
   "source": [
    "[![imagenes](imagenes/pythonista.png)](https://pythonista.mx)"
   ]
  },
  {
   "cell_type": "markdown",
   "metadata": {},
   "source": [
    "##  Particularidades los tipos de datos en Python.\n",
    "\n",
    "### Tipos dinámicos.\n",
    "\n",
    "Python es un lenguaje que no requiere que se defina el tipo de un objeto. El intérprete \"infiere\" el tipo de dato del que se trata.\n",
    "    \n",
    "### Fuertemente tipado.\n",
    "\n",
    "Existen operaciones que no están permitidas entre tipos que no sean compatibles.\n",
    "\n",
    "### Los tipos son clases.\n",
    "\n",
    "En Python todos sus elementos son objetos y los datos una vez identificados, se convierten objetos instanciados del tipo al que pertenecen. "
   ]
  },
  {
   "cell_type": "markdown",
   "metadata": {},
   "source": [
    "## Tipos numéricos.\n",
    "\n",
    "### Números enteros (*int*).\n",
    "\n",
    "Python identifica a los número enteros como un tipo de dato el cual puede ser expresado de la siguiente manera. \n",
    "\n",
    "* Decimal: *24*, *60*\n",
    "* Binario: _0b010011_, _0b1101_ \n",
    "* Hexadecimal: _0x18_, _0x3cf4_\n",
    "* Octal: _030_, _074_\n",
    "\n",
    "Python 2 también identifica a un tipo llamado entero largo (*long*), al cual se le añadía la letra \"*L*\" al final, pero ya no son reconocidos por Python 3. \n",
    "\n",
    "### Números de punto flotante (*float*).\n",
    "\n",
    "Los objetos tipo *float* corresponden al conjunto de los números reales.\n",
    "\n",
    "* *3.141595* \n",
    "* *12.* \n",
    "* *-45.3556*\n",
    "\n",
    "#### Precisión de los números flotantes.\n",
    "\n",
    "Hay que tomar en cuenta de que la precisión de los números dependen en gran medida de la capacidad del equipo de cómputo, por lo que en ocasiones una operación con números de tipo float no dará el resultado exacto, sino una aproximación.\n",
    "\n",
    "**Ejemplo:**"
   ]
  },
  {
   "cell_type": "code",
   "execution_count": null,
   "metadata": {},
   "outputs": [],
   "source": [
    "2.0/3.0"
   ]
  },
  {
   "cell_type": "markdown",
   "metadata": {},
   "source": [
    "En este caso, es imposible para Python calcular una sucesión infinita de \"6\" y por ende truncó el número a 16 decimales."
   ]
  },
  {
   "cell_type": "markdown",
   "metadata": {},
   "source": [
    "### Números complejos (*complex*).\n",
    "\n",
    "Los objetos de tipo *complex* corresponden al conjunto de los números complejos.\n",
    "\n",
    "Siempre que el componente en los números reales sea distinto de 0, los objetos de tipo *complex* se expresarán como un par de números de tipo *float* separados por el operador de adición \"*+*\", en el que el primer número corresponde al componente en los números reales y el componente en los números imaginarios es identificado añadiéndole la letra \"*j*\" al final.\n",
    "\n",
    "* *6.32 + 45j*\n",
    "* *0.117j*\n",
    "* *(2 + 0j)*\n",
    "* *1j*"
   ]
  },
  {
   "cell_type": "markdown",
   "metadata": {},
   "source": [
    "### Valores booleanos (*bool*).\n",
    "\n",
    "El tipo booleano es una especie de tipo numérico que es utilizado para evaluar expresiones lógicas.\n",
    "\n",
    "* Si la expresión lógica es cierta, el resultado es *True* (con mayúscula al principio).\n",
    "* Si la expresión lógica NO es cierta, el resultado es *False* (con mayúscula al principio).\n",
    "\n",
    "*False* equivale numéricamente a 0. Cualquier otro número equivale a *True* y su valor por defecto es 1."
   ]
  },
  {
   "cell_type": "markdown",
   "metadata": {},
   "source": [
    "## Cadenas de caracteres (_str_) .\n",
    "\n",
    "Las cadenas de caracteres son secuencias de caracteres encerradas entre comillas (*\" \"*) o apóstrofes (*' '*) indistintamente.\n",
    "\n",
    "* _'Hola Mundo'_ \n",
    "* _\"Vamos al McDonald's\"_\n",
    "    \n",
    "## *None*.\n",
    "\n",
    "El tipo *None* representa un valor \"vació\"."
   ]
  },
  {
   "cell_type": "markdown",
   "metadata": {},
   "source": [
    "## Funciones relativas a tipos de datos.\n",
    "\n",
    "### *type()*.\n",
    "\n",
    "Entre otras cosas, type regresa el tipo de dato de una variable."
   ]
  },
  {
   "cell_type": "markdown",
   "metadata": {},
   "source": [
    "**Ejemplos:**"
   ]
  },
  {
   "cell_type": "code",
   "execution_count": null,
   "metadata": {},
   "outputs": [],
   "source": [
    "type(\"Hola\")"
   ]
  },
  {
   "cell_type": "code",
   "execution_count": null,
   "metadata": {},
   "outputs": [],
   "source": [
    "type(12)"
   ]
  },
  {
   "cell_type": "code",
   "execution_count": null,
   "metadata": {},
   "outputs": [],
   "source": [
    "type(23j)"
   ]
  },
  {
   "cell_type": "markdown",
   "metadata": {},
   "source": [
    "### La función *str()*.\n",
    "\n",
    "Transforma a un objeto compatible en una cadena de caracteres.\n",
    "\n",
    "**Ejemplos:**"
   ]
  },
  {
   "cell_type": "code",
   "execution_count": null,
   "metadata": {},
   "outputs": [],
   "source": [
    "str(True)"
   ]
  },
  {
   "cell_type": "code",
   "execution_count": null,
   "metadata": {},
   "outputs": [],
   "source": [
    "str(12 + 3.5j)"
   ]
  },
  {
   "cell_type": "markdown",
   "metadata": {},
   "source": [
    "### La función *int()*.\n",
    "\n",
    "Transforma un objeto compatible a un objeto tipo *int*. \n",
    " \n",
    "* Puede convertir objetos de tipo *str* que representen correctamente a un número entero.\n",
    "* Trunca los objetos de tipo *float* a la parte entera. \n",
    "* *True* es convertido en 1 y *False* en 0. \n",
    "* No es compatible con objetos tipo *complex*.\n",
    "\n",
    "**Ejemplos:**"
   ]
  },
  {
   "cell_type": "code",
   "execution_count": null,
   "metadata": {},
   "outputs": [],
   "source": [
    "int(True)"
   ]
  },
  {
   "cell_type": "code",
   "execution_count": null,
   "metadata": {},
   "outputs": [],
   "source": [
    "int(\"-12\")"
   ]
  },
  {
   "cell_type": "code",
   "execution_count": null,
   "metadata": {},
   "outputs": [],
   "source": [
    "int(5.3)"
   ]
  },
  {
   "cell_type": "code",
   "execution_count": null,
   "metadata": {},
   "outputs": [],
   "source": [
    "int(-5.3)"
   ]
  },
  {
   "cell_type": "code",
   "execution_count": null,
   "metadata": {},
   "outputs": [],
   "source": [
    "int(45.2j)"
   ]
  },
  {
   "cell_type": "code",
   "execution_count": null,
   "metadata": {},
   "outputs": [],
   "source": [
    "int('Hola')"
   ]
  },
  {
   "cell_type": "markdown",
   "metadata": {},
   "source": [
    "### La función *float()*. \n",
    "\n",
    "Transforma a un objeto compatible a uno de tipo *float*.\n",
    "\n",
    "* Puede convertir objetos de tipo *str* que contengan representen correctamente a un número real.\n",
    "* Es compatible con los objetos tipo *int*.\n",
    "* *True* es convertido en 1.0 y *False* en 0.0. \n",
    "* No es compatible con objetos tipo *complex*.\n",
    "\n",
    "**Ejemplos:**"
   ]
  },
  {
   "cell_type": "code",
   "execution_count": null,
   "metadata": {},
   "outputs": [],
   "source": [
    "float(False)"
   ]
  },
  {
   "cell_type": "code",
   "execution_count": null,
   "metadata": {},
   "outputs": [],
   "source": [
    "float(\"-12.6\")"
   ]
  },
  {
   "cell_type": "code",
   "execution_count": null,
   "metadata": {},
   "outputs": [],
   "source": [
    "float(-5)"
   ]
  },
  {
   "cell_type": "code",
   "execution_count": null,
   "metadata": {},
   "outputs": [],
   "source": [
    "float('Hola')"
   ]
  },
  {
   "cell_type": "code",
   "execution_count": null,
   "metadata": {},
   "outputs": [],
   "source": [
    "float(12.5 + 33j)"
   ]
  },
  {
   "cell_type": "markdown",
   "metadata": {},
   "source": [
    "### La función *complex()*.\n",
    "\n",
    "Transforma a un objeto compatible a uno de tipo *complex*.\n",
    "\n",
    "* Convierte objetos de tipo *str* que contengan representen correctamente a un número real.\n",
    "* Transforma en un objeto de tipo complex a un par de números ya sean *int* o *float*. \n",
    "* Si sólo se da un número *int* o *float*, este será identificado como el componente real y el componente complejo será *0j*.\n",
    "\n",
    "**Ejemplos:**"
   ]
  },
  {
   "cell_type": "code",
   "execution_count": null,
   "metadata": {},
   "outputs": [],
   "source": [
    "complex(3.5, 2)"
   ]
  },
  {
   "cell_type": "code",
   "execution_count": null,
   "metadata": {},
   "outputs": [],
   "source": [
    "complex(8)"
   ]
  },
  {
   "cell_type": "code",
   "execution_count": null,
   "metadata": {},
   "outputs": [],
   "source": [
    "complex(\"23+5j\")"
   ]
  },
  {
   "cell_type": "markdown",
   "metadata": {},
   "source": [
    "### La función *bool()*.\n",
    "\n",
    "Transforma en booleano a un objeto. \n",
    "\n",
    "* El 0 es igual a *False*. \n",
    "* Cualquier otra cosa distinto de 0 es *True*.\n",
    "\n",
    "**Ejemplos:**\n"
   ]
  },
  {
   "cell_type": "code",
   "execution_count": null,
   "metadata": {},
   "outputs": [],
   "source": [
    "bool(-3)"
   ]
  },
  {
   "cell_type": "code",
   "execution_count": null,
   "metadata": {},
   "outputs": [],
   "source": [
    "bool(2)"
   ]
  },
  {
   "cell_type": "code",
   "execution_count": null,
   "metadata": {},
   "outputs": [],
   "source": [
    "bool(0.0)"
   ]
  },
  {
   "cell_type": "code",
   "execution_count": null,
   "metadata": {},
   "outputs": [],
   "source": [
    "bool(\"Hola\")"
   ]
  },
  {
   "cell_type": "code",
   "execution_count": null,
   "metadata": {},
   "outputs": [],
   "source": [
    "bool(\"0\")"
   ]
  },
  {
   "cell_type": "markdown",
   "metadata": {},
   "source": [
    "## Tipos inmutables.\n",
    "\n",
    "Los objetos de tipo inmutable son aquellos cuya estructura no puede modificarse a menos que sean eliminados.\n",
    "Por sus características, son inmutables los tipos:\n",
    "\n",
    "* *int*\n",
    "* *float*\n",
    "* *bool* \n",
    "* *complex* \n",
    "* *str*\n",
    "\n",
    "Más adelante se estudiará el concepto de inmutabilidad."
   ]
  },
  {
   "cell_type": "markdown",
   "metadata": {},
   "source": [
    "## Operadores.\n",
    "\n",
    "Los operadores son signos, símbolos o palabras que el intérprete de Python identifica dentro de sus sintaxis para realizar una acción (operación) específica."
   ]
  },
  {
   "cell_type": "markdown",
   "metadata": {},
   "source": [
    "### Operadores aritméticos.\n",
    "\n",
    "\n",
    "|Operador|Descripción|\n",
    "|:------:|:---------:|\n",
    "|*+*       |Suma       |\n",
    "|*-* \t     |Resta      |\n",
    "|*-*       |Negativo   |\n",
    "|*\\**      |Multiplicación|\n",
    "|_\\*\\*_ \t |Exponente  |\n",
    "|*/* \t     |División   |\n",
    "|*//*      |División entera|\n",
    "|*%*       |Residuo    |\n",
    "\n",
    "#### División entre enteros en Python 2 y Python 3.\n",
    "\n",
    "En Python 2 las divisiones entre objetos de tipo *int* dan por resultado la parte entera de la división.\n",
    "\n",
    "**Ejemplos:**\n",
    "\n",
    "``` python\n",
    ">>> 3 / 4\n",
    "0\n",
    ">>> 10 / 5\n",
    "2\n",
    ">>>\n",
    "```\n",
    "\n",
    "En  Python 3 las divisiones entre objetos de tipo *int* dan como resultado un objeto de tipo *float* cuando el resultado de la división no es un entero.\n",
    "\n",
    "**Ejemplos:**"
   ]
  },
  {
   "cell_type": "code",
   "execution_count": null,
   "metadata": {},
   "outputs": [],
   "source": [
    "3 / 4"
   ]
  },
  {
   "cell_type": "code",
   "execution_count": null,
   "metadata": {},
   "outputs": [],
   "source": [
    "10 / 5"
   ]
  },
  {
   "cell_type": "markdown",
   "metadata": {},
   "source": [
    "**Nota:** Aún cuando no afecta a la sintaxis, el uso de espacios entre los operadores aritméticos mejora la comprensión de las operaciones. Para mayor referencia remitirse al PEP-8.\n",
    "\n",
    "### Reglas de precedencia en operaciones aritméticas.\n",
    "\n",
    "Los operadores se apegan a la siguiente regla de precedencia siguiendo una secuencia de izquierda a derecha:\n",
    "\n",
    "1. Paréntesis.\n",
    "2. Exponente.\n",
    "3. Multiplicación.\n",
    "4. División.\n",
    "5. Suma.\n",
    "6. Sustracción.\n",
    "\n",
    "**Ejemplos:**"
   ]
  },
  {
   "cell_type": "code",
   "execution_count": null,
   "metadata": {},
   "outputs": [],
   "source": [
    "12 * 5 + 2 / 3 ** 2"
   ]
  },
  {
   "cell_type": "code",
   "execution_count": null,
   "metadata": {},
   "outputs": [],
   "source": [
    "(12 * 5) + (2 / (3 ** 2))"
   ]
  },
  {
   "cell_type": "code",
   "execution_count": null,
   "metadata": {},
   "outputs": [],
   "source": [
    "(12 * 5) + (2 / 3) ** 2"
   ]
  },
  {
   "cell_type": "markdown",
   "metadata": {},
   "source": [
    "### Operadores para objetos de tipo *str*.\n",
    "\n",
    "\n",
    "|Operador|Descripción|\n",
    "|:------:|:---------:|\n",
    "|*+*     |Concatenación|\n",
    "|*\\*   |Repetición|\n",
    "\n",
    "**Ejemplos**\n"
   ]
  },
  {
   "cell_type": "code",
   "execution_count": null,
   "metadata": {},
   "outputs": [],
   "source": [
    "\"hola\" + \"mundo\""
   ]
  },
  {
   "cell_type": "code",
   "execution_count": null,
   "metadata": {},
   "outputs": [],
   "source": [
    "'hola' * 3"
   ]
  },
  {
   "cell_type": "markdown",
   "metadata": {},
   "source": [
    "### Operadores de relación. \n",
    "\n",
    "Los operadores de relación evalúan si dos valores/objetos cumplen con una condición específica. El resultado de esta evaluación es un objeto de tipo *bool*.\n",
    "\n",
    "|Operador|Evalúa          |\n",
    "|:------:|:---------------|\n",
    "|*==*    |*a == b* ¿a igual a b?|\n",
    "|*!=* \t |*a != b* ¿a distinta de b?|\n",
    "|*>*     |*a > b* ¿a mayor que b?|\n",
    "|*<* \t |*a < b* ¿a menor que b?|\n",
    "|*>=*    |*a >= b* ¿a mayor o igual que b?|\n",
    "|*<=*    |*a <= b* ¿a menor o igual que b?|\n",
    "\n",
    "**Ejemplos:**"
   ]
  },
  {
   "cell_type": "code",
   "execution_count": null,
   "metadata": {},
   "outputs": [],
   "source": [
    "\"hola\" == 'hola'"
   ]
  },
  {
   "cell_type": "code",
   "execution_count": null,
   "metadata": {},
   "outputs": [],
   "source": [
    "\"hola\" != 'Hola'"
   ]
  },
  {
   "cell_type": "code",
   "execution_count": null,
   "metadata": {},
   "outputs": [],
   "source": [
    "5 > 3"
   ]
  },
  {
   "cell_type": "code",
   "execution_count": null,
   "metadata": {},
   "outputs": [],
   "source": [
    "5 <= 3"
   ]
  },
  {
   "cell_type": "code",
   "execution_count": null,
   "metadata": {},
   "outputs": [],
   "source": [
    "2 * 9 ** 0.5 == 6"
   ]
  },
  {
   "cell_type": "code",
   "execution_count": null,
   "metadata": {},
   "outputs": [],
   "source": [
    "(2 * 9) ** 0.5 == 6"
   ]
  },
  {
   "cell_type": "markdown",
   "metadata": {},
   "source": [
    "### Operadores lógicos.\n",
    "\n",
    "Estos operadores permiten la realización de las siguientes operaciones lógicas. Por lo general se realizan con objetos de tipo *bool*, pero Python también permite operaciones lógicas con otros tipos de datos. \n",
    "\n",
    "|Operador|Evalúa|\n",
    "|:------:|:----:|\n",
    "|*or*    |*a or b* ¿Se cumplen a o b?|\n",
    "|*and* \t |*a and b* ¿Se comple a y b?|\n",
    "|*not*   |*not x* Contrario a x|\n",
    "\n",
    "**Ejemplos:**"
   ]
  },
  {
   "cell_type": "code",
   "execution_count": null,
   "metadata": {},
   "outputs": [],
   "source": [
    "True or True"
   ]
  },
  {
   "cell_type": "code",
   "execution_count": null,
   "metadata": {},
   "outputs": [],
   "source": [
    "False or True"
   ]
  },
  {
   "cell_type": "code",
   "execution_count": null,
   "metadata": {},
   "outputs": [],
   "source": [
    "15 == 3 or False"
   ]
  },
  {
   "cell_type": "code",
   "execution_count": null,
   "metadata": {},
   "outputs": [],
   "source": [
    "15 > 3 and 15 <= 20"
   ]
  },
  {
   "cell_type": "code",
   "execution_count": null,
   "metadata": {},
   "outputs": [],
   "source": [
    "True and 0"
   ]
  },
  {
   "cell_type": "code",
   "execution_count": null,
   "metadata": {},
   "outputs": [],
   "source": [
    "bool(True and 0)"
   ]
  },
  {
   "cell_type": "code",
   "execution_count": null,
   "metadata": {},
   "outputs": [],
   "source": [
    "'Hola' and 123"
   ]
  },
  {
   "cell_type": "code",
   "execution_count": null,
   "metadata": {},
   "outputs": [],
   "source": [
    "bool('Hola' and 123)"
   ]
  },
  {
   "cell_type": "code",
   "execution_count": null,
   "metadata": {},
   "outputs": [],
   "source": [
    "False and False"
   ]
  },
  {
   "cell_type": "code",
   "execution_count": null,
   "metadata": {},
   "outputs": [],
   "source": [
    "not True"
   ]
  },
  {
   "cell_type": "code",
   "execution_count": null,
   "metadata": {},
   "outputs": [],
   "source": [
    "not False or True"
   ]
  },
  {
   "cell_type": "code",
   "execution_count": null,
   "metadata": {
    "scrolled": false
   },
   "outputs": [],
   "source": [
    "not (False or True)"
   ]
  },
  {
   "cell_type": "markdown",
   "metadata": {},
   "source": [
    "### Operadores de pertenencia.\n",
    "\n",
    "Los operadores *in* y *not in* evalúan si un objeto se encuentra dentro de otro.\n",
    "\n",
    "\n",
    "**Ejemplos:**\n"
   ]
  },
  {
   "cell_type": "code",
   "execution_count": null,
   "metadata": {},
   "outputs": [],
   "source": [
    "'a' in 'Hola'"
   ]
  },
  {
   "cell_type": "code",
   "execution_count": null,
   "metadata": {},
   "outputs": [],
   "source": [
    "'z' in 'Hola'"
   ]
  },
  {
   "cell_type": "code",
   "execution_count": null,
   "metadata": {},
   "outputs": [],
   "source": [
    "'la' not in 'Hola'"
   ]
  },
  {
   "cell_type": "code",
   "execution_count": null,
   "metadata": {},
   "outputs": [],
   "source": [
    "'z' not in 'Hola'"
   ]
  },
  {
   "cell_type": "markdown",
   "metadata": {},
   "source": [
    "### Operadores de asignación.\n",
    "\n",
    "Los operadores de asignación se utilizan para enlazar un objeto/valor con un nombre. \n",
    "\n",
    "|Operador|Descripción|Ejemplo|\n",
    "|:------:|:---------:|:-----:|\n",
    "|*=*    |Asignación simple|*x = y*|\n",
    "|*+=*   |Suma             |*x += y* equivale a *x = x + y*|\n",
    "|*-=*   |Resta \t          |*x -= y* equivale a *x = x - y*|\n",
    "|_\\*=_  |Multiplicación   |_x \\*= y_ equivale a _x = x \\* y_|\n",
    "|_\\*\\*=_|Exponente        |_x \\*\\* = y_ equivale a _x = x \\*\\* y_|\n",
    "|*/=* \t|División \t      |*x /= y* equivale a *x = x / y*|\n",
    "|*//=* \t|División entera  |*x //= y* equivale a *x = x // y*|\n",
    "|*%=* \t|Residuo de división|*x %= y* equivale a *x = x % y*|"
   ]
  },
  {
   "cell_type": "code",
   "execution_count": null,
   "metadata": {},
   "outputs": [],
   "source": [
    "x = 2\n",
    "x += 3\n",
    "x"
   ]
  },
  {
   "cell_type": "code",
   "execution_count": null,
   "metadata": {},
   "outputs": [],
   "source": [
    "y = 2\n",
    "y **= 3\n",
    "y"
   ]
  },
  {
   "cell_type": "code",
   "execution_count": null,
   "metadata": {},
   "outputs": [],
   "source": [
    "cadena = 'Hola'\n",
    "cadena *= 3\n",
    "cadena"
   ]
  },
  {
   "cell_type": "markdown",
   "metadata": {},
   "source": [
    "### Operadores de bits.\n",
    "\n",
    "Las operaciones de bits son cálculos que implican a cada bit que conforma a un número representado de forma binaria.\n",
    "\n",
    "\n",
    "|Operador    | Descripción |\n",
    "|:----------:|:-----------:|\n",
    "| *&* | AND    |  \n",
    "| _&#124;_ |OR    |\n",
    "| *^* | XOR    |\n",
    "| *<<* | Mover x bits a la izquierda  |\n",
    "| *>>* | Mover x bits a la iderecha   |\n",
    "\n",
    "**Ejemplos:**"
   ]
  },
  {
   "cell_type": "code",
   "execution_count": null,
   "metadata": {},
   "outputs": [],
   "source": [
    "a = 0b01101\n",
    "b = 0b11010"
   ]
  },
  {
   "cell_type": "code",
   "execution_count": null,
   "metadata": {},
   "outputs": [],
   "source": [
    "a"
   ]
  },
  {
   "cell_type": "code",
   "execution_count": null,
   "metadata": {},
   "outputs": [],
   "source": [
    "b"
   ]
  },
  {
   "cell_type": "code",
   "execution_count": null,
   "metadata": {},
   "outputs": [],
   "source": [
    "a & b"
   ]
  },
  {
   "cell_type": "code",
   "execution_count": null,
   "metadata": {},
   "outputs": [],
   "source": [
    "a | b"
   ]
  },
  {
   "cell_type": "code",
   "execution_count": null,
   "metadata": {},
   "outputs": [],
   "source": [
    "a ^ b"
   ]
  },
  {
   "cell_type": "code",
   "execution_count": null,
   "metadata": {},
   "outputs": [],
   "source": [
    "a << 3"
   ]
  },
  {
   "cell_type": "code",
   "execution_count": null,
   "metadata": {},
   "outputs": [],
   "source": [
    "b >> 2"
   ]
  },
  {
   "cell_type": "markdown",
   "metadata": {},
   "source": [
    "### Operadores de identidad.\n",
    "\n",
    "Los operadores *is* e *is not* evalúan si un identificador se refiere exactamente al mismo objeto o pertenece a un tipo.\n",
    "\n",
    "|Operador \t|Evalúa|\n",
    "|:---------:|:----:|\n",
    "|*is*       |*a is b* Equivale a *id(a) == id(b)*|\n",
    "|*is not*   |*a is not b* Equivale a *id(a) != id(b)*|\n",
    "\n",
    "**Ejemplos:**"
   ]
  },
  {
   "cell_type": "code",
   "execution_count": null,
   "metadata": {},
   "outputs": [],
   "source": [
    "a = 45\n",
    "b = 45"
   ]
  },
  {
   "cell_type": "code",
   "execution_count": null,
   "metadata": {},
   "outputs": [],
   "source": [
    "a is b"
   ]
  },
  {
   "cell_type": "code",
   "execution_count": null,
   "metadata": {},
   "outputs": [],
   "source": [
    "type(\"Hola\") is str"
   ]
  },
  {
   "cell_type": "code",
   "execution_count": null,
   "metadata": {},
   "outputs": [],
   "source": [
    "type(\"Hola\") is not complex"
   ]
  },
  {
   "cell_type": "code",
   "execution_count": null,
   "metadata": {},
   "outputs": [],
   "source": [
    "True == 1"
   ]
  },
  {
   "cell_type": "code",
   "execution_count": null,
   "metadata": {},
   "outputs": [],
   "source": [
    "True is 1"
   ]
  },
  {
   "cell_type": "markdown",
   "metadata": {},
   "source": [
    "## La función _eval()_.\n",
    "\n",
    "La función _eval()_ evalúa un objeto de tipo _str_ como si fuera una expresión.\n",
    "\n",
    "```\n",
    "eval(<objeto tipo str>)\n",
    "```\n",
    "\n",
    "Si el texto a evaluar no es una expresión válida, _eval()_ generará un mensaje de error.\n",
    "\n",
    "**Ejemplos:**"
   ]
  },
  {
   "cell_type": "code",
   "execution_count": null,
   "metadata": {},
   "outputs": [],
   "source": [
    "eval(\"12 * 300\")"
   ]
  },
  {
   "cell_type": "code",
   "execution_count": null,
   "metadata": {},
   "outputs": [],
   "source": [
    "eval(\"0x11 + 0x10010\")"
   ]
  },
  {
   "cell_type": "code",
   "execution_count": null,
   "metadata": {},
   "outputs": [],
   "source": [
    "eval(\"12 > 5\")"
   ]
  },
  {
   "cell_type": "code",
   "execution_count": null,
   "metadata": {},
   "outputs": [],
   "source": [
    "eval(\"type('Hola')\")"
   ]
  },
  {
   "cell_type": "code",
   "execution_count": null,
   "metadata": {},
   "outputs": [],
   "source": [
    "numero = 4\n",
    "eval(\"numero * 3\")"
   ]
  },
  {
   "cell_type": "code",
   "execution_count": null,
   "metadata": {},
   "outputs": [],
   "source": [
    "eval(\"Hola Mundo\")"
   ]
  },
  {
   "cell_type": "markdown",
   "metadata": {},
   "source": [
    "<p style=\"text-align: center\"><a rel=\"license\" href=\"http://creativecommons.org/licenses/by/4.0/\"><img alt=\"Licencia Creative Commons\" style=\"border-width:0\" src=\"https://i.creativecommons.org/l/by/4.0/80x15.png\" /></a><br />Esta obra está bajo una <a rel=\"license\" href=\"http://creativecommons.org/licenses/by/4.0/\">Licencia Creative Commons Atribución 4.0 Internacional</a>.</p>\n",
    "<p style=\"text-align: center\">&copy; José Luis Chiquete Valdivieso. 2018.</p>"
   ]
  }
 ],
 "metadata": {
  "kernelspec": {
   "display_name": "Python 3",
   "language": "python",
   "name": "python3"
  },
  "language_info": {
   "codemirror_mode": {
    "name": "ipython",
    "version": 3
   },
   "file_extension": ".py",
   "mimetype": "text/x-python",
   "name": "python",
   "nbconvert_exporter": "python",
   "pygments_lexer": "ipython3",
   "version": "3.6.4"
  }
 },
 "nbformat": 4,
 "nbformat_minor": 1
}
