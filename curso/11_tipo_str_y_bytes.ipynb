{
 "cells": [
  {
   "cell_type": "markdown",
   "metadata": {},
   "source": [
    "[![imagenes](imagenes/pythonista.png)](https://pythonista.mx)"
   ]
  },
  {
   "cell_type": "markdown",
   "metadata": {},
   "source": [
    "# Objetos tipo *str* y tipo *bytes*."
   ]
  },
  {
   "cell_type": "markdown",
   "metadata": {},
   "source": [
    "## Objetos tipo *str*.\n",
    "\n",
    "Python cuenta con varios tipos de objetos relacionados con cadenas de caracteres. El más común es el tipo _str_, el cual puede incluir cualquier tipo de caracter, incluyendo caracteres de escape.\n",
    "\n",
    "### Los objetos de tipo _str_ son inmutables.\n",
    "\n",
    "Los elementos contenidos en un objeto de tipo _str_ no pueden ser modificados ni eliminados con _del_.\n",
    "\n",
    "**Ejemplos:**"
   ]
  },
  {
   "cell_type": "code",
   "execution_count": null,
   "metadata": {},
   "outputs": [],
   "source": [
    "saludo = \"Hola, amigos.\""
   ]
  },
  {
   "cell_type": "code",
   "execution_count": null,
   "metadata": {},
   "outputs": [],
   "source": [
    "saludo[1]"
   ]
  },
  {
   "cell_type": "code",
   "execution_count": null,
   "metadata": {},
   "outputs": [],
   "source": [
    "saludo[1] = 'a'                         "
   ]
  },
  {
   "cell_type": "code",
   "execution_count": null,
   "metadata": {},
   "outputs": [],
   "source": [
    "del saludo[1]"
   ]
  },
  {
   "cell_type": "markdown",
   "metadata": {},
   "source": [
    "El tipo _str_ cuenta con una enorme cantidad de métodos de diversas índoles que son de gran utilidad cuando se manipulan cadenas de texto.\n",
    "\n",
    "### Métodos de ajuste de mayúsculas y minúsculas.\n",
    "\n",
    "#### _lower()_ \n",
    "Convierte la cadena de caracteres en minúsculas.\n",
    "\n",
    "**Ejemplo:**"
   ]
  },
  {
   "cell_type": "code",
   "execution_count": null,
   "metadata": {},
   "outputs": [],
   "source": [
    "'Hola, amigos.'.lower()"
   ]
  },
  {
   "cell_type": "markdown",
   "metadata": {},
   "source": [
    "#### _upper()_ \n",
    "Convierte la cadena de caracteres en mayúsculas.\n",
    "\n",
    "**Ejemplo:**"
   ]
  },
  {
   "cell_type": "code",
   "execution_count": null,
   "metadata": {},
   "outputs": [],
   "source": [
    "'Hola, amigos.'.upper()"
   ]
  },
  {
   "cell_type": "markdown",
   "metadata": {},
   "source": [
    "#### _capitalize()_ \n",
    "Convierte al primer caracter del texto en mayúscula y el resto en minúsculas.\n",
    "\n",
    "**Ejemplo:**"
   ]
  },
  {
   "cell_type": "code",
   "execution_count": null,
   "metadata": {},
   "outputs": [],
   "source": [
    "'hola, amigos.'.capitalize()"
   ]
  },
  {
   "cell_type": "markdown",
   "metadata": {},
   "source": [
    "####  _title()_ \n",
    "Convierte al primer caracter de cada palabra en mayúsculas y los otros en minúsculas. \n",
    "\n",
    "**Ejemplo:**"
   ]
  },
  {
   "cell_type": "code",
   "execution_count": null,
   "metadata": {},
   "outputs": [],
   "source": [
    "'hola, amigos.'.title()"
   ]
  },
  {
   "cell_type": "markdown",
   "metadata": {},
   "source": [
    "####  _swapcase()_\n",
    "Transforma los caracteres que están en minúsculas a mayúsculas y los que están en mayúsculas a minúsculas.\n",
    "\n",
    "**Ejemplo:**"
   ]
  },
  {
   "cell_type": "code",
   "execution_count": null,
   "metadata": {},
   "outputs": [],
   "source": [
    "'Hola, amigos.'.swapcase()"
   ]
  },
  {
   "cell_type": "markdown",
   "metadata": {},
   "source": [
    "#### _casefold()_ \n",
    "Transforma el texto en un formato que permita compararlo con otro texto.\n",
    "\n",
    "**Ejemplo:**"
   ]
  },
  {
   "cell_type": "code",
   "execution_count": null,
   "metadata": {},
   "outputs": [],
   "source": [
    "'HoLA, amiGoS.'.casefold()"
   ]
  },
  {
   "cell_type": "markdown",
   "metadata": {},
   "source": [
    "### Métodos de ajuste del texto.\n",
    "\n",
    "####  _center()_\n",
    "\n",
    "Centra el texto en una cadena del tamaño que se ingresa como argumento. Si se añade un caracter como segundo argumento, se sustituyen los espacios en blanco por dicho caracter.\n",
    "\n",
    "**Ejemplos:**"
   ]
  },
  {
   "cell_type": "code",
   "execution_count": null,
   "metadata": {},
   "outputs": [],
   "source": [
    "'Hola, amigos.'.center(30)"
   ]
  },
  {
   "cell_type": "code",
   "execution_count": null,
   "metadata": {},
   "outputs": [],
   "source": [
    "'Hola, amigos.'.center(30, 'x')"
   ]
  },
  {
   "cell_type": "markdown",
   "metadata": {},
   "source": [
    "#### _ljust()_\n",
    "Ajusta el texto a la izquierda dentro de una cadena del tamaño que se ingresa como argumento. Si se añade un caracter como segundo argumento, se sustituyen los espacios en blanco por dicho caracter.\n",
    "\n",
    "**Ejemplos:**"
   ]
  },
  {
   "cell_type": "code",
   "execution_count": null,
   "metadata": {},
   "outputs": [],
   "source": [
    "'Hola, amigos.'.ljust(30)"
   ]
  },
  {
   "cell_type": "code",
   "execution_count": null,
   "metadata": {},
   "outputs": [],
   "source": [
    "'Hola, amigos.'.ljust(30, 'x')"
   ]
  },
  {
   "cell_type": "markdown",
   "metadata": {},
   "source": [
    "#### _rjust()_\n",
    "Ajusta el texto a la derecha dentro de una cadena del tamaño que se ingresa como argumento. Si se añade un caracter como segundo argumento, se sustituyen los espacios en blanco por dicho caracter.\n",
    "\n",
    "**Ejemplos:**"
   ]
  },
  {
   "cell_type": "code",
   "execution_count": null,
   "metadata": {},
   "outputs": [],
   "source": [
    "'Hola, amigos.'.rjust(30)"
   ]
  },
  {
   "cell_type": "code",
   "execution_count": null,
   "metadata": {},
   "outputs": [],
   "source": [
    "'Hola, amigos.'.rjust(30, 'x')"
   ]
  },
  {
   "cell_type": "markdown",
   "metadata": {},
   "source": [
    "#### _strip()_\n",
    "En el caso de que el objeto de tipo _str_ contenga un texto que se encuentre entre cierto número de espacios vacíos, este método eliminaría dichos espacios. En caso de que se ingrese un caracter como argumento, se eliminarían los caracteres que encierren al texto.\n",
    "\n",
    "**Ejemplos:**"
   ]
  },
  {
   "cell_type": "code",
   "execution_count": null,
   "metadata": {},
   "outputs": [],
   "source": [
    "'                 Hola, amigos.        '.strip()"
   ]
  },
  {
   "cell_type": "code",
   "execution_count": null,
   "metadata": {},
   "outputs": [],
   "source": [
    "'xxxxxxxxxxxxxxxxxHola, amigos.xxxxxxxx'.strip('x')"
   ]
  },
  {
   "cell_type": "markdown",
   "metadata": {},
   "source": [
    "#### _lstrip()_\n",
    "Elimina los espacios vacíos que se encuentran a la izquierda de un texto. En caso de que se ingrese un caracter como argumento, se eliminarán los caracteres correspondientes a la izquierda.\n",
    "\n",
    "**Ejemplos:**"
   ]
  },
  {
   "cell_type": "code",
   "execution_count": null,
   "metadata": {},
   "outputs": [],
   "source": [
    "'                 Hola, amigos.        '.lstrip()"
   ]
  },
  {
   "cell_type": "code",
   "execution_count": null,
   "metadata": {},
   "outputs": [],
   "source": [
    "'xxxxxxxxxxxxxxxxxHola, amigos.xxxxxxxx'.lstrip('x')"
   ]
  },
  {
   "cell_type": "markdown",
   "metadata": {},
   "source": [
    "#### _rstrip()_\n",
    "Elimina los espacios vacíos que se encuentran a la derecha de un texto. En caso de que se ingrese un caracter como argumento, se eliminarán los caracteres correspondientes a la derecha.\n",
    "\n",
    "**Ejemplos:**"
   ]
  },
  {
   "cell_type": "code",
   "execution_count": null,
   "metadata": {},
   "outputs": [],
   "source": [
    "'                 Hola, amigos.        '.rstrip()"
   ]
  },
  {
   "cell_type": "code",
   "execution_count": null,
   "metadata": {},
   "outputs": [],
   "source": [
    "'xxxxxxxxxxxxxxxxxHola, amigos.xxxxxxxx'.rstrip('x')"
   ]
  },
  {
   "cell_type": "markdown",
   "metadata": {},
   "source": [
    "#### _expandtabs()_\n",
    "Sustituye los tabuladores con espacios en blanco. Por defecto se sustituye cada tabulador con 4 espacios en blanco, pero se puede definir el numero si se ingresa como argumento.\n",
    "\n",
    "**Ejemplos:**"
   ]
  },
  {
   "cell_type": "code",
   "execution_count": null,
   "metadata": {},
   "outputs": [],
   "source": [
    "'Hola\\tamigos'.expandtabs()"
   ]
  },
  {
   "cell_type": "code",
   "execution_count": null,
   "metadata": {},
   "outputs": [],
   "source": [
    "'Hola\\tamigos'.expandtabs(2)"
   ]
  },
  {
   "cell_type": "markdown",
   "metadata": {},
   "source": [
    "#### _zfill()_\n",
    "Genera una cadena de caracteres del tamaño indicado por el argumento y justifica el texto a la derecha, llenando el resto con ceros.\n",
    "**Ejemplos:**"
   ]
  },
  {
   "cell_type": "code",
   "execution_count": null,
   "metadata": {},
   "outputs": [],
   "source": [
    "'Hola'.zfill(6)"
   ]
  },
  {
   "cell_type": "code",
   "execution_count": null,
   "metadata": {},
   "outputs": [],
   "source": [
    "'504'.zfill(7)"
   ]
  },
  {
   "cell_type": "markdown",
   "metadata": {},
   "source": [
    "#### _format()_\n",
    "Este método permite crear un nuevo objeto de tipo _str_ al que se le insertan elementos de forma similar a como lo hace la función _print()_. La sustitución se realiza mediante el usos de llaves ( _{ }_ ). Los elementos a sustituir se ingresan como argumentos separados por comas.\n",
    "\n",
    "**Ejemplo:**"
   ]
  },
  {
   "cell_type": "code",
   "execution_count": null,
   "metadata": {},
   "outputs": [],
   "source": [
    "'Contrato de prestacion de servicios entre {} y {}.'.format(\"Juan\", \"Pedro\")"
   ]
  },
  {
   "cell_type": "markdown",
   "metadata": {},
   "source": [
    "Si no se especifica, cada elemento será sustituido de forma sucesiva de izquierda a derecha. Pero también es posible indicar cual elemento sustituir por su índice. Los argumentos entonces son tratados como objetos de tipo _tuple_ o de tipo _dict_.\n",
    "\n",
    "**Ejemplos:**"
   ]
  },
  {
   "cell_type": "code",
   "execution_count": null,
   "metadata": {},
   "outputs": [],
   "source": [
    "'Contrato de prestacion de servicios entre {1} y {0}.'.format(\"Juan\", \"Pedro\")"
   ]
  },
  {
   "cell_type": "code",
   "execution_count": null,
   "metadata": {},
   "outputs": [],
   "source": [
    "'Contrato de servicios entre {comprador} y {vendedor}.'.format(comprador=\"Juan\",\n",
    "                                                               vendedor=\"Pedro\")"
   ]
  },
  {
   "cell_type": "markdown",
   "metadata": {},
   "source": [
    "Este método permite formatear y alinear los elementos a los que sustituye de muchas maneras. \n",
    "En el sitio [https://pyformat.info/](https://pyformat.info/) es posible explorar las distintas formas en las que se puede utilizar dicho método.\n",
    "\n",
    "#### *format\\_map()*\n",
    "Este método es similar a _format()_ con la diferencia de que acepta exclusivamente objetos mapeables, tales como los objetos tipo _dict_.\n",
    "\n",
    "**Ejemplos:**"
   ]
  },
  {
   "cell_type": "code",
   "execution_count": null,
   "metadata": {},
   "outputs": [],
   "source": [
    "'Contrato de servicios entre {comprador} y {vendedor}.'.format_map({'comprador': \"Juan\",\n",
    "                                                                    \"vendedor\":\"Pedro\"})"
   ]
  },
  {
   "cell_type": "code",
   "execution_count": null,
   "metadata": {},
   "outputs": [],
   "source": [
    "'Contrato de servicios entre {comprador} y {vendedor}.'.format_map(dict(comprador=\"Juan\",\n",
    "                                                                   vendedor=\"Pedro\"))"
   ]
  },
  {
   "cell_type": "code",
   "execution_count": null,
   "metadata": {},
   "outputs": [],
   "source": [
    "'Contrato de servicios entre {} y {}.'.format_map((\"Juan\", \"Pedro\"))"
   ]
  },
  {
   "cell_type": "markdown",
   "metadata": {},
   "source": [
    "### Métodos de separación y unión.\n",
    "\n",
    "#### _join()_\n",
    "Permite concatenar una secuencia de objetos de tipo _str_ agrupados al ser ingresados como un objeto iterable, utilizando el objeto de tipo _str_ como separador.\n",
    "\n",
    "**Ejemplos:**"
   ]
  },
  {
   "cell_type": "code",
   "execution_count": null,
   "metadata": {},
   "outputs": [],
   "source": [
    "\", \".join([\"Hugo\", \"Paco\", \"Luis\"])"
   ]
  },
  {
   "cell_type": "code",
   "execution_count": null,
   "metadata": {},
   "outputs": [],
   "source": [
    "\" + \".join((\"1\", \"2\", \"3\", \"4\"))"
   ]
  },
  {
   "cell_type": "markdown",
   "metadata": {},
   "source": [
    "#### _partition()_\n",
    "Este método busca de izquierda a derecha el patrón que se ingresa como parámetro dentro del objeto tipo _str_ y al encontrar la primera coincidencia, divide en tres partes al texto. Regresa la parte de la izquierda, el patrón y la parte de la derecha dentro de un objeto tipo _tuple_. En caso de no encontrar coincidencia, el objeto tipo _tuple_ se compondrá del texto original y dos cadenas de caracteres vacías.\n",
    "\n",
    "**Ejemplos:**"
   ]
  },
  {
   "cell_type": "code",
   "execution_count": null,
   "metadata": {},
   "outputs": [],
   "source": [
    "\"Hugo, Paco, Luis\".partition(\", \")"
   ]
  },
  {
   "cell_type": "code",
   "execution_count": null,
   "metadata": {},
   "outputs": [],
   "source": [
    "\"Hugo, Paco, Luis\".partition(\"+\")"
   ]
  },
  {
   "cell_type": "markdown",
   "metadata": {},
   "source": [
    "#### _rpartition()_\n",
    "Este método busca de derecha a izquierda el patrón que se ingresa como parámetro dentro del objeto tipo _str_ y al encontrar la primera coincidencia, divide en tres partes al texto. Regresa la parte de la izquierda, el patrón y la parte de la derecha dentro de un objeto tipo _tuple_. En caso de no encontrar coincidencia, el objeto tipo _tuple_ se compondrá del texto dos cadenas de caracteres vacías y el texto original.\n",
    "\n",
    "**Ejemplos:**"
   ]
  },
  {
   "cell_type": "code",
   "execution_count": null,
   "metadata": {},
   "outputs": [],
   "source": [
    "\"Hugo, Paco, Luis\".rpartition(\", \")"
   ]
  },
  {
   "cell_type": "code",
   "execution_count": null,
   "metadata": {},
   "outputs": [],
   "source": [
    "\"Hugo, Paco, Luis\".rpartition(\"+\")"
   ]
  },
  {
   "cell_type": "markdown",
   "metadata": {},
   "source": [
    "#### _split()_\n",
    "Este método busca de izquierda a derecha el patrón que se ingresa como parámetro dentro del objeto tipo _str_, identifica a todas las coincidencias y regresa un objeto de tipo _list_ con cada fragmento de texto delimitado por el patrón. En caso de no encontrar al patrón, regresará un objeto de tipo _list_, conteniendo al objeto _str_ original.\n",
    "\n",
    "**Ejemplos:**"
   ]
  },
  {
   "cell_type": "code",
   "execution_count": null,
   "metadata": {},
   "outputs": [],
   "source": [
    "\"Hugo, Paco, Luis\".split(\", \")"
   ]
  },
  {
   "cell_type": "code",
   "execution_count": null,
   "metadata": {},
   "outputs": [],
   "source": [
    "\"Hugo, Paco, Luis\".split(\"+\")"
   ]
  },
  {
   "cell_type": "markdown",
   "metadata": {},
   "source": [
    "#### _rsplit()_\n",
    "Este método busca de derecha a izquierda el patrón que se ingresa como parámetro dentro del objeto tipo _str_, identifica a todas las coincidencias y regresa un objeto de tipo _list_ con cada fragmento de texto delimitado por el patrón. En caso de no encontrar al patrón, regresará un objeto de tipo _list_, conteniendo al texto original.\n",
    "\n",
    "**Ejemplos: **\n"
   ]
  },
  {
   "cell_type": "code",
   "execution_count": null,
   "metadata": {},
   "outputs": [],
   "source": [
    "\"Hugo, Paco, Luis\".rsplit(\", \")"
   ]
  },
  {
   "cell_type": "code",
   "execution_count": null,
   "metadata": {},
   "outputs": [],
   "source": [
    "\"Hugo, Paco, Luis\".rsplit(\"+\")"
   ]
  },
  {
   "cell_type": "markdown",
   "metadata": {},
   "source": [
    "#### _splitlines()_\n",
    "Método que identifica retornos de línea _\"\\n\"_ y regresa un objeto de tipo _list_ conteniendo cada línea identificada. en caso de no encontrar un retorno de línea, regresará un objeto de tipo _list_ conteniendo a su vez un objeto de tipo _str_ conteniendo al texto original.\n",
    "\n",
    "**Ejemplo:**"
   ]
  },
  {
   "cell_type": "code",
   "execution_count": null,
   "metadata": {},
   "outputs": [],
   "source": [
    "nombres = \"Hugo.\\nPaco.\\nLuis.\"\n",
    "print(nombres)"
   ]
  },
  {
   "cell_type": "code",
   "execution_count": null,
   "metadata": {},
   "outputs": [],
   "source": [
    "nombres.splitlines()"
   ]
  },
  {
   "cell_type": "markdown",
   "metadata": {},
   "source": [
    "### Métodos de búsqueda y reemplazo.\n",
    "\n",
    "#### _find()_\n",
    "Método que busca de izquierda a derecha un patrón que es ingresado como argumento y regresa el índice del primero que encuentra. En caso de no encontrarlo regresará el valor _-1_.\n",
    "\n",
    "**Ejemplos:**"
   ]
  },
  {
   "cell_type": "code",
   "execution_count": null,
   "metadata": {},
   "outputs": [],
   "source": [
    "'Luis, Hugo, Paco, Luis'.find('Paco')"
   ]
  },
  {
   "cell_type": "code",
   "execution_count": null,
   "metadata": {},
   "outputs": [],
   "source": [
    "'Luis, Hugo, Paco, Luis'.find('Luis')"
   ]
  },
  {
   "cell_type": "code",
   "execution_count": null,
   "metadata": {},
   "outputs": [],
   "source": [
    "'Luis, Hugo, Paco, Luis'.find('Juan')"
   ]
  },
  {
   "cell_type": "markdown",
   "metadata": {},
   "source": [
    "#### _rfind()_\n",
    "Método que busca de derecha a izquierda un patrón que es ingresado como argumento y regresa el índice del primero que encuentra. En caso de no encontrarlo regresará el valor _-1_.\n",
    "\n",
    "**Ejemplos:**"
   ]
  },
  {
   "cell_type": "code",
   "execution_count": null,
   "metadata": {},
   "outputs": [],
   "source": [
    "'Luis, Hugo, Paco, Luis'.rfind('Paco')"
   ]
  },
  {
   "cell_type": "code",
   "execution_count": null,
   "metadata": {},
   "outputs": [],
   "source": [
    "'Luis, Hugo, Paco, Luis'.rfind('Luis')"
   ]
  },
  {
   "cell_type": "code",
   "execution_count": null,
   "metadata": {},
   "outputs": [],
   "source": [
    "'Luis, Hugo, Paco, Luis'.rfind('Juan')"
   ]
  },
  {
   "cell_type": "markdown",
   "metadata": {},
   "source": [
    "#### _index()_\n",
    "Método que busca de izquierda a derecha un patrón que es ingresado como argumento y regresa el índice del primero que encuentre. En caso de no encontrarlo se generará un mensaje de error.\n",
    "\n",
    "**Ejemplos:**"
   ]
  },
  {
   "cell_type": "code",
   "execution_count": null,
   "metadata": {},
   "outputs": [],
   "source": [
    "'Luis, Hugo, Paco, Luis'.index('Paco')"
   ]
  },
  {
   "cell_type": "code",
   "execution_count": null,
   "metadata": {},
   "outputs": [],
   "source": [
    "'Luis, Hugo, Paco, Luis'.index('Luis')"
   ]
  },
  {
   "cell_type": "code",
   "execution_count": null,
   "metadata": {},
   "outputs": [],
   "source": [
    "'Luis, Hugo, Paco, Luis'.index('Juan')"
   ]
  },
  {
   "cell_type": "markdown",
   "metadata": {},
   "source": [
    "#### _rindex()_\n",
    "Método que busca derecha a izquierda un patrón que es ingresado como argumento y regresa el índice del primero que encuentre. En caso de no encontrarlo se generará un mensaje de error de tipo _ValueError_.\n",
    "\n",
    "**Ejemplos:**"
   ]
  },
  {
   "cell_type": "code",
   "execution_count": null,
   "metadata": {},
   "outputs": [],
   "source": [
    "'Luis, Hugo, Paco, Luis'.rindex('Paco')"
   ]
  },
  {
   "cell_type": "code",
   "execution_count": null,
   "metadata": {},
   "outputs": [],
   "source": [
    "'Luis, Hugo, Paco, Luis'.rindex('Luis')"
   ]
  },
  {
   "cell_type": "code",
   "execution_count": null,
   "metadata": {},
   "outputs": [],
   "source": [
    "'Luis, Hugo, Paco, Luis'.rindex('Juan')"
   ]
  },
  {
   "cell_type": "markdown",
   "metadata": {},
   "source": [
    "#### _replace()_\n",
    "Método al que se le ingresan un patrón y un texto de sustitución. Regresará un objeto tipo _str_ sustituyendo cada coincidencia. En caso de no encontrar coincidencias, regresará un objeto tipo _str_ con el texto original.\n",
    "\n",
    "**Ejemplos:**"
   ]
  },
  {
   "cell_type": "code",
   "execution_count": null,
   "metadata": {},
   "outputs": [],
   "source": [
    "'Luis, Hugo, Paco, Luis'.replace('Luis', 'Juan Antonio')"
   ]
  },
  {
   "cell_type": "code",
   "execution_count": null,
   "metadata": {},
   "outputs": [],
   "source": [
    "'Luis, Hugo, Paco, Luis'.replace('Pedro', 'Juan')"
   ]
  },
  {
   "cell_type": "markdown",
   "metadata": {},
   "source": [
    "### Métodos de evaluación.\n",
    "\n",
    "#### _count()_\n",
    "Cuenta el número de veces que aparece un patrón ingresado como argumento dentro del texto.\n",
    "\n",
    "**Ejemplos:**"
   ]
  },
  {
   "cell_type": "code",
   "execution_count": null,
   "metadata": {},
   "outputs": [],
   "source": [
    "\"Hola, amigos.\". count(\"a\")"
   ]
  },
  {
   "cell_type": "code",
   "execution_count": null,
   "metadata": {},
   "outputs": [],
   "source": [
    "\"Hola, amigos.\". count(\"la\")"
   ]
  },
  {
   "cell_type": "code",
   "execution_count": null,
   "metadata": {},
   "outputs": [],
   "source": [
    "\"Hola, amigos.\". count(\"z\")"
   ]
  },
  {
   "cell_type": "markdown",
   "metadata": {},
   "source": [
    "#### _startswith()_\n",
    "Evalúa si el patrón ingresado como argumento corresponde al inicio del texto en el objeto de tipo _str_. Regresa _True_ si hay correspondencia y de lo contrario, regresa _False_.\n",
    "\n",
    "**Ejemplos:**"
   ]
  },
  {
   "cell_type": "code",
   "execution_count": null,
   "metadata": {},
   "outputs": [],
   "source": [
    "\"Hola, amigos.\".startswith(\"la\")"
   ]
  },
  {
   "cell_type": "code",
   "execution_count": null,
   "metadata": {},
   "outputs": [],
   "source": [
    "\"Hola, amigos.\". startswith(\"Hola\")"
   ]
  },
  {
   "cell_type": "markdown",
   "metadata": {},
   "source": [
    "#### _endswith()_\n",
    "Evalúa si el patrón ingresado como argumento corresponde al final del texto en el objeto de tipo _str_. Regresa _True_ si hay correspondencia y de lo contrario, regresa _False_.\n",
    "\n",
    "**Ejemplos:**"
   ]
  },
  {
   "cell_type": "code",
   "execution_count": null,
   "metadata": {},
   "outputs": [],
   "source": [
    "\"Hola, amigos.\".endswith(\"Hola\")"
   ]
  },
  {
   "cell_type": "code",
   "execution_count": null,
   "metadata": {},
   "outputs": [],
   "source": [
    "\"Hola, amigos.\".endswith(\"gos.\")"
   ]
  },
  {
   "cell_type": "markdown",
   "metadata": {},
   "source": [
    "#### _isalnum()_\n",
    "Evalúa si el texto del objeto tipo _str_ contiene exclusivamente caracteres alfanuméricos.\n",
    "\n",
    "**Ejemplos: **"
   ]
  },
  {
   "cell_type": "code",
   "execution_count": null,
   "metadata": {},
   "outputs": [],
   "source": [
    "\"@#%&\".isalnum()"
   ]
  },
  {
   "cell_type": "code",
   "execution_count": null,
   "metadata": {},
   "outputs": [],
   "source": [
    "'Hola 12'.isalnum()"
   ]
  },
  {
   "cell_type": "code",
   "execution_count": null,
   "metadata": {},
   "outputs": [],
   "source": [
    "\"Hola12\".isalnum()"
   ]
  },
  {
   "cell_type": "markdown",
   "metadata": {},
   "source": [
    "#### _isalpha()_\n",
    "Evalúa si el texto del objeto tipo _str_ contiene exclusivamente caracteres alfabéticos (en cualquier alfabeto de Unicode).\n",
    "\n",
    "**Ejemplos: **"
   ]
  },
  {
   "cell_type": "code",
   "execution_count": null,
   "metadata": {},
   "outputs": [],
   "source": [
    "\"@#%&\".isalpha()"
   ]
  },
  {
   "cell_type": "code",
   "execution_count": null,
   "metadata": {},
   "outputs": [],
   "source": [
    "'Hola'.isalpha()"
   ]
  },
  {
   "cell_type": "code",
   "execution_count": null,
   "metadata": {},
   "outputs": [],
   "source": [
    "'Hola.'.isalpha()"
   ]
  },
  {
   "cell_type": "code",
   "execution_count": null,
   "metadata": {},
   "outputs": [],
   "source": [
    "'Ω'.isalpha()"
   ]
  },
  {
   "cell_type": "markdown",
   "metadata": {},
   "source": [
    "#### _isnumeric()_\n",
    "Evalúa si el texto del objeto tipo _str_ contiene caracteres exclusivamente con representación numérica.\n",
    "\n",
    "**Ejemplos:**"
   ]
  },
  {
   "cell_type": "code",
   "execution_count": null,
   "metadata": {},
   "outputs": [],
   "source": [
    "'0x1a'.isnumeric()"
   ]
  },
  {
   "cell_type": "code",
   "execution_count": null,
   "metadata": {},
   "outputs": [],
   "source": [
    "'-22.1'.isnumeric()"
   ]
  },
  {
   "cell_type": "code",
   "execution_count": null,
   "metadata": {},
   "outputs": [],
   "source": [
    "'23'.isnumeric()"
   ]
  },
  {
   "cell_type": "code",
   "execution_count": null,
   "metadata": {},
   "outputs": [],
   "source": [
    "'2²'.isnumeric()"
   ]
  },
  {
   "cell_type": "code",
   "execution_count": null,
   "metadata": {},
   "outputs": [],
   "source": [
    "'½'.isnumeric()"
   ]
  },
  {
   "cell_type": "markdown",
   "metadata": {},
   "source": [
    "#### _isdecimal()_\n",
    "Evalúa si el texto del objeto tipo _str_ contiene caracteres exclusivamente con representación numérica decimal.\n",
    "\n",
    "**Ejemplos:**"
   ]
  },
  {
   "cell_type": "code",
   "execution_count": null,
   "metadata": {},
   "outputs": [],
   "source": [
    "'0x1a'.isdecimal()"
   ]
  },
  {
   "cell_type": "code",
   "execution_count": null,
   "metadata": {},
   "outputs": [],
   "source": [
    "'-22.1'.isdecimal()"
   ]
  },
  {
   "cell_type": "code",
   "execution_count": null,
   "metadata": {},
   "outputs": [],
   "source": [
    "'23'.isdecimal()"
   ]
  },
  {
   "cell_type": "code",
   "execution_count": null,
   "metadata": {},
   "outputs": [],
   "source": [
    "'2²'.isdecimal()"
   ]
  },
  {
   "cell_type": "code",
   "execution_count": null,
   "metadata": {},
   "outputs": [],
   "source": [
    "'½'.isdecimal()"
   ]
  },
  {
   "cell_type": "markdown",
   "metadata": {},
   "source": [
    "#### _isdigit()_\n",
    "Evalúa si el texto del objeto tipo _str_ contiene caracteres exclusivamente que representen dígitos.\n",
    "\n",
    "**Ejemplos:**"
   ]
  },
  {
   "cell_type": "code",
   "execution_count": null,
   "metadata": {},
   "outputs": [],
   "source": [
    "'0x1a'.isdigit()"
   ]
  },
  {
   "cell_type": "code",
   "execution_count": null,
   "metadata": {},
   "outputs": [],
   "source": [
    "'-22.1'.isdigit()"
   ]
  },
  {
   "cell_type": "code",
   "execution_count": null,
   "metadata": {},
   "outputs": [],
   "source": [
    "'23'.isdigit()"
   ]
  },
  {
   "cell_type": "code",
   "execution_count": null,
   "metadata": {},
   "outputs": [],
   "source": [
    "'2²'.isdigit()"
   ]
  },
  {
   "cell_type": "code",
   "execution_count": null,
   "metadata": {},
   "outputs": [],
   "source": [
    "'½'.isdigit()"
   ]
  },
  {
   "cell_type": "markdown",
   "metadata": {},
   "source": [
    "#### _islower()_\n",
    "Evalúa si los caracteres alfabéticos contenidos en el texto están solamente en minúsculas.\n",
    "\n",
    "**Ejemplos:**\n"
   ]
  },
  {
   "cell_type": "code",
   "execution_count": null,
   "metadata": {},
   "outputs": [],
   "source": [
    "'¡hola, amigos!'.islower()"
   ]
  },
  {
   "cell_type": "code",
   "execution_count": null,
   "metadata": {},
   "outputs": [],
   "source": [
    "'¡Hola, amigos!'.islower()"
   ]
  },
  {
   "cell_type": "markdown",
   "metadata": {},
   "source": [
    "#### _isupper()_\n",
    "Evalúa si los caracteres alfabéticos contenidos en el texto están solamente en mayúsculas.\n",
    "\n",
    "**Ejemplos:**"
   ]
  },
  {
   "cell_type": "code",
   "execution_count": null,
   "metadata": {},
   "outputs": [],
   "source": [
    "'¡HOLA, AMIGOS!'.isupper()"
   ]
  },
  {
   "cell_type": "code",
   "execution_count": null,
   "metadata": {},
   "outputs": [],
   "source": [
    "'¡Hola, amigos!'.isupper()"
   ]
  },
  {
   "cell_type": "markdown",
   "metadata": {},
   "source": [
    "#### _istitle()_\n",
    "Evalúa si cada palabra del texto contenido en el objeto tipo _str_ comience con mayúsculas y el resto sean minúsculas.\n",
    "\n",
    "**Ejemplos:**"
   ]
  },
  {
   "cell_type": "code",
   "execution_count": null,
   "metadata": {},
   "outputs": [],
   "source": [
    "'¡HOLA, AMIGOS!'.istitle()"
   ]
  },
  {
   "cell_type": "code",
   "execution_count": null,
   "metadata": {},
   "outputs": [],
   "source": [
    "'¡Hola, amigos!'.istitle()"
   ]
  },
  {
   "cell_type": "code",
   "execution_count": null,
   "metadata": {},
   "outputs": [],
   "source": [
    "'¡Hola, Amigos!'.istitle()"
   ]
  },
  {
   "cell_type": "code",
   "execution_count": null,
   "metadata": {},
   "outputs": [],
   "source": [
    "'¡HOla, Amigos!'.istitle()"
   ]
  },
  {
   "cell_type": "markdown",
   "metadata": {},
   "source": [
    "#### _isprintable()_\n",
    "Evalúa si el texto contenido en le objeto tipo _str_ incluye sólo caracteres imprimibles.\n",
    "\n",
    "**Ejemplos:**"
   ]
  },
  {
   "cell_type": "code",
   "execution_count": null,
   "metadata": {},
   "outputs": [],
   "source": [
    "nombres = \"Hugo.\\nPaco.\\nLuis.\"\n",
    "print(nombres)"
   ]
  },
  {
   "cell_type": "code",
   "execution_count": null,
   "metadata": {},
   "outputs": [],
   "source": [
    "nombres.isprintable()"
   ]
  },
  {
   "cell_type": "code",
   "execution_count": null,
   "metadata": {},
   "outputs": [],
   "source": [
    "nombres = \"Hugo.\\tPaco.\\tLuis.\"\n",
    "print(nombres)"
   ]
  },
  {
   "cell_type": "code",
   "execution_count": null,
   "metadata": {},
   "outputs": [],
   "source": [
    "nombres.isprintable()"
   ]
  },
  {
   "cell_type": "code",
   "execution_count": null,
   "metadata": {},
   "outputs": [],
   "source": [
    "'Hugo, Paco, Luis.'.isprintable()"
   ]
  },
  {
   "cell_type": "markdown",
   "metadata": {},
   "source": [
    "#### _isspace()_\n",
    "Evalúa si el objeto tipo _str_ está compuesto exclusivamente de espacios.\n",
    "\n",
    "**Ejemplos:**"
   ]
  },
  {
   "cell_type": "code",
   "execution_count": null,
   "metadata": {},
   "outputs": [],
   "source": [
    "''.isspace()"
   ]
  },
  {
   "cell_type": "code",
   "execution_count": null,
   "metadata": {},
   "outputs": [],
   "source": [
    "'     '.isspace()"
   ]
  },
  {
   "cell_type": "code",
   "execution_count": null,
   "metadata": {},
   "outputs": [],
   "source": [
    "'Hola, mundo.'.isspace()"
   ]
  },
  {
   "cell_type": "markdown",
   "metadata": {},
   "source": [
    "#### _isidentifier()_\n",
    "Evalúa si el objeto tipo _str_ cumple con las características de un identificador.\n",
    "\n",
    "**Ejemplos:**"
   ]
  },
  {
   "cell_type": "code",
   "execution_count": null,
   "metadata": {},
   "outputs": [],
   "source": [
    "'Nombre'.isidentifier()"
   ]
  },
  {
   "cell_type": "code",
   "execution_count": null,
   "metadata": {},
   "outputs": [],
   "source": [
    "'!1nombre'.isidentifier()"
   ]
  },
  {
   "cell_type": "code",
   "execution_count": null,
   "metadata": {},
   "outputs": [],
   "source": [
    "'Hola, mundo.'.isidentifier()"
   ]
  },
  {
   "cell_type": "markdown",
   "metadata": {},
   "source": [
    "### Métodos de mapeo de caracteres.\n",
    "Es posible generar tablas de caracteres, los cuales puedan sustituir a unos por otros. Este tipo de sustitución se hace generalmente cuando se debe interactuar con aplicaciones que no aceptan caracteres especiales.\n",
    "\n",
    "#### _maketrans()_\n",
    "Este método permite crear una tabla de caracteres, la cual consiste en un diccionario que relaciona a un par de caracteres por su número correspondiente en la codificación.\n",
    "\n",
    "**Ejemplo:**"
   ]
  },
  {
   "cell_type": "code",
   "execution_count": null,
   "metadata": {},
   "outputs": [],
   "source": [
    "trans = \"\".maketrans(\"áäàéëèíïìóöòúüù\", \"aaaeeeiiiooouuu\")\n",
    "trans"
   ]
  },
  {
   "cell_type": "markdown",
   "metadata": {},
   "source": [
    "#### _translate()_\n",
    "Este método sustituye los caracteres a partir de una tabla de caracteres.\n",
    "\n",
    "**Ejemplo:**"
   ]
  },
  {
   "cell_type": "code",
   "execution_count": null,
   "metadata": {},
   "outputs": [],
   "source": [
    "trans = ''.maketrans(\"áäàéëèíïìóöòúüù\", \"aaaeeeiiiooouuu\")\n",
    "'Hólá amïgòs. ¿Cómö éstán?'.translate(trans)"
   ]
  },
  {
   "cell_type": "code",
   "execution_count": null,
   "metadata": {},
   "outputs": [],
   "source": [
    "trans = ''.maketrans('oieastg', '0134579')\n",
    "\"Hola, amigos. ¿Como estan?\".translate(trans)"
   ]
  },
  {
   "cell_type": "markdown",
   "metadata": {},
   "source": [
    "### Métodos de codificación.\n",
    "\n",
    "Como ya se ha mencionado, Python 3 utiliza la codificación de caracteres UTF-8, un subconjunto de la especificación de Unicode; mientras que Python 2 utiliza la codificación ASCII. Los codificaciones estándar soportadas por Python 3 pueden ser consultadas desde [esta liga](https://docs.python.org/3/library/codecs.html#standard-encodings).\n",
    "\n",
    "Es posible cambiar el tipo de codificación del texto contenido en un objeto tipo _str_ a otra codificación. \n",
    "\n",
    "#### _encode()_\n",
    "Este método permite transformar el contenido de un objeto _str_ de una codificación en otra. El resultado de la transformación es un objetos tipo _bytes_. El formato de codificación se define mediante la asignación del valor de dicha codificación  al identificador _encoding_. El valor por defecto de _encoding_ es _\"utf-8\"_.\n",
    "\n",
    "Es común que no todos los caracteres tengan una correspondencia de una codificación a otra, por lo que se pueden generar errores de conversión. Se pueden definir cuatro formas de gestionar estos errores ingresando el valor de la forma relacionado con el identificador _errors_. \n",
    "\n",
    "* _'strict'_, el cual emite un error de codificacion. Si no se indica, esta es la forma por defecto de gestionar los errores de codificación.\n",
    "* _'ignore'_, el cual ignora el caracter en cuestión y prosigue con el siguiente.\n",
    "* _'replace'_ el cual sustituye al caracter en cuestión por un signo de interrogación ( _?_).\n",
    "* _'xmlcharrefreplace'_ el cual sustituye el caracter por el valor correspondiente a su [valor de entidad de caracter de XML](https://es.wikipedia.org/wiki/Anexo:Entidades_de_caracteres_XML_y_HTML). \n",
    "\n",
    "**Ejemplos:**"
   ]
  },
  {
   "cell_type": "code",
   "execution_count": null,
   "metadata": {},
   "outputs": [],
   "source": [
    "'Holåé'.encode(encoding=\"ascii\", errors='ignore')"
   ]
  },
  {
   "cell_type": "code",
   "execution_count": null,
   "metadata": {},
   "outputs": [],
   "source": [
    "'Holåé'.encode(encoding=\"ascii\", errors='replace')"
   ]
  },
  {
   "cell_type": "code",
   "execution_count": null,
   "metadata": {},
   "outputs": [],
   "source": [
    "'Holåé'.encode(encoding=\"ascii\", errors='xmlcharrefreplace')"
   ]
  },
  {
   "cell_type": "code",
   "execution_count": null,
   "metadata": {},
   "outputs": [],
   "source": [
    "'Holåé'.encode(encoding=\"ascii\", errors='strict')"
   ]
  },
  {
   "cell_type": "markdown",
   "metadata": {},
   "source": [
    "## Objetos tipo _bytes_.\n",
    "\n",
    "Además de los objetos de tipo _str_ existen diversos tipos de datos que también pueden contener caracteres. \n",
    "\n",
    "Son una sucesión ordenada de valores que representan a un caracter conforme a su número correspondiente en el [código ASCII](http://www.asciitable.com/) y se definen anteponiendo la letra _b_ a los apóstrofes o comillas.\n",
    "```\n",
    "b'<texto>'\n",
    "b\"<texto>\" \n",
    "```\n",
    "\n",
    "Cuando se utiliza un ojbeto de tipo _bytes_ en la función _print()_, no despliega un texto sino el valor del objeto.\n",
    "\n",
    "**Ejemplos:**"
   ]
  },
  {
   "cell_type": "code",
   "execution_count": null,
   "metadata": {},
   "outputs": [],
   "source": [
    "palabra = b\"Hola\""
   ]
  },
  {
   "cell_type": "code",
   "execution_count": null,
   "metadata": {},
   "outputs": [],
   "source": [
    "type(palabra)"
   ]
  },
  {
   "cell_type": "code",
   "execution_count": null,
   "metadata": {},
   "outputs": [],
   "source": [
    "print(palabra)"
   ]
  },
  {
   "cell_type": "code",
   "execution_count": null,
   "metadata": {},
   "outputs": [],
   "source": [
    "palabra[0]"
   ]
  },
  {
   "cell_type": "code",
   "execution_count": null,
   "metadata": {},
   "outputs": [],
   "source": [
    "palabra[2:4]"
   ]
  },
  {
   "cell_type": "code",
   "execution_count": null,
   "metadata": {},
   "outputs": [],
   "source": [
    "palabra[1] = b'm'"
   ]
  },
  {
   "cell_type": "markdown",
   "metadata": {},
   "source": [
    "### Transformaciones entre objetos _str_ y _bytes_.\n",
    "Para transformar un objeto de tipo _str_ a _bytes_ se utiliza la función _bytes()_, ingresando al objeto como primer argumento y posteriormente el valor al que corresponde la codificación que se aplicará. \n",
    "En el caso de querer transformar un objeto _bytes_ a _str_ se utiliza la función _str()_ ingresando al objeto como primer argumento y posteriormente el valor al que corresponde la codificación que se aplicará.\n"
   ]
  },
  {
   "cell_type": "code",
   "execution_count": null,
   "metadata": {},
   "outputs": [],
   "source": [
    "print(bytes('hola', \"utf-8\"))"
   ]
  },
  {
   "cell_type": "code",
   "execution_count": null,
   "metadata": {},
   "outputs": [],
   "source": [
    "print(str(b'hola'[1:3], 'ascii'))"
   ]
  },
  {
   "cell_type": "markdown",
   "metadata": {},
   "source": [
    "### Métodos de los objetos tipo _bytes_.\n",
    "\n",
    "Los objetos de tipo _bytes_ comparten los siguientes métodos con los de tipo _str_: \n",
    "* _capitalize()_\n",
    "* _ center()_\n",
    "* _ count()_\n",
    "* _endswith()_\n",
    "* _expandtabs()_\n",
    "* _find()_\n",
    "* _index()_\n",
    "* _isalnum()_\n",
    "* _isalpha()_\n",
    "* _isdigit()_\n",
    "* _islower()_\n",
    "* _isspace()_\n",
    "* _istitle()_\n",
    "* _isupper()_\n",
    "* _join()_\n",
    "* _ljust()_\n",
    "* _lower()_\n",
    "* _lstrip()_\n",
    "* _maketrans()_\n",
    "* _partition()_\n",
    "* _replace()_\n",
    "* _rfind()_\n",
    "* _rindex()_\n",
    "* _rjust()_\n",
    "* _rpartition()_\n",
    "* _rsplit()_\n",
    "* _rstrip()_\n",
    "* _split()_\n",
    "* _splitlines()_\n",
    "* _startswith()_\n",
    "* _strip()_\n",
    "* _swapcase()_\n",
    "* _title()_\n",
    "* _translate()_\n",
    "* _upper()_\n",
    "* _zfill()_\n",
    "\n",
    "#### _decode()_\n",
    "Este método funciona de manera inversa al método _code()_ de los objetos tipo str. \n",
    "Se ingresan como argumentos el valor de codficación ligado al identificador _encoding_ y el valor de manejo de errores de codificación ligado al identificador _errors_.\n",
    "\n",
    "**Ejemplo:**"
   ]
  },
  {
   "cell_type": "code",
   "execution_count": null,
   "metadata": {},
   "outputs": [],
   "source": [
    "b'Hola,'.decode(encoding=\"utf-8\")"
   ]
  },
  {
   "cell_type": "markdown",
   "metadata": {},
   "source": [
    "#### _hex()_\n",
    "Regresa un objeto tipo _str_ que contiene la representación en hexadecimal de cada elemento del objeto tipo _bytes_.\n",
    "\n",
    "**Ejemplo:**"
   ]
  },
  {
   "cell_type": "code",
   "execution_count": null,
   "metadata": {},
   "outputs": [],
   "source": [
    "b'Hola'.hex()"
   ]
  },
  {
   "cell_type": "markdown",
   "metadata": {},
   "source": [
    "#### _fromhex()_\n",
    "Regresa un objeto tipo _bytes_ a partir de un objeto _str_ que contiene la representación en hexadecimal de uno o más caracteres ASCII.\n",
    "\n",
    "**Ejemplo:**"
   ]
  },
  {
   "cell_type": "code",
   "execution_count": null,
   "metadata": {},
   "outputs": [],
   "source": [
    "b''.fromhex('486f6c61')"
   ]
  },
  {
   "cell_type": "markdown",
   "metadata": {},
   "source": [
    "## Funciones útiles con los objetos tipo  _str_ y tipo _bytes_.\n",
    "\n",
    "### La función _len()_.\n",
    "La función _len()_ devuelve el número de caracteres contenidos en un objeto tipo _str_ o tipo _bytes_ mediante la siguiente sintaxis:\n",
    "```\n",
    "len(<objeto>)\n",
    "```\n",
    "**Ejemplo:**"
   ]
  },
  {
   "cell_type": "code",
   "execution_count": null,
   "metadata": {},
   "outputs": [],
   "source": [
    "len(b'Hola')"
   ]
  },
  {
   "cell_type": "markdown",
   "metadata": {},
   "source": [
    "### La función _max()_.\n",
    "La función _max()_ devuelve el elemento de mayor valor contenido en un objeto de tipo _bytes_ o _str_ mediante la siguiente sintaxis:\n",
    "```\n",
    "max(<objeto>)\n",
    "```\n",
    "\n",
    "**Ejemplo:**"
   ]
  },
  {
   "cell_type": "code",
   "execution_count": null,
   "metadata": {},
   "outputs": [],
   "source": [
    "max('Hola')"
   ]
  },
  {
   "cell_type": "code",
   "execution_count": null,
   "metadata": {},
   "outputs": [],
   "source": [
    "max(b'Hola')"
   ]
  },
  {
   "cell_type": "markdown",
   "metadata": {},
   "source": [
    "### La función _min()_.\n",
    "La función _min()_ devuelve el elemento de mayor valor contenido en un objeto de tipo _bytes_ o _str_ mediante la siguiente sintaxis:\n",
    "```\n",
    "min(<objeto>)\n",
    "```\n",
    "\n",
    "**Ejemplos:**"
   ]
  },
  {
   "cell_type": "code",
   "execution_count": null,
   "metadata": {},
   "outputs": [],
   "source": [
    "min(b'Hola')"
   ]
  },
  {
   "cell_type": "code",
   "execution_count": null,
   "metadata": {},
   "outputs": [],
   "source": [
    "min('Hola')"
   ]
  },
  {
   "cell_type": "markdown",
   "metadata": {},
   "source": [
    "### La función _sum()_ sólo para tipo *bytes*.\n",
    "La función _sum()_ devuelve la suma de los valores contenido en un objeto de tipo _bytes_ mediante la siguiente sintaxis:\n",
    "```\n",
    "sum(<objeto>)\n",
    "```\n",
    "\n",
    "**Ejemplos:**"
   ]
  },
  {
   "cell_type": "code",
   "execution_count": null,
   "metadata": {},
   "outputs": [],
   "source": [
    "sum(b'Hola')"
   ]
  },
  {
   "cell_type": "markdown",
   "metadata": {},
   "source": [
    "## Iteraciones con _for_...*in* para objetos tipo _str_ y tipo _bytes_.\n",
    "\n",
    "Tanto para los objetos tipo _str_ como para los objetos tipo _bytes_, cada caracter se vuelve un elemento iterable.\n",
    "\n",
    "**Ejemplos:**"
   ]
  },
  {
   "cell_type": "code",
   "execution_count": null,
   "metadata": {},
   "outputs": [],
   "source": [
    "for letra in \"Hola\":\n",
    "    print(letra)"
   ]
  },
  {
   "cell_type": "code",
   "execution_count": null,
   "metadata": {},
   "outputs": [],
   "source": [
    "for caracter in b\"Hola\":\n",
    "    print(caracter)"
   ]
  },
  {
   "cell_type": "markdown",
   "metadata": {},
   "source": [
    "## Objetos tipo  _unicode_ en Python 2.\n",
    "\n",
    "Python 2 incluye un tipo _unicode_, el cual se identifica con una u, previa a los apóstrofes o comillas. Python 3 no incluye a este tipo de dato."
   ]
  },
  {
   "cell_type": "markdown",
   "metadata": {},
   "source": [
    "<p style=\"text-align: center\"><a rel=\"license\" href=\"http://creativecommons.org/licenses/by/4.0/\"><img alt=\"Licencia Creative Commons\" style=\"border-width:0\" src=\"https://i.creativecommons.org/l/by/4.0/80x15.png\" /></a><br />Esta obra está bajo una <a rel=\"license\" href=\"http://creativecommons.org/licenses/by/4.0/\">Licencia Creative Commons Atribución 4.0 Internacional</a>.</p>\n",
    "<p style=\"text-align: center\">&copy; José Luis Chiquete Valdivieso. 2018.</p>"
   ]
  }
 ],
 "metadata": {
  "kernelspec": {
   "display_name": "Python 3",
   "language": "python",
   "name": "python3"
  },
  "language_info": {
   "codemirror_mode": {
    "name": "ipython",
    "version": 3
   },
   "file_extension": ".py",
   "mimetype": "text/x-python",
   "name": "python",
   "nbconvert_exporter": "python",
   "pygments_lexer": "ipython3",
   "version": "3.6.4"
  }
 },
 "nbformat": 4,
 "nbformat_minor": 1
}
