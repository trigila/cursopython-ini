{
 "cells": [
  {
   "cell_type": "markdown",
   "metadata": {},
   "source": [
    "[![imagenes](imagenes/pythonista.png)](https://pythonista.mx)"
   ]
  },
  {
   "cell_type": "markdown",
   "metadata": {},
   "source": [
    "# Bloques, comentarios y condicionales. \n",
    "\n",
    "## Indentación de bloques de código.\n",
    "\n",
    "En Python la indentación forma parte de la sintaxis. \n",
    "\n",
    "La indentación se utiliza para delimitar bloques de código dentro de un condicional, ciclo, función, etc., sin necesidad de utilizar caracteres delimitadores como ocurre en otros lenguajes de programación.\n",
    "\n",
    "Por convención se utilizan cuatro espacios para indentar en vez de tabuladores. Para mayor referencia ir al PEP8.\n",
    "\n",
    "## Comentarios.\n",
    "\n",
    "Los comentarios son porciones de texto que aún cuando se encuentran dentro de un bloque de código, no son interpretados por Python y sirven primordialmente para documentar al código.\n",
    "\n",
    "### Comentarios de una sola línea *#*.\n",
    "\n",
    "Cualquier texto después del carácter \"*#*\" y hasta el final de la línea es considerado como un comentario.\n",
    "\n",
    "**Ejemplo:**"
   ]
  },
  {
   "cell_type": "code",
   "execution_count": null,
   "metadata": {},
   "outputs": [],
   "source": [
    "print(\"Hola\") # Despliega un saludo."
   ]
  },
  {
   "cell_type": "markdown",
   "metadata": {},
   "source": [
    "Algunas especificaciones de ejecución de Python también se colocan como si fueran comentarios de este tipo.\n",
    "\n",
    "**Ejemplo:**\n",
    "\n",
    "``` python\n",
    "#! /usr/bin/python\n",
    "# -*- coding: utf-8 -*-\n",
    "```"
   ]
  },
  {
   "cell_type": "markdown",
   "metadata": {},
   "source": [
    "### Docstrings.\n",
    "\n",
    "Python también permite incluir comentarios de varias líneas. Éstos deben de estar encerrados entre triples comillas (*\"\"\"*) o apóstrofes (*' ' '*). Este tipo de comentarios son conocidos como \"docstrings\" y son utilizados para generar documentación que se desplegaría mediante la función _help()_.\n",
    "\n",
    "**Ejemplo:***\n",
    "\n",
    "``` python\n",
    "\"\"\"Este es un mensaje de varias líneas.\n",
    "   Tiene el potencial de generar documentación útil  mediante la funcionalidad de introspección de Python.\"\"\"\n",
    "```\n",
    "**NOTA:** Los docstrings que se incluyen al principio de un módulo, función o clase son reconocidos por Python para generación automática de la documentación.  El [PEP 257](https://www.python.org/dev/peps/pep-0257/) describe la forma y estilo de documentar en Python.\n",
    "\n"
   ]
  },
  {
   "cell_type": "markdown",
   "metadata": {},
   "source": [
    "## Condicionales.\n",
    "\n",
    "En los primeros años del cómputo, los programas consistían una secuencia lineal de instrucciones que eran ejecutadas por una máquina, tal como lo hace una pianola o una vieja caja de música. Sin embargo conforme esta disciplina se fue refinando, se volvió imperativo que el flujo de un programa de cómputo fuese lineal, sino que a partir de una serie de decisiones se ejecutaran diferentes bloques de código.\n",
    "\n",
    "Mediante las estructuras derivadas de *if*, Python puede evaluar ciertas expresiones lógicas que resultarían finalmente en un valor booleano *True/False*, el cual ejecutaría el código correspondiente."
   ]
  },
  {
   "cell_type": "markdown",
   "metadata": {},
   "source": [
    "### *if* simple e indentación.\n",
    "\n",
    "La palabra clave *if* siempre evalúa una expresión lógica y en caso de que dicha expresión de por resultado el valor *True*, se ejecutará el código indentado justo por debajo del *if*. En caso de que la declaración resulte en el valor *False*, el intérprete ignorará el bloque de código indentado y éste continuará con la instrucción siguiente inmediata a la indentación.\n",
    "\n",
    "```\n",
    "<flujo principal>\n",
    "...\n",
    "...\n",
    "if <expresión lógica>:\n",
    "     <bloque inscrito a if>\n",
    "<flujo principal>\n",
    "```\n",
    "A continuación se muestra un diagrama de flujo que ejemplifica al uso del condicional *if* en su modo más simple:\n",
    "![if simple](imagenes/if-simple.png)\n",
    "\n",
    "**Ejemplo:**"
   ]
  },
  {
   "cell_type": "code",
   "execution_count": null,
   "metadata": {},
   "outputs": [],
   "source": [
    "\"\"\"Script que ejemplifica el uso del condicional if.\n",
    "   Si se ingrese un texto igual a \"gato\", se desplegará el mensaje \"miau\".\"\"\"\n",
    "\n",
    "animal = input(\"¿Qué animal es? \")\n",
    "if animal == \"gato\":\n",
    "    print(\"miau\")\n",
    "print (\"Sólo los gatos maullan.\")"
   ]
  },
  {
   "cell_type": "markdown",
   "metadata": {},
   "source": [
    "### Estructura *if*...*else*.\n",
    "\n",
    "Si el resultado de la expresión lógica evaluada por _if_ da por resultado _False_, se puede utilizar _else_ para ejecutar el bloque de código indentado debajo de esta expresión.\n",
    "\n",
    "\n",
    "```\n",
    "<flujo principal>\n",
    "...\n",
    "...\n",
    "if <expresión lógica>:\n",
    "     <bloque inscrito a if>\n",
    "else:\n",
    "    <bloque inscrito a else>\n",
    "<flujo principal>\n",
    "```\n",
    "A continuación se muestra un diagrama de flujo que ejemplifica al uso del condicional _if_ y _else_:\n",
    "\n",
    "![if-else](imagenes/if-else.png)\n",
    "\n",
    "**Ejemplo:**"
   ]
  },
  {
   "cell_type": "code",
   "execution_count": null,
   "metadata": {},
   "outputs": [],
   "source": [
    "\"\"\"Script que ejemplifica el uso de la estructura condicional if-else.\n",
    "   Si se ingresa un texto igual a \"gato\", se desplegará el mensaje \"miau\", \n",
    "introducir cualquier otro texto desplegará \"no sé que ruido hace ese animal.\" \"\"\"\n",
    "\n",
    "animal = input(\"¿Qué animal es? \")\n",
    "print(\"Este animal es un %s.\" % animal)\n",
    "if animal == \"gato\":\n",
    "    print(\"miau\")\n",
    "else:\n",
    "    print(\"No sé que ruido hace este animal.\")\n",
    "print(\"Sólo los gatos maullan.\")"
   ]
  },
  {
   "cell_type": "markdown",
   "metadata": {},
   "source": [
    "### Estructura *if*...*elif*...*else*.\n",
    "\n",
    "Es posible evaluar más de una expresión lógica mediante el uso de _elif_. En el caso de que exista más de una expresión lógica que de por resultado _True_, Python ejecutará solamente el código delimitado por la primera que ocurra.\n",
    "\n",
    "En caso de que ninguna de las condiciones de por resultado _True_ se puede utilizar _else_ al final de la estructura.\n",
    "\n",
    "```\n",
    "<flujo principal>\n",
    "...\n",
    "...\n",
    "if <expresión lógica>:\n",
    "     <bloque inscrito a if>\n",
    "elif <expresión lógica 1>:\n",
    "     <bloque inscrio a elif>\n",
    "elif <expresión lógica 2>:\n",
    "     <bloque inscrio a elif>\n",
    "...\n",
    "...\n",
    "elif <expresión lógica n>:\n",
    "     <bloque inscrio a elif>\n",
    "else:\n",
    "    <bloque inscrito a else>\n",
    "<flujo principal>\n",
    "```\n",
    "\n",
    "A continuación se muestra un diagrama de flujo que ejemplifica al uso del condicional _if_, _elif_ y _else_:\n",
    "\n",
    "![if-elif-else](imagenes/if-elif.png)\n",
    "\n",
    "**Ejemplo: **"
   ]
  },
  {
   "cell_type": "code",
   "execution_count": null,
   "metadata": {},
   "outputs": [],
   "source": [
    "#! /usr/bin/python3\n",
    "\"\"\"Script que ejemplifica el uso de la estructura condicional if-elif-else.\n",
    "   Si se ingresa un texto igual a alguno de los nombres de animales, se desplegará el mensaje correspondiente, \n",
    "introducir cualquier otro texto desplegará \"no sé que ruido hace ese animal.\" \"\"\"\n",
    "#! /usr/bin/python3\n",
    "\n",
    "animal = input(\"¿Qué animal sugiere? \")\n",
    "print(\"Este animal es %s.\" % animal)\n",
    "if animal == \"gato\":\n",
    "    print(\"miau\")\n",
    "elif animal == \"perro\":\n",
    "    print(\"guau\")\n",
    "elif animal == \"pez\":\n",
    "    print (\"glub glub\")\n",
    "elif animal == \"gallo\":\n",
    "    print(\"kikiriki\")\n",
    "elif animal == \"vaca\":\n",
    "    print(\"muuu\")\n",
    "else:\n",
    "    print(\"No sé que ruido hace este animal.\")\n",
    "print(\"Sólo los gatos maullan.\")"
   ]
  },
  {
   "cell_type": "markdown",
   "metadata": {},
   "source": [
    "<p style=\"text-align: center\"><a rel=\"license\" href=\"http://creativecommons.org/licenses/by/4.0/\"><img alt=\"Licencia Creative Commons\" style=\"border-width:0\" src=\"https://i.creativecommons.org/l/by/4.0/80x15.png\" /></a><br />Esta obra está bajo una <a rel=\"license\" href=\"http://creativecommons.org/licenses/by/4.0/\">Licencia Creative Commons Atribución 4.0 Internacional</a>.</p>\n",
    "<p style=\"text-align: center\">&copy; José Luis Chiquete Valdivieso. 2018.</p>"
   ]
  }
 ],
 "metadata": {
  "kernelspec": {
   "display_name": "Python 3",
   "language": "python",
   "name": "python3"
  },
  "language_info": {
   "codemirror_mode": {
    "name": "ipython",
    "version": 3
   },
   "file_extension": ".py",
   "mimetype": "text/x-python",
   "name": "python",
   "nbconvert_exporter": "python",
   "pygments_lexer": "ipython3",
   "version": "3.6.4"
  }
 },
 "nbformat": 4,
 "nbformat_minor": 1
}
