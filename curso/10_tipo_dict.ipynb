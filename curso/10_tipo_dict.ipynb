{
 "cells": [
  {
   "cell_type": "markdown",
   "metadata": {},
   "source": [
    "[![imagenes](imagenes/pythonista.png)](https://pythonista.mx)"
   ]
  },
  {
   "cell_type": "markdown",
   "metadata": {
    "collapsed": true
   },
   "source": [
    "# Objetos tipo _dict_.\n",
    "\n",
    "Los objetos de tipo _dict_ son una colección de elementos en la que los índices en vez de ser numéricos corresponden a un \"identificador\".\n",
    "\n",
    "\n",
    "## Estructura de un objeto tipo _dict_.\n",
    "\n",
    "Los objetos de tipo _dict_ se definen como una sucesión de pares _clave: valor_ separados por comas. \n",
    "\n",
    "El identificador debe de ser un objeto inmutable tal como es el caso de:\n",
    "\n",
    "* Objetos de tipo _str_.\n",
    "* Objetos de tipo _int_.\n",
    "* Objetos de tipo _float_.\n",
    "* Objetos de tipo _complex_.\n",
    "* Objetos de tipo _bool_.\n",
    "* Objetos de tipo _bytes_.\n",
    "* Objetos de tipo _tuple_.\n",
    "\n",
    "Lo más común y recomendable es utilizar objetos de tipo _str_ o _int_.\n",
    "\n",
    "## Definición de un objeto tipo _dict_.\n",
    "\n",
    "Hay dos maneras de definir objetos tipo _dict_.\n",
    "\n",
    "### Sintaxis con llaves.\n",
    "\n",
    "Se hace una secuencia de pares _clave: valor_, separados por comas y encerrados entre llaves (_{ }_).\n",
    "\n",
    "La sintaxis es la siguiente:\n",
    "```\n",
    "{<identificador 1>: <objeto 1>, <identificador 2>: <objeto 2>, ..., <identificador n>: <objeto n>}\n",
    "```\n",
    "\n",
    "**Ejemplos:**\n",
    "\n",
    "``` python\n",
    "{\"nombre\": \"Juan\", \"apellido_1\": \"Pérez\", \"apellido_2\": \"Sánchez\"}\n",
    "{1:('Auto', True, 12), \"valor\":None}\n",
    "{1.25: 'hola', (12, 23): 'saludo', 12j: True}\n",
    "{}\n",
    "```\n",
    "\n",
    "Cabe hacer notar que los objetos tipo _dict_ no suelen conservar el orden en el que fueron capturados sus elementos.\n",
    "\n",
    "**Ejemplo:**"
   ]
  },
  {
   "cell_type": "code",
   "execution_count": null,
   "metadata": {},
   "outputs": [],
   "source": [
    "persona = {\"nombre\": \"Juan\", \"apellido_1\":\"Pérez\", \"apellido_2\":\"Sánchez\"}"
   ]
  },
  {
   "cell_type": "code",
   "execution_count": null,
   "metadata": {},
   "outputs": [],
   "source": [
    "persona"
   ]
  },
  {
   "cell_type": "markdown",
   "metadata": {},
   "source": [
    "### La función _dict()_.\n",
    "\n",
    "Es posible crear objetos de tipo _dict_ mediante la función _dict()_. En este caso los identificadores deben de cumplir con las reglas para la definición de nombres y no llevan apóstrofes ni comillas. La relación entre el identificador y el valor se define mediante el operador de asignación (*=*).\n",
    "\n",
    "```\n",
    "dict(<nombre 1>=<valor 1>, <nombre2 >=<valor 2>, ... , <nombre n>=<valor n>)\n",
    "```\n",
    "\n",
    "**Ejemplos:**"
   ]
  },
  {
   "cell_type": "code",
   "execution_count": null,
   "metadata": {},
   "outputs": [],
   "source": [
    "dict(nombre= \"Armando\", escolaridad_máxima= \"Licenciatura\")"
   ]
  },
  {
   "cell_type": "code",
   "execution_count": null,
   "metadata": {},
   "outputs": [],
   "source": [
    "dict(1=\"Uno\", operador = \"+\")"
   ]
  },
  {
   "cell_type": "markdown",
   "metadata": {},
   "source": [
    "## Acceso y modificación de los elementos de tipo _dict_.\n",
    "\n",
    "A diferencia de los tipos como _list_ y _tuple_, los cuales usan índices numéricos, los objetos de tipo _dict_ utilizan a los identificadores para acceder a los elementos que contienen.\n",
    "\n",
    "La sintaxis para acceder a un elemento de un objeto de tipo _dict_ es la siguiente:\n",
    "\n",
    "```\n",
    "<objeto tipo dict>[<identificador>]\n",
    "\n",
    "```\n",
    "En caso de que el identificador no corresponda a ninguno dentro del objeto, se generará un errorde tipo _KeyError_.\n",
    "\n",
    " **Ejemplos:**"
   ]
  },
  {
   "cell_type": "code",
   "execution_count": null,
   "metadata": {},
   "outputs": [],
   "source": [
    "persona = {\"nombre\": \"Juan\", \"primer_apellido\":\"Pérez\", \"segundo_apellido\":\"Sánchez\"}"
   ]
  },
  {
   "cell_type": "code",
   "execution_count": null,
   "metadata": {},
   "outputs": [],
   "source": [
    "persona[\"segundo_apellido\"]"
   ]
  },
  {
   "cell_type": "code",
   "execution_count": null,
   "metadata": {},
   "outputs": [],
   "source": [
    "persona[\"correo\"]"
   ]
  },
  {
   "cell_type": "markdown",
   "metadata": {},
   "source": [
    "### Modificación o adición de un elemento  contenido en un objeto de tipo _dict_.\n",
    "\n",
    "Para modificar un elemento de un objeto tipo _dict_ se utiliza el operador de asignación (_ =_ ).\n",
    "```\n",
    "<objeto tipo dict>[<identificador>] = <valor>\n",
    "```\n",
    "En caso de que no exista un elemento con ese identificador, el elemento se añadirá al objeto tipo _dict_.\n",
    "\n",
    "**Ejemplos:**"
   ]
  },
  {
   "cell_type": "code",
   "execution_count": null,
   "metadata": {},
   "outputs": [],
   "source": [
    "persona = dict(nombre=\"Juan\", primer_apellido='Perez')"
   ]
  },
  {
   "cell_type": "code",
   "execution_count": null,
   "metadata": {},
   "outputs": [],
   "source": [
    "persona['nombre'] = \"Joaquín\"\n",
    "persona"
   ]
  },
  {
   "cell_type": "code",
   "execution_count": null,
   "metadata": {},
   "outputs": [],
   "source": [
    "persona['segundo_apellido'] = \"Sánchez\"\n",
    "persona"
   ]
  },
  {
   "cell_type": "markdown",
   "metadata": {},
   "source": [
    "### Eliminación de un elemento contenido en un objeto de tipo _dict_.\n",
    "\n",
    "Para eliminar un elemento de un objeto tipo _dict_ se utiliza la declaración _del_. \n",
    "\n",
    "```\n",
    "del <objeto tipo dict>[<identificador>]\n",
    "``` \n",
    "\n",
    "**Ejemplo:**"
   ]
  },
  {
   "cell_type": "code",
   "execution_count": null,
   "metadata": {},
   "outputs": [],
   "source": [
    "persona = dict(nombre=\"Juan\", primer_apellido='Perez')"
   ]
  },
  {
   "cell_type": "code",
   "execution_count": null,
   "metadata": {},
   "outputs": [],
   "source": [
    "del persona['nombre']\n",
    "persona"
   ]
  },
  {
   "cell_type": "markdown",
   "metadata": {},
   "source": [
    "## Métodos del tipo _dict_. \n",
    "\n",
    "### El método _copy()_.\n",
    "Regresa un nuevo objeto de tipo _dict_ con los mismos elementos que contiene el objeto al que pertenece el método de forma similar a un rebanado completo en los tipos _tuple_ y _list_.\n",
    "\n",
    "**Ejemplo:**"
   ]
  },
  {
   "cell_type": "code",
   "execution_count": null,
   "metadata": {},
   "outputs": [],
   "source": [
    "persona = {\"nombre\": \"Juan\", \"primer_apellido\":\"Pérez\", \"segundo_apellido\":\"Sánchez\"}"
   ]
  },
  {
   "cell_type": "code",
   "execution_count": null,
   "metadata": {},
   "outputs": [],
   "source": [
    "id(persona)"
   ]
  },
  {
   "cell_type": "code",
   "execution_count": null,
   "metadata": {},
   "outputs": [],
   "source": [
    "otra_persona = persona.copy()"
   ]
  },
  {
   "cell_type": "code",
   "execution_count": null,
   "metadata": {},
   "outputs": [],
   "source": [
    "id(otra_persona)"
   ]
  },
  {
   "cell_type": "markdown",
   "metadata": {},
   "source": [
    "### El método _pop()_.\n",
    "Regresa el valor ligado al identificador que se ingresa como argumento. \n",
    "\n",
    "En caso de no encontrar un identificador igual al argumento, se genera un error de tipo _KeyError_. \n",
    "\n",
    "En caso de no ingresar un argumento, se generará un error de tipo _TypeError_.\n",
    "\n",
    "**Ejemplo:**"
   ]
  },
  {
   "cell_type": "code",
   "execution_count": null,
   "metadata": {},
   "outputs": [],
   "source": [
    "persona = {\"nombre\": \"Juan\", \"primer_apellido\":\"Pérez\", \n",
    "           \"segundo_apellido\":\"Sánchez\"}"
   ]
  },
  {
   "cell_type": "code",
   "execution_count": null,
   "metadata": {},
   "outputs": [],
   "source": [
    "persona.pop(\"nombre\")"
   ]
  },
  {
   "cell_type": "code",
   "execution_count": null,
   "metadata": {},
   "outputs": [],
   "source": [
    "persona"
   ]
  },
  {
   "cell_type": "code",
   "execution_count": null,
   "metadata": {},
   "outputs": [],
   "source": [
    "persona.pop()"
   ]
  },
  {
   "cell_type": "code",
   "execution_count": null,
   "metadata": {},
   "outputs": [],
   "source": [
    "persona.pop(\"nombre\")"
   ]
  },
  {
   "cell_type": "markdown",
   "metadata": {},
   "source": [
    "### El método _popitem()_.\n",
    "Regresa de forma aleatoria una tupla conteniendo el identificado y el valor de un elemento y lo elimina del objeto tipo _dict_. En caso de que el objeto tipo _dict_ esté vació, se generará un errorde tipo _KeyError_.\n",
    "\n",
    "**Ejemplo:**"
   ]
  },
  {
   "cell_type": "code",
   "execution_count": null,
   "metadata": {},
   "outputs": [],
   "source": [
    "persona = {\"nombre\": \"Juan\", \"primer_apellido\":\"Pérez\", \"segundo_apellido\":\"Sánchez\"}"
   ]
  },
  {
   "cell_type": "code",
   "execution_count": null,
   "metadata": {},
   "outputs": [],
   "source": [
    "persona.popitem()"
   ]
  },
  {
   "cell_type": "code",
   "execution_count": null,
   "metadata": {},
   "outputs": [],
   "source": [
    "persona"
   ]
  },
  {
   "cell_type": "code",
   "execution_count": null,
   "metadata": {},
   "outputs": [],
   "source": [
    "persona.popitem()"
   ]
  },
  {
   "cell_type": "code",
   "execution_count": null,
   "metadata": {},
   "outputs": [],
   "source": [
    "persona"
   ]
  },
  {
   "cell_type": "code",
   "execution_count": null,
   "metadata": {},
   "outputs": [],
   "source": [
    "persona.popitem()"
   ]
  },
  {
   "cell_type": "code",
   "execution_count": null,
   "metadata": {},
   "outputs": [],
   "source": [
    "persona"
   ]
  },
  {
   "cell_type": "code",
   "execution_count": null,
   "metadata": {},
   "outputs": [],
   "source": [
    "persona.popitem()"
   ]
  },
  {
   "cell_type": "markdown",
   "metadata": {},
   "source": [
    "### El método _get()_.\n",
    "Regresa el valor que corresponde al identificador ingresado como primer argumento. En caso de no encontrar el identificador, regresa el valor que se indique como segundo argumento. Si  no hay un segundo argumento, regresa el valor _None_.\n",
    "\n",
    "**Ejemplos:**\n"
   ]
  },
  {
   "cell_type": "code",
   "execution_count": null,
   "metadata": {},
   "outputs": [],
   "source": [
    "persona = {\"nombre\": \"Juan\", \"primer_apellido\":\"Pérez\", \"segundo_apellido\":\"Sánchez\"}"
   ]
  },
  {
   "cell_type": "code",
   "execution_count": null,
   "metadata": {},
   "outputs": [],
   "source": [
    "persona.get(\"nombre\")"
   ]
  },
  {
   "cell_type": "code",
   "execution_count": null,
   "metadata": {},
   "outputs": [],
   "source": [
    "persona.get(\"nombre1\")"
   ]
  },
  {
   "cell_type": "code",
   "execution_count": null,
   "metadata": {},
   "outputs": [],
   "source": [
    "print(persona.get(\"nombre1\"))"
   ]
  },
  {
   "cell_type": "code",
   "execution_count": null,
   "metadata": {},
   "outputs": [],
   "source": [
    "persona.get(\"nombre1\", False)"
   ]
  },
  {
   "cell_type": "markdown",
   "metadata": {},
   "source": [
    "### El método _update()_.\n",
    "Sustituye y añade los elementos que se ingresan como argumento. El argumento puede ser un objeto de tipo _dict_ o un objeto iterable que contenga pares compatibles con el fomato clave:valor.\n",
    "\n",
    "**Ejemplo:**"
   ]
  },
  {
   "cell_type": "code",
   "execution_count": null,
   "metadata": {},
   "outputs": [],
   "source": [
    "persona = {\"nombre\": \"Juan\", \"primer_apellido\":\"Pérez\", \"segundo_apellido\":\"Sánchez\"}"
   ]
  },
  {
   "cell_type": "code",
   "execution_count": null,
   "metadata": {},
   "outputs": [],
   "source": [
    "persona.update({\"nombre\":\"Jose\", \"codigo_postal\":\"020101\"})\n",
    "persona"
   ]
  },
  {
   "cell_type": "code",
   "execution_count": null,
   "metadata": {},
   "outputs": [],
   "source": [
    "persona.update([(\"profesion\", \"abogado\"), [\"nacionalidad\", \"MX\"]])\n",
    "persona"
   ]
  },
  {
   "cell_type": "markdown",
   "metadata": {},
   "source": [
    "### El método _setdefault()_.\n",
    "Se ingresan un identificador y un valor como argumentos. En caso de no ingresar un valor, el valor por defecto es _None_. Si ya existe un elemento cuyo identificador coincide con el ingresado, regresa el valor correspondiente del elemento existente. Si no existe un elemento con el nombre del identificador, entonces se añade un elemento conteniendo el identificador y valor ingresados, y regresa dicho valor.\n",
    "\n",
    "**Ejemplos:**"
   ]
  },
  {
   "cell_type": "code",
   "execution_count": null,
   "metadata": {},
   "outputs": [],
   "source": [
    "persona = {\"nombre\": \"Juan\", \"primer_apellido\":\"Pérez\", \"segundo_apellido\":\"Sánchez\"}"
   ]
  },
  {
   "cell_type": "code",
   "execution_count": null,
   "metadata": {},
   "outputs": [],
   "source": [
    "persona.setdefault(\"email\", \"jp@falso.com\")"
   ]
  },
  {
   "cell_type": "code",
   "execution_count": null,
   "metadata": {},
   "outputs": [],
   "source": [
    "persona"
   ]
  },
  {
   "cell_type": "code",
   "execution_count": null,
   "metadata": {},
   "outputs": [],
   "source": [
    "persona.setdefault(\"nombre\", 'José')"
   ]
  },
  {
   "cell_type": "code",
   "execution_count": null,
   "metadata": {},
   "outputs": [],
   "source": [
    "persona"
   ]
  },
  {
   "cell_type": "code",
   "execution_count": null,
   "metadata": {},
   "outputs": [],
   "source": [
    "persona.setdefault(\"membresia\")"
   ]
  },
  {
   "cell_type": "code",
   "execution_count": null,
   "metadata": {},
   "outputs": [],
   "source": [
    "persona"
   ]
  },
  {
   "cell_type": "markdown",
   "metadata": {},
   "source": [
    "### El método _fromkeys()_.\n",
    "Se ingresa un iterable conteniendo una sucesión de identificadores seguido por un valor. El método regresa un objeto de tipo _dict_ asignando a cada uno de los identificadores el valor ingresado. En caso de ni ingresar un valor, el valor por defecto es _None_.\n",
    "\n",
    "**Ejemplo:**"
   ]
  },
  {
   "cell_type": "code",
   "execution_count": null,
   "metadata": {},
   "outputs": [],
   "source": [
    "{}.fromkeys([\"nombre\", \"apellido\"])"
   ]
  },
  {
   "cell_type": "code",
   "execution_count": null,
   "metadata": {},
   "outputs": [],
   "source": [
    "persona = {}.fromkeys([\"nombre\", \"apellido\"], True)\n",
    "persona"
   ]
  },
  {
   "cell_type": "markdown",
   "metadata": {},
   "source": [
    "### El método _clear()_.\n",
    "Este método elimina todos los elementos de un diccionario.\n",
    "\n",
    "**Ejemplos:**"
   ]
  },
  {
   "cell_type": "code",
   "execution_count": null,
   "metadata": {},
   "outputs": [],
   "source": [
    "persona = {\"nombre\": \"Juan\", \"primer_apellido\":\"Pérez\", \"segundo_apellido\":\"Sánchez\"}"
   ]
  },
  {
   "cell_type": "code",
   "execution_count": null,
   "metadata": {},
   "outputs": [],
   "source": [
    "persona"
   ]
  },
  {
   "cell_type": "code",
   "execution_count": null,
   "metadata": {},
   "outputs": [],
   "source": [
    "persona.clear()"
   ]
  },
  {
   "cell_type": "code",
   "execution_count": null,
   "metadata": {},
   "outputs": [],
   "source": [
    "persona"
   ]
  },
  {
   "cell_type": "markdown",
   "metadata": {},
   "source": [
    "## Métodos que generan objetos iterables.\n",
    "En Python 2 los métodos _items()_, _keys()_ y _values()_ daban por resultado un objeto tipo _list_ que contenía los elementos designados y los métodos _iteritems()_, _iterkeys()_ e _itervalues()_ daban por resultado un objeto itrerable. \n",
    "\n",
    "En Python 3 sólo existen los métodos _items()_, _keys()_ y _values()_ los cuales regresan un objeto iterable. Este cambio optimiza el uso de recursos del sistema cuando se trata de objetos con una gran cantidad de elementos.\n",
    "\n",
    "### El método _items()_.\n",
    "Regresa un objeto iterable que genera una secuencia de objetos de tipo _tuple_ con el indicador y el valor de cada elemento.\n",
    "\n",
    "**Ejemplo:**"
   ]
  },
  {
   "cell_type": "code",
   "execution_count": null,
   "metadata": {},
   "outputs": [],
   "source": [
    "persona = {\"nombre\": \"Juan\", \"primer_apellido\":\"Pérez\", \"segundo_apellido\":\"Sánchez\"}"
   ]
  },
  {
   "cell_type": "code",
   "execution_count": null,
   "metadata": {},
   "outputs": [],
   "source": [
    "elementos = persona.items()"
   ]
  },
  {
   "cell_type": "code",
   "execution_count": null,
   "metadata": {},
   "outputs": [],
   "source": [
    "type(elementos)"
   ]
  },
  {
   "cell_type": "code",
   "execution_count": null,
   "metadata": {},
   "outputs": [],
   "source": [
    "elementos"
   ]
  },
  {
   "cell_type": "code",
   "execution_count": null,
   "metadata": {},
   "outputs": [],
   "source": [
    "for elemento in elementos:\n",
    "        print(elemento)"
   ]
  },
  {
   "cell_type": "markdown",
   "metadata": {},
   "source": [
    "### El método _keys()_.\n",
    "Regresa un objeto iterable que genera una secuencia que corresponde al identificador de cada elemento del objeto tipo _dict_.\n",
    "\n",
    "**Ejemplo:**\n"
   ]
  },
  {
   "cell_type": "code",
   "execution_count": null,
   "metadata": {},
   "outputs": [],
   "source": [
    "persona = {\"nombre\": \"Juan\", \"primer_apellido\":\"Pérez\", \"segundo_apellido\":\"Sánchez\"}"
   ]
  },
  {
   "cell_type": "code",
   "execution_count": null,
   "metadata": {},
   "outputs": [],
   "source": [
    "claves = persona.keys()"
   ]
  },
  {
   "cell_type": "code",
   "execution_count": null,
   "metadata": {},
   "outputs": [],
   "source": [
    "type(claves)"
   ]
  },
  {
   "cell_type": "code",
   "execution_count": null,
   "metadata": {},
   "outputs": [],
   "source": [
    "claves"
   ]
  },
  {
   "cell_type": "code",
   "execution_count": null,
   "metadata": {},
   "outputs": [],
   "source": [
    "for clave in claves:\n",
    "    print(clave)"
   ]
  },
  {
   "cell_type": "markdown",
   "metadata": {},
   "source": [
    "### El método _values()_.\n",
    "Regresa un objeto iterable que genera una secuencia que corresponde al valor de cada elemento del objeto tipo _dict_.\n",
    "\n",
    "**Ejemplo:**\n"
   ]
  },
  {
   "cell_type": "code",
   "execution_count": null,
   "metadata": {},
   "outputs": [],
   "source": [
    "persona = {\"nombre\": \"Juan\", \"primer_apellido\":\"Pérez\", \"segundo_apellido\":\"Sánchez\"}"
   ]
  },
  {
   "cell_type": "code",
   "execution_count": null,
   "metadata": {},
   "outputs": [],
   "source": [
    "valores = persona.values()"
   ]
  },
  {
   "cell_type": "code",
   "execution_count": null,
   "metadata": {},
   "outputs": [],
   "source": [
    "type(valores)"
   ]
  },
  {
   "cell_type": "code",
   "execution_count": null,
   "metadata": {},
   "outputs": [],
   "source": [
    "valores"
   ]
  },
  {
   "cell_type": "code",
   "execution_count": null,
   "metadata": {},
   "outputs": [],
   "source": [
    "for valor in valores:\n",
    "    print(valor)"
   ]
  },
  {
   "cell_type": "markdown",
   "metadata": {},
   "source": [
    "## Iteraciones con objetos tipo dict.\n",
    "\n",
    "Cuando se hace una iteración directamente con un objeto de tipo _dict_, el intérprete utiliza los identificadores como elementos iterables.\n",
    "\n",
    "**Ejemplo:**"
   ]
  },
  {
   "cell_type": "code",
   "execution_count": null,
   "metadata": {},
   "outputs": [],
   "source": [
    "persona = {\"nombre\": \"Juan\", \"primer_apellido\":\"Pérez\", \"segundo_apellido\":\"Sánchez\"}"
   ]
  },
  {
   "cell_type": "code",
   "execution_count": null,
   "metadata": {},
   "outputs": [],
   "source": [
    "for elemento in persona:\n",
    "    print(elemento)"
   ]
  },
  {
   "cell_type": "markdown",
   "metadata": {},
   "source": [
    "## Funciones útiles con los objetos tipo _dict_. \n",
    "\n",
    "### La función _len()_.\n",
    "\n",
    "La función _len()_ devuelve el número de objetos contenidos en una colección de objetos mediante la siguiente sintaxis:\n",
    "\n",
    "```\n",
    "len(<objeto>)\n",
    "```\n",
    "\n",
    "**Ejemplos:**"
   ]
  },
  {
   "cell_type": "code",
   "execution_count": null,
   "metadata": {},
   "outputs": [],
   "source": [
    "len({'tipo': 'automóvil', 'capacidad': 50, 'combustible': 'gasolina'})"
   ]
  },
  {
   "cell_type": "code",
   "execution_count": null,
   "metadata": {},
   "outputs": [],
   "source": [
    "len({})"
   ]
  },
  {
   "cell_type": "markdown",
   "metadata": {},
   "source": [
    "### La función _max()_.\n",
    "\n",
    "La función _max()_ devuelve el identificador de mayor valor contenido en una colección, siempre y cuando dichos objetos sean compatibles, mediante la siguiente sintaxis:\n",
    "\n",
    "**Ejemplo:**"
   ]
  },
  {
   "cell_type": "code",
   "execution_count": null,
   "metadata": {},
   "outputs": [],
   "source": [
    "max({'tipo': 'automóvil', 'capacidad': 50, 'combustible': 'gasolina'})"
   ]
  },
  {
   "cell_type": "markdown",
   "metadata": {},
   "source": [
    "### La función _min()_.\n",
    "\n",
    "La función _min()_ devuelve el elemento de menor valor contenido en una colección, siempre y cuando dichos objetos sean compatibles, mediante la siguiente sintaxis:\n",
    "  \n",
    "**Ejemplo:**"
   ]
  },
  {
   "cell_type": "code",
   "execution_count": null,
   "metadata": {},
   "outputs": [],
   "source": [
    "min({'tipo': 'automóvil', 'capacidad': 50, 'combustible': 'gasolina'})"
   ]
  },
  {
   "cell_type": "markdown",
   "metadata": {
    "collapsed": true
   },
   "source": [
    "## Transformación de tipos iterables en objetos tipo _dict_ con _enumerate()_.\n",
    "\n",
    "### La función _enumerate()_.\n",
    "\n",
    "La función _enumerate()_ aplicada a un objeto de tipo iterable da por resultado un iterador que genera tuplas de pares conformadas por un número que se va incrementado desde cero y un elemento del objeto iterable.\n"
   ]
  },
  {
   "cell_type": "code",
   "execution_count": null,
   "metadata": {},
   "outputs": [],
   "source": [
    "iterador = enumerate((\"Hugo\", \"Paco\", \"Luis\"))"
   ]
  },
  {
   "cell_type": "code",
   "execution_count": null,
   "metadata": {},
   "outputs": [],
   "source": [
    "type(iterador)"
   ]
  },
  {
   "cell_type": "code",
   "execution_count": null,
   "metadata": {},
   "outputs": [],
   "source": [
    "print(iterador)"
   ]
  },
  {
   "cell_type": "code",
   "execution_count": null,
   "metadata": {},
   "outputs": [],
   "source": [
    "for par in iterador:\n",
    "    print(par)"
   ]
  },
  {
   "cell_type": "markdown",
   "metadata": {},
   "source": [
    "De tal modo que sólo es necesario utilizar la función _dict()_ y _enumerate()_ para convertir objetos de tipo _list_, _tuple_, _set_, _frozenset_, _str_, etc. en objetos de tipo _dict_ con identificadores de tipo _int_.\n",
    "\n",
    "**Ejemplos:**"
   ]
  },
  {
   "cell_type": "code",
   "execution_count": null,
   "metadata": {},
   "outputs": [],
   "source": [
    "dict(enumerate(\"Hola\"))"
   ]
  },
  {
   "cell_type": "code",
   "execution_count": null,
   "metadata": {},
   "outputs": [],
   "source": [
    "dict(enumerate((\"Hugo\", \"Paco\", \"Luis\")))[]"
   ]
  },
  {
   "cell_type": "markdown",
   "metadata": {},
   "source": [
    "<p style=\"text-align: center\"><a rel=\"license\" href=\"http://creativecommons.org/licenses/by/4.0/\"><img alt=\"Licencia Creative Commons\" style=\"border-width:0\" src=\"https://i.creativecommons.org/l/by/4.0/80x15.png\" /></a><br />Esta obra está bajo una <a rel=\"license\" href=\"http://creativecommons.org/licenses/by/4.0/\">Licencia Creative Commons Atribución 4.0 Internacional</a>.</p>\n",
    "<p style=\"text-align: center\">&copy; José Luis Chiquete Valdivieso. 2018.</p>"
   ]
  }
 ],
 "metadata": {
  "kernelspec": {
   "display_name": "Python 3",
   "language": "python",
   "name": "python3"
  },
  "language_info": {
   "codemirror_mode": {
    "name": "ipython",
    "version": 3
   },
   "file_extension": ".py",
   "mimetype": "text/x-python",
   "name": "python",
   "nbconvert_exporter": "python",
   "pygments_lexer": "ipython3",
   "version": "3.6.4"
  }
 },
 "nbformat": 4,
 "nbformat_minor": 1
}
