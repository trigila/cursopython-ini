{
 "cells": [
  {
   "cell_type": "markdown",
   "metadata": {},
   "source": [
    "[![imagenes](imagenes/pythonista.png)](https://pythonista.mx)"
   ]
  },
  {
   "cell_type": "markdown",
   "metadata": {},
   "source": [
    "# Temario\n",
    "\n",
    "1. Introducción al lenguaje Python.\n",
    "* Palabras reservadas y espacio de nombres.\n",
    "* Expresiones y declaraciones.\n",
    "* Números, cadenas de caracteres, tipos y operadores.\n",
    "* Orientación a objetos e introspección.\n",
    "* Entrada y salida estándar.\n",
    "* Bloques, comentarios y condicionales.\n",
    "* Ciclos, iteraciones e interrupciones de ejecución.\n",
    "* Objetos tipo _list_ y tipo _tuple_.\n",
    "* Objetos tipo _dict_.\n",
    "* Objetos tipo _str_. \n",
    "* Objetos tipo _set_ y _frozenset_.\n",
    "* Funciones.\n",
    "* Gestión de excepciones.\n",
    "* Iteradores y generadores.\n",
    "* Completado de elementos.\n",
    "* Entrada y salida de archivos.\n",
    "* Módulos y paquetes.\n",
    "* Gestión de módulos y paquetes con pip.\n",
    "* Creación de paquetes con setuptools.\n",
    "* Entornos virtuales.  \n"
   ]
  },
  {
   "cell_type": "markdown",
   "metadata": {
    "collapsed": true
   },
   "source": [
    "<p style=\"text-align: center\"><a rel=\"license\" href=\"http://creativecommons.org/licenses/by/4.0/\"><img alt=\"Licencia Creative Commons\" style=\"border-width:0\" src=\"https://i.creativecommons.org/l/by/4.0/80x15.png\" /></a><br />Esta obra está bajo una <a rel=\"license\" href=\"http://creativecommons.org/licenses/by/4.0/\">Licencia Creative Commons Atribución 4.0 Internacional</a>.</p>\n",
    "<p style=\"text-align: center\">&copy; José Luis Chiquete Valdivieso. 2018.</p>"
   ]
  }
 ],
 "metadata": {
  "kernelspec": {
   "display_name": "Python 3",
   "language": "python",
   "name": "python3"
  },
  "language_info": {
   "codemirror_mode": {
    "name": "ipython",
    "version": 3
   },
   "file_extension": ".py",
   "mimetype": "text/x-python",
   "name": "python",
   "nbconvert_exporter": "python",
   "pygments_lexer": "ipython3",
   "version": "3.6.4"
  }
 },
 "nbformat": 4,
 "nbformat_minor": 1
}
