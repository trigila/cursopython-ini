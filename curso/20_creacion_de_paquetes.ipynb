{
 "cells": [
  {
   "cell_type": "markdown",
   "metadata": {},
   "source": [
    "[![pythonista.io](imagenes/pythonista.png)](https://pythonista.io)"
   ]
  },
  {
   "cell_type": "markdown",
   "metadata": {},
   "source": [
    "Python pone a disposición de los desarrolladores mediante la \"Autoridad de Empaquetado de Python\" (pypa) herramientas que le permiten \"empaquetar\" sus proyectos para que estos sean distribuidos con facilidad.\n",
    "\n",
    "El sitio https://packaging.python.org/ ofrece tutoriales, especificaciones y contenidos para facilitar y normar el empaquetado y distribución de paquetes en Python.\n",
    "\n",
    "Un paquete es una estructura de directorios que incluye una biblioteca de código, documentación, archivos de configuración y datos de un proyecto específico, la cual se encuentra comprimida y puede ser reutilizada por cualquier otro usuario o desarrollador."
   ]
  },
  {
   "cell_type": "markdown",
   "metadata": {},
   "source": [
    "## Los módulos *distutils* y *setuptools*.\n",
    "\n",
    "El módulo *distutils* fue la herramienta de gestión de paquetes original de Python, sin embargo esta ha sido extendida y en la mayoría de los casos, sustituida por el módulo *setuptools*."
   ]
  },
  {
   "cell_type": "code",
   "execution_count": null,
   "metadata": {},
   "outputs": [],
   "source": [
    "import setuptools"
   ]
  },
  {
   "cell_type": "code",
   "execution_count": null,
   "metadata": {},
   "outputs": [],
   "source": [
    "help(setuptools)"
   ]
  },
  {
   "cell_type": "code",
   "execution_count": null,
   "metadata": {},
   "outputs": [],
   "source": [
    "import distutils"
   ]
  },
  {
   "cell_type": "code",
   "execution_count": null,
   "metadata": {},
   "outputs": [],
   "source": [
    "help(distutils)"
   ]
  },
  {
   "cell_type": "markdown",
   "metadata": {},
   "source": [
    "## Estructura general de un proyecto.\n",
    "\n",
    "Un proyecto por lo general tiene una estructura específica. Un ejemplo de dicha estructura puede ser consultado en https://github.com/pypa/sampleproject. Dicha estructura comprende por lo general diversos directorios correspondientes a:\n",
    "* La bilbioteca de código.\n",
    "* Archivos de configuración.\n",
    "* Archivos de datos.\n",
    "* Archivos para pruebas."
   ]
  },
  {
   "cell_type": "markdown",
   "metadata": {},
   "source": [
    "### Archivos de texto que normalmente se incluyen en un proyecto.\n",
    "* **README.rst**, el cual es un archivo de texto que puede contener una estructura pasada en [reStrcuturedText](http://docutils.sourceforge.net/rst.html).\n",
    "* **LICENSE.txt**, en donde se especifica la licencia bajo la que se libera el código fuente.\n",
    "* **MANIFEST.in** en le que se indica el contenido del paquete.\n",
    "* **setup.cfg** en el que se indica la configuración del paquete.\n",
    "* **setup.py** el script para la creación del paquete."
   ]
  },
  {
   "cell_type": "markdown",
   "metadata": {},
   "source": [
    "## El archivo *setup.py*.\n",
    "Este archivo es el que se utiliza para empaquetar el proyecto y un ejemplo básico es el siguiente.\n",
    "\n",
    "``` python\n",
    "from setuptools import setup, find_packages\n",
    "setup(\n",
    "    name=\"HelloWorld\",\n",
    "    version=\"0.1\",\n",
    "    packages=find_packages(),\n",
    ")\n",
    "```"
   ]
  },
  {
   "cell_type": "markdown",
   "metadata": {},
   "source": [
    "### La función *setup()* de *setuptools*.\n",
    "Esta es la función primordial para la creación de los paquetes.\n",
    "\n",
    "### Campos que puede de incluir en la función *setup.()*. \n",
    "\n",
    "Entre otras cosas, se pueden incluir los siguientes campos:\n",
    "* *name*\n",
    "* *version*\n",
    "* *description*\n",
    "* *author*\n",
    "* *author_email*\n",
    "* *url*\n",
    "* *download_url*\n",
    "* *license*\n",
    "* *packages*\n",
    "* *py_modules*\n",
    "\n",
    " **Ejemplo extendido:**\n",
    " \n",
    " ``` python\n",
    " from setuptools import setup, find_packages\n",
    "setup(\n",
    "    name=\"HelloWorld\",\n",
    "    version=\"0.1\",\n",
    "    packages=find_packages(),\n",
    "    scripts=['say_hello.py'],\n",
    "\n",
    "    # Project uses reStructuredText, so ensure that the docutils get\n",
    "    # installed or upgraded on the target machine\n",
    "    install_requires=['docutils>=0.3'],\n",
    "\n",
    "    package_data={\n",
    "        # If any package contains *.txt or *.rst files, include them:\n",
    "        '': ['*.txt', '*.rst'],\n",
    "        # And include any *.msg files found in the 'hello' package, too:\n",
    "        'hello': ['*.msg'],\n",
    "    },\n",
    "\n",
    "    # metadata for upload to PyPI\n",
    "    author=\"Me\",\n",
    "    author_email=\"me@example.com\",\n",
    "    description=\"This is an Example Package\",\n",
    "    license=\"PSF\",\n",
    "    keywords=\"hello world example examples\",\n",
    "    url=\"http://example.com/HelloWorld/\",   # project home page, if any\n",
    "    project_urls={\n",
    "        \"Bug Tracker\": \"https://bugs.example.com/HelloWorld/\",\n",
    "        \"Documentation\": \"https://docs.example.com/HelloWorld/\",\n",
    "        \"Source Code\": \"https://code.example.com/HelloWorld/\",\n",
    "    }\n",
    "\n",
    "    # could also include long_description, download_url, classifiers, etc.\n",
    ")\n",
    "```"
   ]
  },
  {
   "cell_type": "markdown",
   "metadata": {},
   "source": [
    "### La función *find_packages()* de *setuptools*.\n",
    "Esta función permite encontrar la estructura de paquetes en un directorio.\n",
    "En este casó, se identifica a un paquete cuando el subdirectorio contiene un archivo *\\_\\_init\\_\\_.py*.\n",
    "Además de la identificación de paquetes, la función *find_packages()* incluye los parámetros:\n",
    "* *where*, el cual corresponde al directorio desde el cual se buscarabn los paquetes. Por defecto se utiliza el directorio desde el que se ejecuta la función. \n",
    "* *exclude*, el cual puede ser un objeto tipo tuple que contiene una lista de aquellos paquetes que no se quieran añadir.\n",
    "* *include*, el cual corresponde a una tupla que contiene una lista de los paquetes a añadir. Por defecto, añade a todos."
   ]
  },
  {
   "cell_type": "markdown",
   "metadata": {},
   "source": [
    "**Ejemplo:**\n",
    "\n",
    "La función *find_packages()* se ejecutará en el directorio de esta notebook."
   ]
  },
  {
   "cell_type": "code",
   "execution_count": null,
   "metadata": {},
   "outputs": [],
   "source": [
    "from setuptools import find_packages\n",
    "find_packages()"
   ]
  },
  {
   "cell_type": "markdown",
   "metadata": {},
   "source": [
    "## Creación del paquete.\n",
    "\n",
    "Una vez que el archivo *setup.py* se encuentra disponible, sólo hay que ejecutarlo de la siguiente manera:\n",
    "\n",
    "``` python\n",
    "python setup.py sdist --formats=<formato>\n",
    "```\n",
    "Los formatos soportados son:\n",
    "\n",
    "* *zip* para archivos con extensión *.zip*.\n",
    "* *bztar* para archivos con extensión *.tar.bz*.\n",
    "* *gztar* para archivos con extensión *.tar.gz*.\n",
    "* *ztar* para archivos con extensión *.tar.z*.\n",
    "* *tar* para archivos con extensión *.tar*.\n"
   ]
  },
  {
   "cell_type": "markdown",
   "metadata": {},
   "source": [
    "**Ejemplo:**\n",
    "\n",
    "El archivo [setup.py](setup.py) contiene el siguiente código:\n",
    "``` python\n",
    "from setuptools import setup, find_packages\n",
    "setup(\n",
    "    name=\"paquete\",\n",
    "    version=0.1,\n",
    "    packages=find_packages(),\n",
    ")\n",
    "```"
   ]
  },
  {
   "cell_type": "code",
   "execution_count": null,
   "metadata": {},
   "outputs": [],
   "source": [
    "!python setup.py sdist --formats=zip,gztar"
   ]
  },
  {
   "cell_type": "markdown",
   "metadata": {},
   "source": [
    "El resultado serán un par de archivos en el directorio *[dist](dist)*."
   ]
  },
  {
   "cell_type": "code",
   "execution_count": null,
   "metadata": {},
   "outputs": [],
   "source": [
    "!ls dist"
   ]
  },
  {
   "cell_type": "markdown",
   "metadata": {},
   "source": [
    "Cualquiera de los dos paquetes puede ser instalado mediante *pip*."
   ]
  },
  {
   "cell_type": "code",
   "execution_count": null,
   "metadata": {},
   "outputs": [],
   "source": [
    "!pip install dist/paquete-0.1.zip"
   ]
  },
  {
   "cell_type": "code",
   "execution_count": null,
   "metadata": {
    "scrolled": true
   },
   "outputs": [],
   "source": [
    "!pip list"
   ]
  },
  {
   "cell_type": "code",
   "execution_count": null,
   "metadata": {},
   "outputs": [],
   "source": [
    "help('modules paquete')"
   ]
  },
  {
   "cell_type": "markdown",
   "metadata": {},
   "source": [
    "Debido a que existe el directorio *paquete* en el directorio de trabajo de esta notebook, es necesario camibarla a otro para importar el paquete que está en la biblioteca."
   ]
  },
  {
   "cell_type": "code",
   "execution_count": null,
   "metadata": {},
   "outputs": [],
   "source": [
    "%cd .."
   ]
  },
  {
   "cell_type": "code",
   "execution_count": null,
   "metadata": {},
   "outputs": [],
   "source": [
    "import paquete"
   ]
  },
  {
   "cell_type": "code",
   "execution_count": null,
   "metadata": {},
   "outputs": [],
   "source": [
    "paquete.saluda()"
   ]
  },
  {
   "cell_type": "code",
   "execution_count": null,
   "metadata": {},
   "outputs": [],
   "source": [
    "help(paquete)"
   ]
  },
  {
   "cell_type": "markdown",
   "metadata": {},
   "source": [
    "Para mayor información sobre el uso de *setuptools* y las opciones de empaquetado, puede acudir a https://setuptools.readthedocs.io/en/latest/setuptools.html"
   ]
  },
  {
   "cell_type": "markdown",
   "metadata": {},
   "source": [
    "<p style=\"text-align: center\"><a rel=\"license\" href=\"http://creativecommons.org/licenses/by/4.0/\"><img alt=\"Licencia Creative Commons\" style=\"border-width:0\" src=\"https://i.creativecommons.org/l/by/4.0/80x15.png\" /></a><br />Esta obra está bajo una <a rel=\"license\" href=\"http://creativecommons.org/licenses/by/4.0/\">Licencia Creative Commons Atribución 4.0 Internacional</a>.</p>\n",
    "<p style=\"text-align: center\">&copy; José Luis Chiquete Valdivieso. 2018.</p>"
   ]
  }
 ],
 "metadata": {
  "kernelspec": {
   "display_name": "Python 3",
   "language": "python",
   "name": "python3"
  },
  "language_info": {
   "codemirror_mode": {
    "name": "ipython",
    "version": 3
   },
   "file_extension": ".py",
   "mimetype": "text/x-python",
   "name": "python",
   "nbconvert_exporter": "python",
   "pygments_lexer": "ipython3",
   "version": "3.6.4"
  }
 },
 "nbformat": 4,
 "nbformat_minor": 2
}
