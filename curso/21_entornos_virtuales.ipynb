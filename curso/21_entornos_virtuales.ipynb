{
 "cells": [
  {
   "cell_type": "markdown",
   "metadata": {},
   "source": [
    "[![imagenes](imagenes/pythonista.png)](https://pythonista.mx)"
   ]
  },
  {
   "cell_type": "markdown",
   "metadata": {},
   "source": [
    "# Entornos virtuales.\n",
    "\n",
    "Cuando se tiene  varios proyectos de desarrollo en Python es muy conveniente separar las bibliotecas que utiliza un proyecto en particular de las bibliotecas principales del sistema, en especial cuando los usuarios no cuentan con permisos de administrador."
   ]
  },
  {
   "cell_type": "markdown",
   "metadata": {},
   "source": [
    "**NOTA:**\n",
    "En el caso de estar usando la máquina virtual de Pythonista®, el sistema ya se encuentra utilizando un entorno virtual localizado en */home/oi/pythonista/*. En el caso de estar usando Anaconda, ésta genera su propio entorno virtual."
   ]
  },
  {
   "cell_type": "markdown",
   "metadata": {},
   "source": [
    "## Directorios de busqueda de bibliotecas de módulos.\n",
    "Como se discutió previamente, Python define las rutas en las cuales puede acceder a las diveras bibliotecas de módulos, las cuales pueden ser consultadas y/o modificadas mediante *sys.path*."
   ]
  },
  {
   "cell_type": "code",
   "execution_count": null,
   "metadata": {},
   "outputs": [],
   "source": [
    "from sys import path  \n",
    "path"
   ]
  },
  {
   "cell_type": "markdown",
   "metadata": {},
   "source": [
    "Los entornos virtuales permiten indicarle a Python que utilice otra ruta por defecto desde la línea de comando o el símbolo del sistema."
   ]
  },
  {
   "cell_type": "markdown",
   "metadata": {},
   "source": [
    "### El paquete *virtualenv*\n",
    "Este paquete copia los elementos mínimos para conformar una biblioteca de Python en el directorio indicado, incluyendo una versión propia de *pip* y *setuptools*."
   ]
  },
  {
   "cell_type": "code",
   "execution_count": null,
   "metadata": {},
   "outputs": [],
   "source": [
    "!pip install virtualenv"
   ]
  },
  {
   "cell_type": "code",
   "execution_count": null,
   "metadata": {},
   "outputs": [],
   "source": [
    "!mkdir prueba"
   ]
  },
  {
   "cell_type": "code",
   "execution_count": null,
   "metadata": {
    "scrolled": false
   },
   "outputs": [],
   "source": [
    "!virtualenv prueba"
   ]
  },
  {
   "cell_type": "markdown",
   "metadata": {},
   "source": [
    "### Habilitando el entorno virtual.\n",
    "Para habilitar el nuevo entorno virtual, es necesario modificar las variables de entorno desde una terminal. Estas modificaciones sólo tendrán efecto en la terminal en cuestión.\n",
    "\n",
    "#### Para Linux y MacOS X:\n",
    "```\n",
    "source <directorio>/bin/activate\n",
    "```\n",
    "\n",
    "#### Para Windows:\n",
    "\n",
    "```\n",
    "<directorio>/bin/activate\n",
    "```\n",
    "\n",
    "Una vez que el entorno está habilitado, todos los paquetes instalados mediante *pip*, se instalarán en el directorio del entorno virtual, dejando la biblioteca principal del sistema, intacta. "
   ]
  },
  {
   "cell_type": "markdown",
   "metadata": {},
   "source": [
    "** Ejemplo:**\n",
    "\n",
    "Para habilitar al entorno virtual localizado en *[prueba](prueba)* es ncesario ejecutar lo siguiente desde una terminal en Linux desde el directorio en el que se encuentra esta notebook.\n",
    "\n",
    "Para conocer el directorio en el se se encuentra la notebook se utiliza el siguiente comando mágico de Jupyter:"
   ]
  },
  {
   "cell_type": "code",
   "execution_count": null,
   "metadata": {},
   "outputs": [],
   "source": [
    "%pwd"
   ]
  },
  {
   "cell_type": "markdown",
   "metadata": {},
   "source": [
    "``` bash \n",
    "$ source prueba/bin/activate\n",
    "```"
   ]
  },
  {
   "cell_type": "markdown",
   "metadata": {},
   "source": [
    "**Advertencia:** \n",
    "\n",
    "En caso de tratar de activar un entorno virtual desde una notebook de Jupyter, la celda desde la que se ejecutaría el comado *source* se bloquearía y debería reiniciar el kernel."
   ]
  },
  {
   "cell_type": "markdown",
   "metadata": {},
   "source": [
    "### Deshabilitando el entorno virtual.\n",
    "\n",
    "Para salir del entorno virtual se utiliza el comando:\n",
    "```\n",
    "deactivate\n",
    "``` \n",
    "En cualquier plataforma."
   ]
  },
  {
   "cell_type": "markdown",
   "metadata": {},
   "source": [
    "<p style=\"text-align: center\"><a rel=\"license\" href=\"http://creativecommons.org/licenses/by/4.0/\"><img alt=\"Licencia Creative Commons\" style=\"border-width:0\" src=\"https://i.creativecommons.org/l/by/4.0/80x15.png\" /></a><br />Esta obra está bajo una <a rel=\"license\" href=\"http://creativecommons.org/licenses/by/4.0/\">Licencia Creative Commons Atribución 4.0 Internacional</a>.</p>\n",
    "<p style=\"text-align: center\">&copy; José Luis Chiquete Valdivieso. 2018.</p>"
   ]
  }
 ],
 "metadata": {
  "kernelspec": {
   "display_name": "Python 3",
   "language": "python",
   "name": "python3"
  },
  "language_info": {
   "codemirror_mode": {
    "name": "ipython",
    "version": 3
   },
   "file_extension": ".py",
   "mimetype": "text/x-python",
   "name": "python",
   "nbconvert_exporter": "python",
   "pygments_lexer": "ipython3",
   "version": "3.6.4"
  }
 },
 "nbformat": 4,
 "nbformat_minor": 1
}
