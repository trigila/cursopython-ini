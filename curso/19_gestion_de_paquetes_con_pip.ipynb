{
 "cells": [
  {
   "cell_type": "markdown",
   "metadata": {},
   "source": [
    "[![imagenes](imagenes/pythonista.png)](https://pythonista.mx)"
   ]
  },
  {
   "cell_type": "markdown",
   "metadata": {},
   "source": [
    "## La biblioteca de paquetes de Python.\n",
    "\n",
    "Como se mencionó con anterioridad, existe una enorme cantidad de aplicaciones escritas en Python y publicadas en  el sitio [https://pypi.org/](https://pypi.org/)."
   ]
  },
  {
   "cell_type": "markdown",
   "metadata": {},
   "source": [
    "## El gestor de paquetes *pip*.\n",
    "\n",
    "Para poder acceder de forma local a la biblioteca de paquetes de Python se creó el gestos de paquetes llamado *pip*.\n",
    "\n",
    "### Instalación de *pip*.\n",
    "\n",
    "La mayoría de las distribuciones de GNU/Linux cuentan con un paquete de instalación de *pip* tanto para Python 2 como para Python 3.\n",
    "\n",
    "El gestor pip viene preinstalado en Anaconda.\n",
    "\n",
    "El gestor *pip* puede ser instalado descargando el script *get-pip.py* desde https://bootstrap.pypa.io/get-pip.py y ejecutándolo con permisos de administrador.\n",
    "\n",
    "``` bash\n",
    "$ sudo -H python3 get-pip.py\n",
    "```"
   ]
  },
  {
   "cell_type": "markdown",
   "metadata": {},
   "source": [
    "## Operaciones básicas  con _pip_.\n",
    "\n",
    "Para poder gestionar paquetes con *pip* es necesario ejecutarlo desde la línea de comandos.\n",
    "\n",
    "Es necesario contar con los permisos necesarios para modificar la biblioteca de Python en caso de querer instalar, eliminar o actualizar paquetes. "
   ]
  },
  {
   "cell_type": "markdown",
   "metadata": {},
   "source": [
    "### Búsqueda de paquetes.\n",
    "\n",
    "El gestor *pip* puede buscar los paquetes que se encuentran en https://pypi.org que coincidan con una cadena de caracteres ingresada de la siguiente forma:\n",
    "\n",
    "````bash\n",
    "$ pip search <cadena>\n",
    "```\n",
    "**Ejemplo:**"
   ]
  },
  {
   "cell_type": "code",
   "execution_count": null,
   "metadata": {},
   "outputs": [],
   "source": [
    "!pip search networkx"
   ]
  },
  {
   "cell_type": "markdown",
   "metadata": {},
   "source": [
    "### Instalación de paquetes.\n",
    "\n",
    "Para instalar uno o varios paquetes con *pip* se utiliza el subcomando install seguido del nombre de uno o de varios paquetes.\n",
    "``` bash\n",
    "$ pip install <paquete 1> <paquete 2> ... <paquete n> \n",
    "```\n",
    "Una de las ventajas de pip es que el gestor calcula los paquetes adicionales (dependencias) que requiere el paquete a instalar, por lo que es capaz de descargarlos e instalarlos también."
   ]
  },
  {
   "cell_type": "markdown",
   "metadata": {},
   "source": [
    "**Ejemplo:**\n",
    "\n",
    "Se instalarán los paquetes networkx y numpy, así como sus dependencias."
   ]
  },
  {
   "cell_type": "code",
   "execution_count": null,
   "metadata": {},
   "outputs": [],
   "source": [
    "!sudo -H install networkx numpy"
   ]
  },
  {
   "cell_type": "markdown",
   "metadata": {},
   "source": [
    "### Actualización de paquetes.\n",
    "\n",
    "En caso de que se requiera de actualizar uno o varios paquetes, se utiliza el subcomando *install* con el parámetro adicional *--upgrade*.\n",
    "\n",
    "``` bash\n",
    "$ pip install --upgrade <paquete 1> <paquete 2> ... <paquete n>\n",
    "```"
   ]
  },
  {
   "cell_type": "markdown",
   "metadata": {},
   "source": [
    "**Ejemplo:**\n",
    "\n",
    "Se actualizará el paquete *pip*."
   ]
  },
  {
   "cell_type": "code",
   "execution_count": null,
   "metadata": {},
   "outputs": [],
   "source": [
    "!pip install --upgrade pip"
   ]
  },
  {
   "cell_type": "markdown",
   "metadata": {},
   "source": [
    "### Listado de paquetes instalados.\n",
    "\n",
    "El gestor *pip* permite desplegar un listado de los paquetes que se han instalado utuilizando esta herramienta utilizando el subcomando *list*.\n",
    "\n",
    "``` bash\n",
    "$ pip list\n",
    "```"
   ]
  },
  {
   "cell_type": "markdown",
   "metadata": {},
   "source": [
    "**Ejemplo:**"
   ]
  },
  {
   "cell_type": "code",
   "execution_count": null,
   "metadata": {},
   "outputs": [],
   "source": [
    "!pip list"
   ]
  },
  {
   "cell_type": "markdown",
   "metadata": {},
   "source": [
    "### Desinstalación de paquetes.\n",
    "\n",
    "Para desinstalar un paquete se utiliza el subcomando *uninstall*\n",
    "\n",
    "``` bash\n",
    "$ pip uninstall <paquete 1> <paquete 2> ... <paquete n>\n",
    "```\n",
    "\n",
    "**Nota:** Antes de desinstalar los paquetes, *pip* pregunta si en realidad se quiere realizar esa operación. Para indicarle a *pip* que realice dicha operación sin preguntar, se utiliza la opción. ```-y```."
   ]
  },
  {
   "cell_type": "markdown",
   "metadata": {},
   "source": [
    "**Ejemplo:**\n",
    "\n",
    "Se desinstalará el paquete *networkx*."
   ]
  },
  {
   "cell_type": "code",
   "execution_count": null,
   "metadata": {},
   "outputs": [],
   "source": [
    "!pip uninstall networkx -y"
   ]
  },
  {
   "cell_type": "markdown",
   "metadata": {},
   "source": [
    "### Documentación adicional sobre *pip*.\n",
    "\n",
    "El gestor *pip* cuenta con más subcomando y opciones avanzadas que pueden ser consultadas en https://pip.pypa.io/en/stable/."
   ]
  },
  {
   "cell_type": "markdown",
   "metadata": {
    "collapsed": true
   },
   "source": [
    "<p style=\"text-align: center\"><a rel=\"license\" href=\"http://creativecommons.org/licenses/by/4.0/\"><img alt=\"Licencia Creative Commons\" style=\"border-width:0\" src=\"https://i.creativecommons.org/l/by/4.0/80x15.png\" /></a><br />Esta obra está bajo una <a rel=\"license\" href=\"http://creativecommons.org/licenses/by/4.0/\">Licencia Creative Commons Atribución 4.0 Internacional</a>.</p>\n",
    "<p style=\"text-align: center\">&copy; José Luis Chiquete Valdivieso. 2018.</p>"
   ]
  }
 ],
 "metadata": {
  "kernelspec": {
   "display_name": "Python 3",
   "language": "python",
   "name": "python3"
  },
  "language_info": {
   "codemirror_mode": {
    "name": "ipython",
    "version": 3
   },
   "file_extension": ".py",
   "mimetype": "text/x-python",
   "name": "python",
   "nbconvert_exporter": "python",
   "pygments_lexer": "ipython3",
   "version": "3.6.4"
  }
 },
 "nbformat": 4,
 "nbformat_minor": 1
}
