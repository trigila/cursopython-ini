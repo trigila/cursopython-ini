{
 "cells": [
  {
   "cell_type": "markdown",
   "metadata": {},
   "source": [
    "[![imagenes](imagenes/pythonista.png)](https://pythonista.mx)"
   ]
  },
  {
   "cell_type": "markdown",
   "metadata": {},
   "source": [
    "# Completado de elementos en objetos que contengan iterables\n",
    "\n",
    "Python permite insertar código que genere una serie de objetos mediante iteradores y condicionales. Este \"autollenado\" de elementos se conoce por su nombre en inglés \"comprehension\" y se puede apicar entre otros a objetos de tipo.\n",
    "\n",
    "* _list_.\n",
    "* _tuple_.\n",
    "* _dict_.\n",
    "* _set_.\n",
    "* _forzenset_.\n",
    "\n",
    "## Completado de elementos en objetos de tipo _list_.\n",
    "\n",
    "La sintaxis es la siguente para un objeto de tipo _list_.\n",
    "```\n",
    "        [<expresión que puede incluir a <nombre>> for <nombre> in <objeto iterable> if <expresión lógica que puede implicar a <nombre>>]\n",
    "```\n",
    "El proceso de completado es el siguiente:\n",
    "* Realiza la iteración definida por la expresión _for_ .. *in*.\n",
    "* A cada elemento iterado le aplica la condición lógica.\n",
    "* Si la condición lógica se cumple, añade el resultado de la expresión aplicada al elemento.\n",
    "\n",
    "Es válido no incluir una expresión condicional.\n",
    "\n",
    "**Ejemplos:**"
   ]
  },
  {
   "cell_type": "code",
   "execution_count": null,
   "metadata": {},
   "outputs": [],
   "source": [
    "[x for x in 'Hola']"
   ]
  },
  {
   "cell_type": "code",
   "execution_count": null,
   "metadata": {},
   "outputs": [],
   "source": [
    "[5 * x for x in range(1, 21) if x % 2 == 0]"
   ]
  },
  {
   "cell_type": "code",
   "execution_count": null,
   "metadata": {},
   "outputs": [],
   "source": [
    "[letra.upper() for letra in 'Parangaricutirimicuaro' if letra.lower() not in ['a', 'e', 'i', 'o', 'u']]"
   ]
  },
  {
   "cell_type": "markdown",
   "metadata": {},
   "source": [
    "Usando el último ejemplo, el código sin utilizar completado de elementos sería algo similar a lo siguiente:"
   ]
  },
  {
   "cell_type": "code",
   "execution_count": null,
   "metadata": {},
   "outputs": [],
   "source": [
    "lista = []\n",
    "for letra in 'Parangaricutirimicuaro':\n",
    "    if letra.lower() not in ['a', 'e', 'i', 'o', 'u']:\n",
    "        lista.append(letra.upper())"
   ]
  },
  {
   "cell_type": "code",
   "execution_count": null,
   "metadata": {},
   "outputs": [],
   "source": [
    "print(lista)"
   ]
  },
  {
   "cell_type": "markdown",
   "metadata": {},
   "source": [
    "### Completado con *if* ... *else*.\n",
    "\n",
    "Es posible utilizar la estructura *if* ... *else * con la siguiente sintaxis:\n",
    "\n",
    "```\n",
    "[<expresión que puede incluir a <nombre>> if <condición lógica que puede implicar a <nombre>> else <expresión que puede incluir a <nombre>> for <nombre> in <objeto iterable>]\n",
    "```\n",
    "**Ejemplos:**"
   ]
  },
  {
   "cell_type": "code",
   "execution_count": null,
   "metadata": {},
   "outputs": [],
   "source": [
    "[x if x % 2 == 0 else 5 * x for x in range(1, 21)]"
   ]
  },
  {
   "cell_type": "code",
   "execution_count": null,
   "metadata": {},
   "outputs": [],
   "source": [
    "[letra.upper() if letra.lower() not in ['a', 'e', 'i', 'o', 'u'] else letra.lower() for letra in 'chapultepec']"
   ]
  },
  {
   "cell_type": "markdown",
   "metadata": {},
   "source": [
    "## Completado de elementos en objetos de tipo _tuple_.\n",
    "\n",
    "Cuando se utiliza el completado en un objeto tipo *tuple*, el objeto resultante es un generador.\n",
    "\n",
    "**Ejemplo:**\n"
   ]
  },
  {
   "cell_type": "code",
   "execution_count": null,
   "metadata": {},
   "outputs": [],
   "source": [
    "generador = (5 * x for x in range(1, 21) if x % 2 == 0)"
   ]
  },
  {
   "cell_type": "code",
   "execution_count": null,
   "metadata": {},
   "outputs": [],
   "source": [
    "type(generador)"
   ]
  },
  {
   "cell_type": "code",
   "execution_count": null,
   "metadata": {},
   "outputs": [],
   "source": [
    "print(generador)"
   ]
  },
  {
   "cell_type": "code",
   "execution_count": null,
   "metadata": {},
   "outputs": [],
   "source": [
    "for item in generador:\n",
    "    print(item)"
   ]
  },
  {
   "cell_type": "markdown",
   "metadata": {},
   "source": [
    "## Completado de elementos en objetos de tipo _dict_.\n",
    "\n",
    "En este caso, lo más común es que el elemento iterable sea el identificador.\n",
    "\n",
    "Sintaxis:\n",
    "```\n",
    "{<expresión que podría incluir a  <nombre>>:<expresión que podría incluir a  <nombre>>  for <variable> in <objeto iterable> if <expresión lógica que podría implicar a <nombre>>}\n",
    "```"
   ]
  },
  {
   "cell_type": "markdown",
   "metadata": {},
   "source": [
    "**Ejemplo:** \n",
    "\n",
    "* Las siguientes celdas definirán una serie de identificadores en *campos*, los cuales serán utilizados como el objeto iterable en el completado de objetos tipo *dict*. \n",
    "* En cada iteración se ejecutará la función *input()* y el texto ingresado será asociado al identificador correspondiente."
   ]
  },
  {
   "cell_type": "code",
   "execution_count": null,
   "metadata": {},
   "outputs": [],
   "source": [
    "campos = ('nombre', 'primer apellido', 'segundo apellido')"
   ]
  },
  {
   "cell_type": "code",
   "execution_count": null,
   "metadata": {},
   "outputs": [],
   "source": [
    "{campo: input('Ingrese {}: '.format(campo)) for campo in campos}"
   ]
  },
  {
   "cell_type": "markdown",
   "metadata": {},
   "source": [
    "<p style=\"text-align: center\"><a rel=\"license\" href=\"http://creativecommons.org/licenses/by/4.0/\"><img alt=\"Licencia Creative Commons\" style=\"border-width:0\" src=\"https://i.creativecommons.org/l/by/4.0/80x15.png\" /></a><br />Esta obra está bajo una <a rel=\"license\" href=\"http://creativecommons.org/licenses/by/4.0/\">Licencia Creative Commons Atribución 4.0 Internacional</a>.</p>\n",
    "<p style=\"text-align: center\">&copy; José Luis Chiquete Valdivieso. 2018.</p>"
   ]
  }
 ],
 "metadata": {
  "kernelspec": {
   "display_name": "Python 3",
   "language": "python",
   "name": "python3"
  },
  "language_info": {
   "codemirror_mode": {
    "name": "ipython",
    "version": 3
   },
   "file_extension": ".py",
   "mimetype": "text/x-python",
   "name": "python",
   "nbconvert_exporter": "python",
   "pygments_lexer": "ipython3",
   "version": "3.6.4"
  }
 },
 "nbformat": 4,
 "nbformat_minor": 1
}
