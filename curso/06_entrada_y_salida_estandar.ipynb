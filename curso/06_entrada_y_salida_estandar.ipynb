{
 "cells": [
  {
   "cell_type": "markdown",
   "metadata": {},
   "source": [
    "[![imagenes](imagenes/pythonista.png)](https://pythonista.mx)"
   ]
  },
  {
   "cell_type": "markdown",
   "metadata": {},
   "source": [
    "En la actualidad existen muchas fuentes desde las que se puede obtener y desplegar la información que un sistema de cómputo consume, gestiona y genera. Sin embargo, para el intérprete de Python la salida por defecto (salida estándar) de datos es la terminal de texto y la entrada estándar es el teclado.\n",
    "\n",
    "En el caso de las notebooks de Jupyter, cada celda de código representa a la entrada estándar mediante:\n",
    "\n",
    "```In[ ]:```\n",
    "\n",
    "Y la salida estándar mediante:\n",
    "\n",
    "```Out[ ]:```"
   ]
  },
  {
   "cell_type": "markdown",
   "metadata": {},
   "source": [
    "## Salida estándar.\n",
    "\n",
    "La instrucción para desplegar información en la teminal de texto es _print_. En la versión 2 de Python, _print_ es una palabra reservada, mientras que en Python 3 _print()_ es una función, por lo que el contenido a desplegar siempre debe estar expresado como un parámetro dentro de la función, es decir, que debe estar entre paréntesis.\n",
    "\n",
    "* Cuando _print()_ incluye una expresión, ésta es evaluada antes de ser desplegada.\n",
    "* Del mismo modo, _print()_ puede desplegar varias expresiones separadas por comas."
   ]
  },
  {
   "cell_type": "markdown",
   "metadata": {},
   "source": [
    "### Ejemplos de _print()_ en Python 3"
   ]
  },
  {
   "cell_type": "code",
   "execution_count": null,
   "metadata": {},
   "outputs": [],
   "source": [
    "a = 2"
   ]
  },
  {
   "cell_type": "code",
   "execution_count": null,
   "metadata": {},
   "outputs": [],
   "source": [
    "print(a)"
   ]
  },
  {
   "cell_type": "code",
   "execution_count": null,
   "metadata": {},
   "outputs": [],
   "source": [
    "2 + 2"
   ]
  },
  {
   "cell_type": "code",
   "execution_count": null,
   "metadata": {},
   "outputs": [],
   "source": [
    "print(\"Hola\")"
   ]
  },
  {
   "cell_type": "code",
   "execution_count": null,
   "metadata": {},
   "outputs": [],
   "source": [
    "print(\"Hola\", \"Mundo\")"
   ]
  },
  {
   "cell_type": "code",
   "execution_count": null,
   "metadata": {},
   "outputs": [],
   "source": [
    "print(\"Hola\" + \"Mundo\")"
   ]
  },
  {
   "cell_type": "code",
   "execution_count": null,
   "metadata": {},
   "outputs": [],
   "source": [
    "print(\"Tienes\", a, \"buenos amigos.\")"
   ]
  },
  {
   "cell_type": "code",
   "execution_count": null,
   "metadata": {},
   "outputs": [],
   "source": [
    "print(\"Tienes\" + a + \"buenos amigos.\")"
   ]
  },
  {
   "cell_type": "markdown",
   "metadata": {},
   "source": [
    "Todas las funciones, incluyendo a _print()_, regresan un valor. El valor que print regresa es _None_, pero este valor no es desplegado por el intérprete."
   ]
  },
  {
   "cell_type": "code",
   "execution_count": null,
   "metadata": {},
   "outputs": [],
   "source": [
    "nulo = print(\"Hola\")"
   ]
  },
  {
   "cell_type": "code",
   "execution_count": null,
   "metadata": {},
   "outputs": [],
   "source": [
    "nulo"
   ]
  },
  {
   "cell_type": "markdown",
   "metadata": {},
   "source": [
    "Sin embargo, la función *print()* sí puede desplegar el valos *None*."
   ]
  },
  {
   "cell_type": "code",
   "execution_count": null,
   "metadata": {},
   "outputs": [],
   "source": [
    "print(nulo)"
   ]
  },
  {
   "cell_type": "markdown",
   "metadata": {},
   "source": [
    "### Ejemplo de *print* en Python 2\n",
    "\n",
    "``` python\n",
    ">>> a=2\n",
    ">>> print a\n",
    "2\n",
    ">>> print \"Hola\"\n",
    "Hola\n",
    ">>> print \"Hola\", \"Mundo\"\n",
    "Hola Mundo\n",
    ">>> print \"Hola\" + \"Mundo\"\n",
    "HolaMundo\n",
    ">>> print \"Tienes\", a, \"buenos amigos.\"\n",
    "Tienes 2 buenos amigos.\n",
    ">>> print \"Tienes\" +  a + \"buenos amigos.\"\n",
    "Traceback (most recent call last):\n",
    "  File \"<stdin>\", line 1, in <module>\n",
    "TypeError: cannot concatenate 'str' and 'int' objects\n",
    ">>> \n",
    "```\n",
    "### _print_ y _print()_ en Python 2.7\n",
    "\n",
    "Python 2.7 es una versión de transición, por lo que acepta ambas sintaxis.\n",
    "\n",
    "**Ejemplo:**\n",
    "\n",
    "``` python\n",
    ">>> print \"Hola\"\n",
    "Hola\n",
    ">>> print(\"Hola\")\n",
    "Hola\n",
    ">>>\n",
    "```"
   ]
  },
  {
   "cell_type": "markdown",
   "metadata": {},
   "source": [
    "### Despliegue con formato.\n",
    "\n",
    "Para intercalar valores dentro de un formato específico de texto se utiliza el carácter sobre-escritura (_%_) seguido  de uno de los siguientes caracteres.\n",
    "\n",
    "|Caracter de escape|Modo de despliegue|\n",
    "|:----------------:|:----------------:|\n",
    "|*s*|\tcadena de texto|\n",
    "|*d*|\t entero|\n",
    "|*o*|\t octal|\n",
    "|*x*|\t hexadecimal|\n",
    "|*f*|\t punto flotante|\n",
    "|*e*|\t punto flotante en formato exponencial|    \n",
    "\n",
    "El uso de *%s*, equivale a aplicar la función _str()_ al valor a desplegar.\n",
    "\n",
    "Después del texto, se añade otro signo (*%*) y las expresiones o nombres correspondientes entre paréntesis y separados por comas. Si sólo es una expresión o nombre, no es necesario utilizar el paréntesis.\n",
    "\n",
    "__Ejemplo:__\n"
   ]
  },
  {
   "cell_type": "code",
   "execution_count": null,
   "metadata": {},
   "outputs": [],
   "source": [
    "pi = 3.141592\n",
    "radio = 2"
   ]
  },
  {
   "cell_type": "code",
   "execution_count": null,
   "metadata": {},
   "outputs": [],
   "source": [
    "print(\"El perímetro de un circulo de radio %d es %f.\" % (radio, 2 * radio * pi))"
   ]
  },
  {
   "cell_type": "code",
   "execution_count": null,
   "metadata": {},
   "outputs": [],
   "source": [
    "print(\"El perímetro de un circulo de radio %d es %d.\" % (radio, 2 * radio * pi))"
   ]
  },
  {
   "cell_type": "code",
   "execution_count": null,
   "metadata": {},
   "outputs": [],
   "source": [
    "print(\"El perímetro de un circulo de radio %s es %s.\" % (radio, 2 * radio * pi))"
   ]
  },
  {
   "cell_type": "code",
   "execution_count": null,
   "metadata": {},
   "outputs": [],
   "source": [
    "print(\"El valor de pi es %f.\" % (pi))"
   ]
  },
  {
   "cell_type": "code",
   "execution_count": null,
   "metadata": {},
   "outputs": [],
   "source": [
    "print(\"El valor de pi es %e.\" % pi)"
   ]
  },
  {
   "cell_type": "markdown",
   "metadata": {},
   "source": [
    "Para desplegar el signo de porcentaje \"*%*\" se utiliza *%%*.\n",
    "\n",
    "__Ejemplo:__"
   ]
  },
  {
   "cell_type": "code",
   "execution_count": null,
   "metadata": {},
   "outputs": [],
   "source": [
    "valor = 13\n",
    "porciento = 15\n",
    "porcentaje = (valor * porciento) / 100\n",
    "print(\"El %d%% de %f es %f.\" % (porciento, valor, porcentaje))"
   ]
  },
  {
   "cell_type": "markdown",
   "metadata": {},
   "source": [
    "#### Despliegue de cifras significativas.\n",
    "\n",
    "Para desplegar un número específico de cifras significativas de un valor de punto flotante, se añade un punto (.) y el número de cifras a desplegarse después del signo (*%*) y antes del carácter *f* o *e*.\n",
    "\n",
    "__Ejemplo:__"
   ]
  },
  {
   "cell_type": "code",
   "execution_count": 2,
   "metadata": {},
   "outputs": [
    {
     "name": "stdout",
     "output_type": "stream",
     "text": [
      "El perímetro de un círculo de radio igual a 2 es 12.566771.\n",
      "El perímetro de un círculo de radio igual a 2 es 12.57.\n"
     ]
    }
   ],
   "source": [
    "pi = 3.14169265\n",
    "radio = 2\n",
    "print(\"El perímetro de un círculo de radio igual a %d es %f.\" % (radio, 2 * pi * radio))\n",
    "print(\"El perímetro de un círculo de radio igual a %d es %.2f.\" % (radio, 2 * pi * radio))"
   ]
  },
  {
   "cell_type": "markdown",
   "metadata": {},
   "source": [
    "### Caracteres de escape.\n",
    "\n",
    "Existen algunos caracteres que por su función o por la sintaxis de Python -tales como los apóstrofes, las comillas, los retornos de línea, etc.- que deben utilizar un \"caracter de escape\", para que puedan ser desplegados. Los caracteres de escape pueden ser introducidos después de una diagonal invertida ( \\\\).\n",
    "\n",
    "|Secuencia|Despliegue|\n",
    "|:-------:|:--------:|\n",
    "|*\\\\n*    |Retorno de línea|\n",
    "|*\\\\t*    |Tabulador |\n",
    "|*\\\\\"*    |Comillas  |\n",
    "|*\\\\'*    |Apóstrofe |\n",
    "|*\\\\\\\\*   |Diagonal invertida|\n",
    "|*\\\\xNN*  |Caracter que corresponde al número hexadecimal *NN* en ASCII|\n",
    "|*\\\\uNN*  |Caracter que corresponde al número hexadecimal *NN* en Unicode|\n",
    "\n",
    "**Ejemplo:**"
   ]
  },
  {
   "cell_type": "code",
   "execution_count": null,
   "metadata": {},
   "outputs": [],
   "source": [
    "print(\"Primera línea.\\nSegunda línea\\t con tabulador.\")"
   ]
  },
  {
   "cell_type": "code",
   "execution_count": null,
   "metadata": {},
   "outputs": [],
   "source": [
    "print(\"Este es el signo de \\\"gato\\\" \\x23.\")"
   ]
  },
  {
   "cell_type": "code",
   "execution_count": null,
   "metadata": {},
   "outputs": [],
   "source": [
    "print(\"Beta: \\u00DF\")"
   ]
  },
  {
   "cell_type": "markdown",
   "metadata": {},
   "source": [
    "## Entrada estándar con _input()_. \n",
    "\n",
    "La función por defecto de entrada estándar para Python 3 es _input()_. En el caso de Python 2, la función es *raw\\_input()*. En cada caso, la función opera de forma idéntica.\n",
    "\n",
    "La función _input()_ captura los caracteres provenientes de entrada estándar (el teclado) hasta que se introduce un retorno de carro **&lt;Intro&gt;** y el contenido capturado es devuelto al intérprete como una cadena de texto. \n",
    "\n",
    "La cadena de caracteres resultante puede ser almacenada como un objeto de tipo _str_ mediante la asignación de un nombre.\n",
    "\n",
    "La función permite desplegar un mensaje de tipo _str_ como parámetro.\n",
    "\n",
    "### La función *input()* . \n",
    "\n",
    "La sintaxis es la siguiente para Python 3:\n",
    "\n",
    "``` \n",
    "input(<objeto tipo str>)\n",
    "```\n",
    "\n",
    "**Ejemplos:**"
   ]
  },
  {
   "cell_type": "code",
   "execution_count": null,
   "metadata": {},
   "outputs": [],
   "source": [
    "input()"
   ]
  },
  {
   "cell_type": "code",
   "execution_count": null,
   "metadata": {},
   "outputs": [],
   "source": [
    "texto = input()"
   ]
  },
  {
   "cell_type": "code",
   "execution_count": null,
   "metadata": {},
   "outputs": [],
   "source": [
    "type(texto)"
   ]
  },
  {
   "cell_type": "code",
   "execution_count": null,
   "metadata": {},
   "outputs": [],
   "source": [
    "texto"
   ]
  },
  {
   "cell_type": "code",
   "execution_count": null,
   "metadata": {},
   "outputs": [],
   "source": [
    "print(texto)"
   ]
  },
  {
   "cell_type": "code",
   "execution_count": null,
   "metadata": {},
   "outputs": [],
   "source": [
    "nombre = input(\"Escribe un nombre: \")\n",
    "print(nombre)"
   ]
  },
  {
   "cell_type": "markdown",
   "metadata": {},
   "source": [
    "\n",
    "### La función *raw_input()* en Python 2.\n",
    "\n",
    "La sintaxis es la siguiente para Python 2:\n",
    "\n",
    "``` \n",
    "raw_input(<objeto tipo str>)\n",
    "```\n",
    "\n",
    "**Ejemplo:**\n",
    "\n",
    "``` python\n",
    ">>> raw_input()\n",
    "Hola\n",
    "'Hola'\n",
    ">>> texto = raw_input()\n",
    "Hola\n",
    ">>> type(texto)\n",
    "<type 'str'>\n",
    ">>> print texto\n",
    "Hola\n",
    ">>> nombre = raw_input(\"Escribe un nombre: \")\n",
    "Escribe un nombre: Juan\n",
    ">>> print nombre\n",
    "Juan\n",
    ">>> \n",
    "```\n",
    "### La función _input()_ en Python 2.\n",
    "\n",
    "Además de *raw_input()*, Python 2 cuenta con la función _input()_, la cual es semejante a ejecutar *eval(raw_input())*.\n",
    "\n",
    "Si la expresión ingresada es correcta, La función _input()_ puede regresar valores de diversos tipos, en vez de sólo cadenas de texto.\n",
    "\n",
    "**Ejemplo:**\n",
    "\n",
    "``` python\n",
    ">>> mensaje = \"Ingresa el texto: \"\n",
    ">>> valor = raw_input(mensaje)\n",
    "Ingresa el texto: 35 + 21\n",
    ">>> type(valor)\n",
    "<type 'str'>\n",
    ">>> print valor\n",
    "35 + 21\n",
    ">>> valor = input(mensaje)\n",
    "Ingresa el texto: 35 + 21\n",
    ">>> type(valor)\n",
    "<type 'int'>\n",
    ">>> print valor\n",
    "56\n",
    ">>> valor = input(mensaje)\n",
    "Ingresa el texto: \"Hola\"\n",
    ">>> type(valor)\n",
    "<type 'str'>\n",
    ">>> print valor\n",
    "Hola\n",
    ">>> valor = input(mensaje)\n",
    "Ingresa el texto: Hola\n",
    "Traceback (most recent call last):\n",
    "  File \"<stdin>\", line 1, in <module>\n",
    "  File \"<string>\", line 1, in <module>\n",
    "NameError: name 'Hola' is not defined\n",
    ">>>\n",
    "```\n",
    "**NOTA:** La función _input()_, tal como se usa en Python 2 tiene el potencial de generar diversos errores y es susceptible de vulnerabilidades de seguridad debido a que podría usarse para inyectar código malicioso. Es por eso por lo que en Python 3, _input()_ se comporta como *raw_input()* y la función *raw_input()* fue desechada."
   ]
  },
  {
   "cell_type": "markdown",
   "metadata": {},
   "source": [
    "<p style=\"text-align: center\"><a rel=\"license\" href=\"http://creativecommons.org/licenses/by/4.0/\"><img alt=\"Licencia Creative Commons\" style=\"border-width:0\" src=\"https://i.creativecommons.org/l/by/4.0/80x15.png\" /></a><br />Esta obra está bajo una <a rel=\"license\" href=\"http://creativecommons.org/licenses/by/4.0/\">Licencia Creative Commons Atribución 4.0 Internacional</a>.</p>\n",
    "<p style=\"text-align: center\">&copy; José Luis Chiquete Valdivieso. 2018.</p>"
   ]
  }
 ],
 "metadata": {
  "kernelspec": {
   "display_name": "Python 3",
   "language": "python",
   "name": "python3"
  },
  "language_info": {
   "codemirror_mode": {
    "name": "ipython",
    "version": 3
   },
   "file_extension": ".py",
   "mimetype": "text/x-python",
   "name": "python",
   "nbconvert_exporter": "python",
   "pygments_lexer": "ipython3",
   "version": "3.6.4"
  }
 },
 "nbformat": 4,
 "nbformat_minor": 1
}
