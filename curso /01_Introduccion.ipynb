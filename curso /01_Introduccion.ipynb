{
  "nbformat": 4,
  "nbformat_minor": 0,
  "metadata": {
    "kernelspec": {
      "display_name": "Python 3",
      "language": "python",
      "name": "python3"
    },
    "language_info": {
      "codemirror_mode": {
        "name": "ipython",
        "version": 3
      },
      "file_extension": ".py",
      "mimetype": "text/x-python",
      "name": "python",
      "nbconvert_exporter": "python",
      "pygments_lexer": "ipython3",
      "version": "3.7.3"
    },
    "toc": {
      "base_numbering": 1,
      "nav_menu": {},
      "number_sections": false,
      "sideBar": false,
      "skip_h1_title": false,
      "title_cell": "Table of Contents",
      "title_sidebar": "Contents",
      "toc_cell": false,
      "toc_position": {},
      "toc_section_display": false,
      "toc_window_display": false
    },
    "colab": {
      "name": "01_Introduccion.ipynb",
      "version": "0.3.2",
      "provenance": [],
      "collapsed_sections": [],
      "include_colab_link": true
    }
  },
  "cells": [
    {
      "cell_type": "markdown",
      "metadata": {
        "id": "view-in-github",
        "colab_type": "text"
      },
      "source": [
        "<a href=\"https://colab.research.google.com/github/trigila/cursopython-ini/blob/master/curso%20/01_Introduccion.ipynb\" target=\"_parent\"><img src=\"https://colab.research.google.com/assets/colab-badge.svg\" alt=\"Open In Colab\"/></a>"
      ]
    },
    {
      "cell_type": "markdown",
      "metadata": {
        "id": "diuCT4vDN9yJ",
        "colab_type": "text"
      },
      "source": [
        "<a href=\"https://www.python.org/\"> <img style= \"float: right;\" src=\"http://openwhisk.incubator.apache.org/images/runtimes/icon-python-text-color-horz.png\" width=\"170\" height=\"60\" /> </a>\n",
        "# **CURSO:** Introducción a la programación con Python\n",
        "\n",
        "---\n",
        "\n",
        "<a href=\"mailto:marianotrigila@gmail.com\"><img style= \"float: right; padding: 10px 5px 15px 20px;\" src=\"https://img.shields.io/badge/Mail-Mariano Trigila-green.svg\" /></a>.<a href=\"https://trigila.github.io/\"><img style= \"float: right; margin: 10px 5px 15px 20px;\" src=\"https://img.shields.io/badge/Page-Mariano Trigila-green.svg\" /></a>.\n",
        "_Last update: 30 de Julio del 2019_ \n",
        "\n",
        "---\n",
        "\n",
        "\n"
      ]
    },
    {
      "cell_type": "markdown",
      "metadata": {
        "id": "W13prvGwN9yK",
        "colab_type": "text"
      },
      "source": [
        "# CONTENIDOS\n",
        "\n",
        "### 1. Introducción a la programación. Entrada y Salida. Variables y Operadores.\n",
        "* **A**. Presentación de la materia. Esquema y elementos de una computadora (entrada, salida, procesador, memoria, almacenamiento). Etapa en la  resolución de problemas (análisis, diseño: algoritmo/programa, codificación, compilación/interpretación, ejecución, prueba). Sistemas numéricos (decimal, binario,hexadecimal,octal)(conversión cualquier base a dec y dec a cualquier base) Método directo de conversión(binario a octal/hexadecimal y octal/hexadecimal a binario). Ejercitación.\n",
        "\n",
        "* **B**.  (_Práctica_) - Entorno de desarrollo (_[IDE thonny](https://thonny.org/)_). Lenguaje de programación, concepto palabras reservadas, Elementos de un programa de Python. Escritura y ejecución de programas básicos en python. Errores de sintaxis, de ejecuión, de semántica.\n",
        "\n",
        "* **C**.  (_Práctica_) - Entrada y salida de datos. Uso de variables int, string. Conversion. CONSULTAS: sobre formato de salida de texto.\n",
        "\n",
        "* **D**. Concepto de variable, asignación y sus particularidades en python. Tipos de datos (int, float, bool, string, None). Conversiones de tipos. Concepto de (Clase - objeto - método).\n",
        "  \n",
        "  ---\n",
        "  \n",
        "  - _Operadores-Sentencias:_     \n",
        "      ```python\n",
        "      = ; (); []; {}\n",
        "      ``` \n",
        "      ```python\n",
        "       +; -; *; /; //; **; %\n",
        "      ```     \n",
        "  - _Funciones:_   \n",
        "    ```python\n",
        "    print(); input(); len(); str(); int(); float(); ord(); chr(); round(); type(); id()\n",
        "   ``` \n",
        "  - _Miscelaneros:_\n",
        "\n",
        "    - _Secuencias de escape en un string_\n",
        "      ```python\n",
        "      '\\n'; '\\t'; '\\r'; '\\\\'\n",
        "      ```\n",
        "    - _Constantes:_\n",
        "  ```python\n",
        "    True; False \n",
        "  ```\n",
        "    - _Comentarios:_\n",
        "  ```python\n",
        "    # ; '''\n",
        "  ```\n",
        "    - _Delimitadores de un string:_\n",
        "    ```python\n",
        "    \"\" ; ''\n",
        "  ```\n",
        "  - _Autoaprendizaje: del método de string para formatear cadenas, especialmente utlizado para formatear salida_\n",
        "```python\n",
        "    \"\".format()\n",
        "```\n",
        "    link: https://pyformat.info/\n",
        "\n",
        "  ---\n"
      ]
    },
    {
      "cell_type": "markdown",
      "metadata": {
        "id": "D5TE4R2pXNmY",
        "colab_type": "text"
      },
      "source": [
        "## Concepto computador básico\n",
        "La computadora es un dispositivo electrónico diseñado para trabajar con información. \n",
        "\n",
        "*  La información es representada con números decimales a través de una cadena de dígitos binarios.\n",
        "*  Almacena y procesa datos (_operaciones lógicas y aritméticas_), típicamente en forma binaria, de acuerdo con las instrucciones que se le da desde un programa.\n",
        "*  Formada físicamente por numerosos circuitos integrados (Harwdware) y logicamente por programas (software).\n",
        "  - **Hardware**: Se refiere a las partes físicas, tangibles, de un sistema informático; sus componentes eléctricos, electrónicos, electromecánicos y mecánicos. Ej: cpu, memoria, dispositivos de entrada, gabinete, pantalla, entre otros.\n",
        "  - **Sotfware**:  Se refiere a la parte intangible (lógica) del sistema informático. Incluye a los programas, datos, información, señales digitales para uso interno. Ej: sistema operativos, aplicaciones como navegador, procesodr de texto, entre otros.\n",
        "\n",
        "La interacción entre el software y el hardware hace operativo una computadora. \n",
        "\n",
        "---\n",
        "\n",
        "|<a href=\"#\"> <img style= \"float: right;\" src=\"https://www.tutorialspoint.com/operating_system/images/conceptual_view.jpg\" width=\"300\" height=\"240\" /> </a>| \n",
        "|:--:| \n",
        "| *Vista conceptual (Hardware - Software - Usuarios)* |\n",
        "\n",
        "\n",
        "   ---\n",
        "\n",
        "* Un **microprocesador** es una unidad de control de una computadora (CPU), fabricada en un pequeño chip capaz de realizar operaciones en la Unidad aritmética lógica (ALU) y comunicarse con los otros dispositivos conectados a ella.\n",
        "  - Un microprocesador fue desarrollado para comprender y ejecutar un conjunto de instrucciones.\n",
        "  - Las instrucciones se almacenan en la memoria. \n",
        "  - En la CPU se ejecuta las instrucciones en orden secuencial.\n",
        "  - _**El programador** tiene un repertorio de instrucciones como medio para controlar la CPU._\n",
        "\n",
        "* Un **dispositivo de entrada (input unit)** es un elemento de hardware informático que se utiliza para proporcionar datos y señales de control a un sistema de procesamiento de información, como una computadora o un dispositivo de información . \n",
        "  - Ejemplos de dispositivos de entrada incluyen: **teclados** , mouse , escáneres , cámaras digitales , joysticks y micrófonos, dispositivos de red.\n",
        "* Un **dispositivo de salida (output unit)** es un elemento de hardware que convierte la información en forma legible para humanos. Es responsable de proporcionar la salida en forma legible para el usuario. La información puede ser texto , gráficos , táctil , audio y video.\n",
        "  - Ejemplos de dispositivos de salida incluyen: **pantalla**, impresora, altavoz, dispositivos de red.\n",
        "* La **memoria** (memoria princiapal (o RAM) ) de la computadora es el espacio donde se almacenan las _instrucciones_ y _los datos_ , ambos necesarios para el procesamiento de información. La memoria princiapal se divide en una gran cantidad de pequeñas partes llamadas celdas. Cada ubicación o celda tiene una dirección única.\n",
        "* La **unidad de almacenamiento** son los dispositvos donde se almacena información masiva. Sule referirce a el disco rígido, disco de estado sólidos, memorias flash.\n",
        "\n",
        "  ---\n",
        "\n",
        "|<a href=\"#\"> <img style= \"float: right;\" src=\"http://www.rozyph.com/wp-content/uploads/2017/12/Block-diagram-of-Computer.png\" width=\"340\" height=\"240\" /> </a>| \n",
        "|:--:| \n",
        "| *Diagrama de bloques de un computador básico (Hardware)* |\n",
        "\n",
        "  ---\n"
      ]
    },
    {
      "cell_type": "markdown",
      "metadata": {
        "id": "1FmOooBGoUie",
        "colab_type": "text"
      },
      "source": [
        "\n",
        "\n",
        "## **El Algoritmo**\n",
        "\n",
        "Un algoritmo ​ es un conjunto prescrito de instrucciones o reglas bien definidas, ordenadas y finitas que permiten llevar a cabo una actividad mediante pasos sucesivos que no generen dudas a quien deba hacer dicha actividad.\n",
        "\n",
        "En nuestro contexto: el algoritmo describe la solución a un problema en términos de: \n",
        "1.   Los datos necesarios para representar la instancia del problema.\n",
        "2.   El conjunto de pasos necesarios para producir el resultado deseado.\n",
        "\n",
        "|<a href=\"#\"> <img style= \"float: right;\" src=\"https://raw.githubusercontent.com/trigila/cursopython-ini/master/curso/img/algo_diagrama_flujo.png\" width=\"260\" height=\"300\" /> </a>|<a href=\"#\"> <img style= \"float: right;\" src=\"https://raw.githubusercontent.com/trigila/cursopython-ini/master/curso/img/algo_python.png\" width=\"320\" height=\"100\" /> </a>|  \n",
        "|:--:|:--:|\n",
        "| *Ejemplo de un algoritmo, en diagram de flujo.* | *Ejemplo de un algoritmo, en lenguaje Python.* |\n",
        "\n",
        "\n",
        "## **La programación**\n",
        "\n",
        "La programación es el arte y la ciencia de traducir un conjunto de ideas en un programa informático, siendo este una lista de instrucciones que puede seguir una computadora.\n",
        "\n",
        "En nuestro contexto: la programación es el proceso de tomar un algoritmo y codificarlo en una notación (_la que llamaremos lenguaje de programación_) para que pueda ser ejecutado por una computadora.\n",
        "\n",
        "|<a href=\"#\"> <img style= \"float: right;\" src=\"https://spzone-simpleprogrammer.netdna-ssl.com/wp-content/uploads/2018/02/To-be-a-team-player-you-should-be-willing.png\" width=\"250\" height=\"250\" /> </a>| \n",
        "|:--:| \n",
        "| *Los Programadores* |\n",
        "\n",
        "## **El lenguaje de programación**\n",
        "Un lenguaje de programación es un **lenguaje formal** que proporciona una serie de instrucciones que permiten a un programador escribir secuencias de órdenes y algoritmos a modo de controlar el comportamiento físico y lógico de una computadora.\n",
        "Los simbolos del lenguaje de programación es texto legible por el humano.\n",
        "\n",
        ">*Ejemplo de codigo de programación en lenguaje Python:* \n",
        "```python\n",
        "def fib(n):\n",
        "    a, b = 0, 1\n",
        "    while a < n:\n",
        "         print(a, end=' ')\n",
        "         a, b = b, a+b\n",
        "     print()\n",
        "``` \n",
        "El lenguaje seleccionado para este curso inicial es [Python](https://www.python.org/). \n",
        "\n",
        "## **El proceso de la programación**\n",
        "\n",
        "La resolución de un problema mediante una computadora consiste en el proceso que a partir de la descripción de un problema, expresado habitualmente en lenguaje natural y en términos propios del dominio del problema, permite desarrollar un programa informático que resuelva dicho problema. \n",
        "\n",
        "Para desarrollar un programa informático presentamos un método con una serie de pasos que facilitarán el proceso de la programación: \n",
        "\n",
        "1.   Identificar y comprender el problema (_Análisis_). \n",
        "2.   Planificar la solución (_Diseño_). \n",
        "3.   Codificar el programa (_Implementación_).\n",
        "4.   Probar el programa (_Probar o Test_).\n",
        "5.   Documentar el programa (_Documentar_).\n",
        "\n",
        "\n",
        "**Identificar y comprender el problema (_Análisis_)**: - Comprender lo que debe hacer el programa . -          \n",
        "Es el proceso de Análisis del problema, en donde se debe:  \n",
        "* **Identificar \"Entrada\"**: Datos que son necesarios para resolver el problema. Son los datos que el usuario ingresa a la computadora antes de procesar.            \n",
        "* **Identificar \"Salida\"**: Datos que debe proporcionar la resolución del problema. Son los datos que son necesarios mostrar en la salida de la computadora.\n",
        "* **Definir el problema**: entender el dominio del problema. Hacer breves descripciones, si lo cree necesario, del tratamiento (_proceso_) al cual serán suscriptos los datos.\n",
        "\n",
        "\n",
        "|<a href=\"#\"> <img style= \"float: right;\" src=\"http://seainformatica2.mex.tl/imagesnew2/0/0/0/2/0/9/5/0/8/7/EPPSSS.jpg\" width=\"300\" height=\"120\" /> </a>| \n",
        "|:--:| \n",
        "| *Diagrama Entrada Proceso Salida (EPS)* |\n",
        "\n",
        "> _En este paso es necesario identificar la condición o situación en la que existen elementos discordantes o perdidos, o inconsistencia en los datos disponibles. Las situaciones problemáticas pueden ser de distintos tipos, desde problemas definidos, hasta problemas menos definidos en términos de disposición de datos. En este paso se reconoce cuál es el problema, se clarifican los elementos clave y se define el problema de manera clara y precisa._\n",
        "\n",
        "**Planificar la solución (_Diseño_)**: - Descubrir cómo resolver el problema paso a paso.  -\n",
        "\n",
        "> Se debe crear el algoritmo que dará la solución al problema planteado. Se establecen las especificaciones del programa, es decir, qué debe hacer y cómo lo debe hacer.\n",
        "Los algoritmos pueden ser expresados de muchas maneras, a través de **representaciones internas (mentales)** o através de representación externas como ser: lenguaje natural,  [pseudocódigo](https://es.wikipedia.org/wiki/Pseudoc%C3%B3digo \"pseudocódigo\") o [diagrama de flujo](https://es.wikipedia.org/wiki/Diagrama_de_flujo \"diagrama de flujo\") ) y lenguajes de programación entre otros.\n",
        " \n",
        "> _Las descripciones en lenguaje natural tienden a ser ambiguas y extensas. El usar pseudocódigo y diagramas de flujo evita muchas ambigüedades del lenguaje natural. Dichas expresiones son formas más estructuradas para representar algoritmos; no obstante, se mantienen independientes de un lenguaje de programación específico. **Los programadores con experiencia utilizan directamente el lenguaje de programación para expresar el algoritmo**._\n",
        "\n",
        "\n",
        "**Codificar el programa (_Implementación_)**: - Escribir la solución en un lenguaje de programación.  -\n",
        "\n",
        "> El programador traduce la lógica del diagrama de flujo o pseudocódigo o de su representación mental a un lenguaje de programación. \n",
        " Para que el programa funcione, los programadores deben seguir exactamente las reglas y la sintaxis del lenguaje que están utilizando.\n",
        "\n",
        "\n",
        "**Probar el programa (_Probar o Test_)**: - Ejecutar el programa en la computadora y llevar adelante un conjunto de pruebas. - \n",
        "* Probar si el programa funciona, esto quiere decir si \"corre (ejecuta)\". Si el programa no se ejecuta y el IDE muestra un error, entonces estamos ante un problema de sintaxis.\n",
        "\n",
        "* Si el programa ejecuta, entonces debemos probar con un conjunto amplio de datos de entrada y verificar que los datos de salida  (_para dichos datos de entrada_) sean los esperados. Si los datos de salida no son los esperados (es decir son incorrectos) entonces estamos ante un error del tipo lógico.\n",
        "\n",
        ">**Tipos de errores**: \n",
        "1. **Error de sintáxis**:  Es cualquier violación a las reglas del lenguaje de programación. Es decir se escriben instrucciones que no pertenecen al lenguaje.\n",
        "1. **Error de ejecución**: No tiene error de sintáxis. Se produce un error (_y el programa deja de ejecutar_) cuando el programa no puede ejecutar alguna instrucción de forma correcta en tiempo donde se está ejecutando. Típico ejemplo es la división por cero.\n",
        "2. **Error lógico**:\n",
        "No tiene error de sintaxis ni error de ejecución. Se produce un error lógico cuando el programa no hace lo que se espera que haga. De manera que, un error de lógica se produce cuando dado un conjunto de datos de entradas, los resultados obtenidos (_datos de salida_) no son los esperados, es decir el resultado es incorrecto.\n",
        "\n",
        "**Documentar el programa**: \n",
        "> Este paso se realiza en conjunto con \"Codificar el programa\". Escriba explicaciones del programa para que usted u otra persona entienda los códigos del programa. La explicaciones pueden hacerse tanto a nivel global como a nivel de línea de instrucción (más detallado).\n",
        "Los lenguajes de programación proveen un mecanismo de comentarios que son utilizados para documentar.\n",
        " \n",
        "> Además, el código que escribe debe tener característica de autodocumentado. Esto se refiere que las declaraciones de variables, funciones utilice nombre que se relaciones con el uso que se le dará.\n",
        "\n",
        "## **Paradigmas de programación**\n",
        "Un paradigma de programación define un conjunto de reglas, patrones y estilos que son usados por un grupo de lenguajes de programación. Actualmente hay varios paradigmas que conviven, pero para este curso haremos uso de tre de ellos, y son: \n",
        "\n",
        "* [Programación estructurada](https://es.wikipedia.org/wiki/Programaci%C3%B3n_estructurada \"Programación estructurada\")\n",
        " (_[Teorema de la programación estructurada](https://es.wikipedia.org/wiki/Teorema_del_programa_estructurado \"Teorema de la programación estructurada\")_ )\n",
        "\n",
        "* [Programación por procedimientos](https://es.wikipedia.org/wiki/Programaci%C3%B3n_por_procedimientos \"Programación por procedimiento\")\n",
        "\n",
        "* [Programación modular](https://es.wikipedia.org/wiki/Programaci%C3%B3n_modular \"Programación modular\")\n",
        "\n",
        "Avanzaremos sobre el conocimiento de estos páradigmas a los largo del curso.\n",
        "\n",
        "\n",
        "## **El IDE**\n",
        "\n",
        "Un entorno de desarrollo integrado​​ o entorno de desarrollo interactivo, en inglés Integrated Development Environment (IDE), es una aplicación informática que proporciona servicios integrales para facilitar al desarrollador o programador el desarrollo de software, es decir facilita la escritura de prograas informáticos.\n",
        "\n",
        "**El editor de código y Shell**\n",
        "![editor]()\n",
        "\n",
        "<a href=\"#\"> <img style= \"float: right;\" src=\"https://raw.githubusercontent.com/trigila/cursopython-ini/master/curso/img/thonnyIDE.png\" width=\"300\" height=\"300\n",
        "\" /> </a>\n",
        "\n",
        "**Los iconos**\n",
        "\n",
        "<a href=\"#\"> <img style= \"float: right;\" src=\"https://raw.githubusercontent.com/trigila/cursopython-ini/master/curso/img/thonnyIDE_barra.png\" width=\"300\" height=\"60\" /> </a>\n",
        "<a href=\"#\"> <img style= \"float: right;\" src=\"/img/thonnyIDE_barra.png\" width=\"300\" height=\"60\" /> </a>\n",
        "\n",
        "\n",
        "\n"
      ]
    },
    {
      "cell_type": "markdown",
      "metadata": {
        "id": "UyAeuDDil690",
        "colab_type": "text"
      },
      "source": [
        "\n",
        "Un compilador lee el programa y lo traduce completamente antes de que el programa comience a ejecutarse. En este caso, el programa de alto nivel se llama código fuente y el programa traducido se llama código objeto o ejecutable . Una vez que se compila un programa, puede ejecutarlo repetidamente sin más traducción.\n",
        "\n",
        "![texto alternativo](https://runestone.academy/runestone/books/published/thinkcspy/_images/interpret.png)\n",
        "\n",
        "![texto alternativo](https://runestone.academy/runestone/books/published/thinkcspy/_images/compile.png)\n",
        "\n",
        "Muchos lenguajes modernos usan ambos procesos. Primero se compilan en un lenguaje de nivel inferior, llamado código de bytes , y luego son interpretados por un programa llamado máquina virtual . Python usa ambos procesos, pero debido a la forma en que los programadores interactúan con él, generalmente se considera un lenguaje interpretado.\n",
        "\n",
        "\n",
        "\n",
        "\n",
        "\n",
        "![](https://upload.wikimedia.org/wikipedia/commons/2/2d/Programming_language.png)\n",
        "\n",
        "![texto alternativo](https://upload.wikimedia.org/wikipedia/commons/thumb/e/e9/Programming.png/800px-Programming.png)\n",
        "\n",
        "\n",
        "\n",
        "![](https://encrypted-tbn0.gstatic.com/images?q=tbn:ANd9GcTo8Uqe1NSR0e8BEtvwCcWH2fyc_5Ltt2GMl6xpshjSOdXVd_5oOw)"
      ]
    },
    {
      "cell_type": "markdown",
      "metadata": {
        "id": "x0vS_h-Cj1Wm",
        "colab_type": "text"
      },
      "source": [
        ""
      ]
    },
    {
      "cell_type": "markdown",
      "metadata": {
        "id": "Jj2bGqVLj2hA",
        "colab_type": "text"
      },
      "source": [
        ""
      ]
    },
    {
      "cell_type": "markdown",
      "metadata": {
        "id": "aeVr9BRQd3BH",
        "colab_type": "text"
      },
      "source": [
        "Método de Pólya para resolver problemas de programación\n",
        "Para resolver un problema se necesita:\n",
        "\n",
        "Paso 1: Entender el problema\n",
        "¿Cuáles son las argumentos? ¿Cuál es el resultado? ¿Cuál es nombre de la función? ¿Cuál es su tipo?\n",
        "¿Cuál es la especificación del problema? ¿Puede satisfacerse la especificación? ¿Es insuficiente? ¿Redundante? ¿Contradictoria? ¿Qué restricciones se suponen sobre los argumentos y el resultado?\n",
        "¿Puedes descomponer el problema en partes? Puede ser útil dibujar diagramas con ejemplos de argumentos y resultados.\n",
        "Paso 2: Diseñar el programa\n",
        "¿Te has encontrado con un problema semejante? ¿O has visto el mismo problema planteado en forma ligeramente diferente?\n",
        "¿Conoces algún problema relacionado con éste? ¿Conoces alguna función que te pueda ser útil? Mira atentamente el tipo y trata de recordar un problema que sea familiar y que tenga el mismo tipo o un tipo similar.\n",
        "¿Conoces algún problema familiar con una especificación similar?\n",
        "He aquí un problema relacionado al tuyo y que ya has resuelto. ¿Puedes utilizarlo? ¿Puedes utilizar su resultado? ¿Puedes emplear su método? ¿Te hace falta introducir alguna función auxiliar a fin de poder utilizarlo?\n",
        "Si no puedes resolver el problema propuesto, trata de resolver primero algún problema similar. ¿Puedes imaginarte un problema análogo un tanto más accesible? ¿Un problema más general? ¿Un problema más particular? ¿Un problema análogo?\n",
        "¿Puede resolver una parte del problema? ¿Puedes deducir algún elemento útil de los datos? ¿Puedes pensar en algunos otros datos apropiados para determinar la incógnita? ¿Puedes cambiar la incógnita? ¿Puedes cambiar la incógnita o los datos, o ambos si es necesario, de tal forma que estén más cercanos entre sí?\n",
        "¿Has empleado todos los datos? ¿Has empleado todas las restricciones sobre los datos? ¿Has considerado todas los requisitos de la especificación?\n",
        "Paso 3: Escribir el programa\n",
        "Al escribir el programa, comprueba cada uno de los pasos y funciones auxiliares.\n",
        "¿Puedes ver claramente que cada paso o función auxiliar es correcta?\n",
        "Puedes escribir el programa en etapas. Piensas en los diferentes casos en los que se divide el problema; en particular, piensas en los diferentes casos para los datos. Puedes pensar en el cálculo de los casos independientemente y unirlos para obtener el resultado final\n",
        "Puedes pensar en la solución del problema descomponiéndolo en problemas con datos más simples y uniendo las soluciones parciales para obtener la solución del problema; esto es, por recursión.\n",
        "En su diseño se puede usar problemas más generales o más particulares. Escribe las soluciones de estos problemas; ellas puede servir como guía para la solución del problema original, o se pueden usar en su solución.\n",
        "¿Puedes apoyarte en otros problemas que has resuelto? ¿Pueden usarse? ¿Pueden modificarse? ¿Pueden guiar la solución del problema original?\n",
        "Paso 4: Examinar la solución obtenida\n",
        "¿Puedes comprobar el funcionamiento del programa sobre una colección de argumentos?\n",
        "¿Puedes comprobar propiedades del programa?\n",
        "¿Puedes escribir el programa en una forma diferente?\n",
        "¿Puedes emplear el programa o el método en algún otro programa?\n",
        "\n",
        "\n",
        "![texto alternativo](https://victorupiicsa2000.files.wordpress.com/2014/06/metodo-poyla3.png)\n",
        "\n",
        "![](http://eduteka.icesi.edu.co/imgbd/26/26-06/GraficaAnalisisProblema.jpg)\n",
        "\n"
      ]
    },
    {
      "cell_type": "markdown",
      "metadata": {
        "id": "JySkvf5ugW3l",
        "colab_type": "text"
      },
      "source": [
        "IDE \n",
        "(Entorno de desarrollo integrado)\n",
        "\n",
        "\n",
        "es una aplicación informática que proporciona servicios integrales para facilitarle al desarrollador o programador el desarrollo de software.\n",
        "\n",
        "Normalmente, un IDE consiste de un editor de código fuente, herramientas de construcción automáticas y un depurador.\n",
        "\n",
        "![thonny](https://thonny.org/img/screenshot.png)\n",
        "\n",
        "![Thonny](https://i0.wp.com/randomnerdtutorials.com/wp-content/uploads/2019/01/thonny-ide-Copy.png?zoom=1.1458333730697632&resize=527%2C416&ssl=1)\n",
        "\n",
        "\n",
        "La sección Editor es donde escribe su código y edita sus archivos .py . Puede abrir más de un archivo, y el Editor abrirá una nueva pestaña para cada archivo.\n",
        "\n",
        "La sección Shell proporcionala información sobre el estado de un programa en ejecución, muestra errores relacionados con la carga, errores de sintaxis, imprime mensajes de salida  de los programas., etc.\n",
        "Tambie puede se r utilizada para  ejecutar  comandos inmediatamente sin  necesidad de cargarlo en un archivo. \n",
        "\n",
        "\n",
        "\n",
        "\n",
        "\n"
      ]
    },
    {
      "cell_type": "markdown",
      "metadata": {
        "id": "KVEGHGdxv4Jd",
        "colab_type": "text"
      },
      "source": [
        "elementos del lenguaje\n",
        "\n",
        "https://docs.python.org/3/reference/lexical_analysis.html#line-structure\n",
        "\n"
      ]
    },
    {
      "cell_type": "markdown",
      "metadata": {
        "id": "Ib7ffJnWj4H_",
        "colab_type": "text"
      },
      "source": [
        "**Salida por pantalla: la función print()**\n",
        "http://www.mclibre.org/consultar/python/lecciones/python-salida-pantalla.html\n",
        "print(<obj>, ..., <obj>)\n",
        "\n",
        "Muestra una representación de cadena de cada uno <obj>en la consola.\n",
        "\n",
        "Salida estándar.\n",
        "La instrucción para desplegar información en la teminal de texto es print. En la versión 2 de Python, print es una palabra reservada, mientras que en Python 3 print() es una función, por lo que el contenido a desplegar siempre debe estar expresado como un parámetro dentro de la función, es decir, que debe estar entre paréntesis.\n",
        "\n",
        "Cuando print() incluye una expresión, ésta es evaluada antes de ser desplegada.\n",
        "Del mismo modo, print() puede desplegar varias expresiones separadas por comas.\n",
        "Ejemplos de print() en Python 3\n",
        "print(\"hola\")\n",
        "print(\"hola como va\")\n",
        "print(\"136\")\n",
        "print(136)\n"
      ]
    },
    {
      "cell_type": "markdown",
      "metadata": {
        "id": "Ab9pdqnxmLs5",
        "colab_type": "text"
      },
      "source": [
        "VARIABLES\n",
        "\n",
        "http://www.mclibre.org/consultar/python/lecciones/python-variables.html\n",
        "\n",
        "http://foobarnbaz.com/2012/07/08/understanding-python-variables/\n",
        "\n",
        "\n",
        "\n",
        "\n",
        "\n",
        "https://www.python-course.eu/python3_variables.php\n",
        "\n",
        "constantes\n",
        "https://docs.python.org/3/library/constants.html\n"
      ]
    },
    {
      "cell_type": "markdown",
      "metadata": {
        "id": "8-Z0_ROOnU3J",
        "colab_type": "text"
      },
      "source": [
        "tipos de datos\n",
        "\n",
        "str\n",
        "int\n",
        "float\n",
        "bool\n",
        "https://realpython.com/python-data-types/\n",
        "\n",
        "https://docs.python.org/3/library/stdtypes.html\n",
        "\n",
        "https://docs.python.org/3/reference/datamodel.html#objects-values-and-types\n"
      ]
    },
    {
      "cell_type": "markdown",
      "metadata": {
        "id": "UWQ3ACMUnNYy",
        "colab_type": "text"
      },
      "source": [
        "ENTRADA\n",
        "\n",
        "INPUT()\n",
        "\n",
        "\n",
        "entrada por teclado\n",
        "http://www.mclibre.org/consultar/python/lecciones/python-entrada-teclado.html"
      ]
    },
    {
      "cell_type": "markdown",
      "metadata": {
        "id": "3ODjL2TSnoaH",
        "colab_type": "text"
      },
      "source": [
        "OPERADORES\n",
        "\n",
        "+\n",
        "-\n",
        "*\n",
        "/\n",
        "\n",
        "ETC.."
      ]
    },
    {
      "cell_type": "code",
      "metadata": {
        "id": "HGRcJI44xaaa",
        "colab_type": "code",
        "outputId": "413cec62-2bf7-4cda-cf1e-31c022827d47",
        "colab": {
          "base_uri": "https://localhost:8080/",
          "height": 51
        }
      },
      "source": [
        "a=10\n",
        "b=input(\"ingrese: \")\n",
        "print(a,b)\n"
      ],
      "execution_count": 0,
      "outputs": [
        {
          "output_type": "stream",
          "text": [
            "ingrese: 133\n",
            "10 133\n"
          ],
          "name": "stdout"
        }
      ]
    },
    {
      "cell_type": "markdown",
      "metadata": {
        "collapsed": true,
        "id": "-0JThS_aN9yL",
        "colab_type": "text"
      },
      "source": [
        "\n",
        "---\n",
        "\n",
        "\n",
        "<p style=\"text-align: center\"><a rel=\"license\" href=\"http://creativecommons.org/licenses/by/4.0/\"><img alt=\"Licencia Creative Commons\" style=\"border-width:0\" src=\"https://i.creativecommons.org/l/by/4.0/80x15.png\" /></a><br />Esta obra está bajo una <a rel=\"license\" href=\"http://creativecommons.org/licenses/by/4.0/\">Licencia Creative Commons Atribución 4.0 Internacional</a>.</p>\n",
        "<p style=\"text-align: center\">&copy; Mariano Trigila. 2019.</p>"
      ]
    }
  ]
}